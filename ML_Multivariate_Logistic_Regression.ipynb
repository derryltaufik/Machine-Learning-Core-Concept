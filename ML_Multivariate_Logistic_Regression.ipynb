{
  "nbformat": 4,
  "nbformat_minor": 0,
  "metadata": {
    "colab": {
      "name": "ML_Multivariate Logistic Regression.ipynb",
      "provenance": []
    },
    "kernelspec": {
      "name": "python3",
      "display_name": "Python 3"
    }
  },
  "cells": [
    {
      "cell_type": "markdown",
      "metadata": {
        "id": "mAV98wAfx4WF"
      },
      "source": [
        "#**Multivariate Logistic Regression with sci-kit learn**\n",
        " \n",
        "In this notebook, we use logistic regression as a binary classifier (1/0). Before training the logistic regression model, we preprocess the data by doing normalization. since all the values are numerical, we don't net to hot encoding categorical data. <br> <br>\n",
        "In the last section, we also try to apply L1 & L2 regularization in our model and compare the result with the previous one (without regularization)\n"
      ]
    },
    {
      "cell_type": "markdown",
      "metadata": {
        "id": "g6gcZKrn5Oxo"
      },
      "source": [
        "##**I. Preparing The Dataset**\n",
        "\n"
      ]
    },
    {
      "cell_type": "markdown",
      "metadata": {
        "id": "_xv_ri356iX4"
      },
      "source": [
        "###**A. Importing the Dataset**\n",
        "\n",
        "In this case, we use a diabetes dataset downloaded from [here](https://www.kaggle.com/uciml/pima-indians-diabetes-database)\n",
        "\n",
        "However, since we use google colab, importing from kaggle is a bit burdensome. So, instead of importing directly from kaggle, we import the data [here](https://raw.githubusercontent.com/rrichajalota/Pima-Indians-Diabetes-kaggle/master/diabetes.csv) from github which was uploaded by rrichajalota. This .csv data can be easily read by pandas.\n",
        "\n",
        "Finally, conver the data type from pandas dataframe to numpy array because we will use numpy function later."
      ]
    },
    {
      "cell_type": "code",
      "metadata": {
        "id": "m-To9LlS_Xak"
      },
      "source": [
        "# importing the dataset\n",
        "import numpy as np\n",
        "import pandas as pd\n",
        "url = 'https://raw.githubusercontent.com/rrichajalota/Pima-Indians-Diabetes-kaggle/master/diabetes.csv'\n",
        "dataset = pd.read_csv(url)\n",
        "\n",
        "# there are 8 features in the dataset\n",
        "X = dataset.iloc[:, :8]\n",
        "Y = dataset.iloc[:, 8]\n",
        "X = X.to_numpy()\n",
        "Y = Y.to_numpy()"
      ],
      "execution_count": null,
      "outputs": []
    },
    {
      "cell_type": "markdown",
      "metadata": {
        "id": "ripIxlalQp0t"
      },
      "source": [
        "###**B. Normalization**\n",
        "\n",
        "Normalization is the process of adjusting values of various features with various scale and range so that every features have common scale and range.\n",
        "\n",
        "Normalization is useful to prevent one feature dominating the other feature\n",
        "\n",
        "For example, imagine we have 3 features to classify whether a house is worth to buy or not: \n",
        "1. The area (ranging from 10 $m^2$ to 150 $m^2$\n",
        "2. The distance to city center (ranging from 0 km to 20 km)\n",
        "3. The price (ranging from Rp. 700.000.000 to Rp. 5.000.000.000)\n",
        "\n",
        "Notice that the value of price is much bigger than the other value. This will raise some problem in the training step since the price feature is dominating the other features in the beginning of the training.\n",
        "\n",
        "<br>\n",
        "So, that's why we use normalization."
      ]
    },
    {
      "cell_type": "markdown",
      "metadata": {
        "id": "gAnx0eU2Tg2I"
      },
      "source": [
        "There are several methods for normalization, but the 2 most common method are standardization and min max scaling.<br>\n",
        "\n",
        "For more information regarding normalization, please read [this](https://towardsdatascience.com/scale-standardize-or-normalize-with-scikit-learn-6ccc7d176a02) article."
      ]
    },
    {
      "cell_type": "markdown",
      "metadata": {
        "id": "sUic9SyHUFPK"
      },
      "source": [
        "####**1. Min-Max Scaling**\n",
        "also known as Min-Max Normalization. This is the simplest normalization technique. The normalized value will be between 0 and 1 [0,1].\n",
        "<br>\n",
        "\n",
        "**For each feature/column**, we update each value/row by using this formula:\n",
        "\n",
        "$x' = \\frac{x - min(x)}{max(x) - min(x)}$\n",
        "\n",
        "where: <br>\n",
        "$x'$ = new scaled value <br>\n",
        "$x$ = old value <br>\n",
        "$min(x)$ = smallest value of a feature/column in the dataset <br>\n",
        "$max(x)$ = biggest value of a feature/column in the dataset <br>"
      ]
    },
    {
      "cell_type": "code",
      "metadata": {
        "id": "O_r-qRWRTfA1"
      },
      "source": [
        "# manual min-max scaling\n",
        "# reference: https://machinelearningmastery.com/scale-machine-learning-data-scratch-python/\n",
        "def minMaxScale(dataset):\n",
        "    \n",
        "    #find the minimum and maximum value for each column/fetaure\n",
        "    minimum = list()\n",
        "    maximum = list()\n",
        "    for i in range(len(dataset[0])):\n",
        "        col_values = [row[i] for row in dataset]\n",
        "        minimum.append( min(col_values) )\n",
        "        maximum.append( max(col_values) )\n",
        "    \n",
        "    #update the value for each column, according to the min max scaling formula\n",
        "    for row in dataset:\n",
        "        for i in range(len(row)):\n",
        "            row[i] = (row[i] - minimum[i]) / (maximum[i] - minimum[i])\n",
        "    \n",
        "    return dataset\n",
        "  \n",
        "X = minMaxScale(X)"
      ],
      "execution_count": null,
      "outputs": []
    },
    {
      "cell_type": "markdown",
      "metadata": {
        "id": "t6ey33APVULV"
      },
      "source": [
        "We can also use min max scaling using scikit library"
      ]
    },
    {
      "cell_type": "code",
      "metadata": {
        "id": "nDJN5KXLVbrI"
      },
      "source": [
        "# min-max scaling using scikit library\n",
        "from sklearn.preprocessing import MinMaxScaler\n",
        "minmaxscaler = MinMaxScaler()\n",
        "X = minmaxscaler.fit_transform(X)"
      ],
      "execution_count": null,
      "outputs": []
    },
    {
      "cell_type": "markdown",
      "metadata": {
        "id": "Ps5ERGJYYb_W"
      },
      "source": [
        "####**2. Standardization**\n",
        "also known as Standard Scaling / Z-norm Normalization. In this method, the mean / average value of each column / feature will be zero (or approaching 0) and the standard deviation will be 1 (or approaching 1). Simply said, the data will follow the normal distribution N(0,1). This method is arguably the best method for most dataset.\n",
        "<br>\n",
        "\n",
        "**For each feature/column**, we update each value/row by using this formula:\n",
        "\n",
        "$z = \\frac{x - \\mu}{\\sigma }$\n",
        "\n",
        "where: <br>\n",
        "$z$ = new scaled value <br>\n",
        "$x$ = old value <br>\n",
        "$\\mu$ = average value of a feature/column in the dataset <br>\n",
        "$\\sigma$ = standard deviation value of a feature/column in the dataset <br>"
      ]
    },
    {
      "cell_type": "code",
      "metadata": {
        "id": "pp3FbxQwaznZ"
      },
      "source": [
        "# manual standardization\n",
        "# reference: https://machinelearningmastery.com/scale-machine-learning-data-scratch-python/\n",
        "def standardize(dataset):\n",
        "    \n",
        "    #find the mean/average value of each column/feature\n",
        "    from math import sqrt\n",
        "    means = [0 for i in range(len(dataset[0]))]\n",
        "    for i in range(len(dataset[0])):\n",
        "        col_values = [row[i] for row in dataset]\n",
        "        means[i] = sum(col_values) / float(len(dataset))\n",
        "    \n",
        "    #find the standard deviation value of each column/feature\n",
        "    stdevs = [0 for i in range(len(dataset[0]))]\n",
        "    for i in range(len(dataset[0])):\n",
        "        variance = [pow(row[i]-means[i], 2) for row in dataset]\n",
        "        stdevs[i] = sum(variance)\n",
        "    stdevs = [sqrt(x/(float(len(dataset)-1))) for x in stdevs]\n",
        "    \n",
        "    #uptdate the value for each column, according to the standardization formula\n",
        "    for row in dataset:\n",
        "        for i in range(len(row)):\n",
        "            row[i] = (row[i] - means[i]) / stdevs[i]\n",
        "    \n",
        "    return dataset\n",
        "\n",
        "X = standardize(X)"
      ],
      "execution_count": null,
      "outputs": []
    },
    {
      "cell_type": "markdown",
      "metadata": {
        "id": "YZPCB55na4gI"
      },
      "source": [
        "We can also use standardizer using scikit library"
      ]
    },
    {
      "cell_type": "code",
      "metadata": {
        "id": "hpxKD6w9bAxP"
      },
      "source": [
        "# standardization using scikit library   \n",
        "from sklearn.preprocessing import StandardScaler\n",
        "standardizer = StandardScaler()\n",
        "X = standardizer.fit_transform(X)"
      ],
      "execution_count": null,
      "outputs": []
    },
    {
      "cell_type": "markdown",
      "metadata": {
        "id": "MaowF2Waj8fr"
      },
      "source": [
        "###**C. Splitting The Dataset**\n",
        "\n",
        "Next, we split the data into training set and test set.<br>\n",
        "\n",
        "In this case we split the dataset into 20% test set and 80% train set. We can use scikit library to simplify this process.\n",
        "![image.png](data:image/png;base64,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)"
      ]
    },
    {
      "cell_type": "code",
      "metadata": {
        "id": "Daaipg7hkbwB"
      },
      "source": [
        "# spliting the data using scikit library\n",
        "from sklearn.model_selection import train_test_split\n",
        "# set the random_state to 0 to make the split consistant every runtime\n",
        "X_train, X_test, Y_train, Y_test = train_test_split(X,Y,test_size = 0.2, random_state = 0)"
      ],
      "execution_count": null,
      "outputs": []
    },
    {
      "cell_type": "markdown",
      "metadata": {
        "id": "ZDCojR4VlK0J"
      },
      "source": [
        "Now, our dataset is ready to be used for our model. Here is the preview of our dataset."
      ]
    },
    {
      "cell_type": "code",
      "metadata": {
        "id": "_n4-svXZlWwu",
        "colab": {
          "base_uri": "https://localhost:8080/",
          "height": 385
        },
        "outputId": "a15d5ac8-eca5-4246-df9a-b9f716aa7c96"
      },
      "source": [
        "print(X_train[:5])\n",
        "print(Y_train[:5])\n",
        "print(X_test[:5])\n",
        "print(Y_test[:5])"
      ],
      "execution_count": null,
      "outputs": [
        {
          "output_type": "stream",
          "text": [
            "[[ 0.93691372  0.91091809  0.45982725  0.53090156  0.40115431  0.40708356\n",
            "   0.66479969  1.76634642]\n",
            " [ 0.04601433 -0.74783062 -0.47073225  0.15453319 -0.69289057 -0.48135115\n",
            "  -0.08720986 -0.95646168]\n",
            " [-1.14185152  1.38037527  1.08020025  0.7818138   5.21147866  2.57740266\n",
            "  -0.13553176 -0.87137393]\n",
            " [-0.84488505 -0.37226487 -0.67752325  0.02907707  0.47930038 -0.86210889\n",
            "   1.09063642 -0.87137393]\n",
            " [ 1.23388019 -0.02799627 -3.57259724 -1.28821221 -0.69289057 -0.25289651\n",
            "  -0.87244072  0.40494237]]\n",
            "[1 0 0 0 1]\n",
            "[[-0.84488505  2.44447821  0.35643175  1.40909441 -0.69289057  1.38436175\n",
            "   2.784923   -0.95646168]\n",
            " [-0.54791859 -0.43485916  0.25303625  0.59362962  0.17539902  0.20401277\n",
            "  -0.20499449 -0.87137393]\n",
            " [ 0.04601433 -1.40507067 -0.36733675 -1.28821221 -0.69289057  0.25478047\n",
            "  -0.24425603 -0.70119842]\n",
            " [ 0.3429808   1.41167241  0.14964075 -0.09637905  0.82661621 -0.78595734\n",
            "   0.34768723  1.51108316]\n",
            " [-1.14185152 -0.30967058 -0.2122435  -1.28821221 -0.69289057 -0.93826044\n",
            "   0.56815589 -0.19067191]]\n",
            "[1 0 0 1 0]\n"
          ],
          "name": "stdout"
        }
      ]
    },
    {
      "cell_type": "markdown",
      "metadata": {
        "id": "qmm7cp9HmIru"
      },
      "source": [
        "##**II. Training The Model**\n",
        "\n",
        "*note: In this discussion, we use the normalized dataset using standardization* <br><br>\n",
        "Logistic regression is developed from linear regression. The goal of logistic regression is to classify, while the goal of linear regression is to predict a value.\n",
        "\n",
        "It's explained clearly in [this](https://towardsdatascience.com/introduction-to-logistic-regression-66248243c148) article.\n",
        "\n",
        "In summary: <br>\n",
        "we have a hypothesis function/ probability function\n",
        "\n",
        "$h_\\theta (X) = \\frac{1}{1+ e^{-(\\beta_0- \\beta_1X)}}$\n",
        "\n",
        "where: <br>\n",
        "$\\beta_0$ = matrix of bias <br>\n",
        "$\\beta_1$ = matrix of weight/parameter for each features <br>\n",
        "$X$ = matrix of features <br>\n",
        "\n",
        "we also have a cost function\n",
        "\n",
        "$Cost(h_\\theta(X), Y )\n",
        "\\left\\{\\begin{matrix}\n",
        "-log(h_\\theta(X)) & y =1\\\\ \n",
        "-log(1-h_\\theta(X)) &  y = 0 \n",
        "\\end{matrix}\\right.$\n",
        "\n",
        "And our goal is minimizing the cost function\n",
        "\n",
        "We can use scikit library to make & train our model\n",
        "\n",
        "In this step, make sure not to apply regularization since we want to compare with using regularization later.\n",
        "\n",
        "Read more information about scikit's LogisticRegression [here](https://scikit-learn.org/stable/modules/generated/sklearn.linear_model.LogisticRegression.html)\n"
      ]
    },
    {
      "cell_type": "code",
      "metadata": {
        "id": "gSp0Nz1rY4zs",
        "colab": {
          "base_uri": "https://localhost:8080/",
          "height": 100
        },
        "outputId": "a698ae44-3455-4ac6-fa6f-58d19dc3dc6f"
      },
      "source": [
        "from sklearn.linear_model import LogisticRegression\n",
        "\n",
        "# set penalty = None to disable the regularization\n",
        "classifier = LogisticRegression(penalty = 'none', solver = \"lbfgs\")\n",
        "classifier.fit(X_train,Y_train)"
      ],
      "execution_count": null,
      "outputs": [
        {
          "output_type": "execute_result",
          "data": {
            "text/plain": [
              "LogisticRegression(C=1.0, class_weight=None, dual=False, fit_intercept=True,\n",
              "                   intercept_scaling=1, l1_ratio=None, max_iter=100,\n",
              "                   multi_class='auto', n_jobs=None, penalty='none',\n",
              "                   random_state=None, solver='lbfgs', tol=0.0001, verbose=0,\n",
              "                   warm_start=False)"
            ]
          },
          "metadata": {
            "tags": []
          },
          "execution_count": 8
        }
      ]
    },
    {
      "cell_type": "markdown",
      "metadata": {
        "id": "wJxDGecwyzqE"
      },
      "source": [
        "##**III. Result and Evaluation**\n",
        "\n",
        "###**A. Result**\n",
        "After the model is trained on the training dataset, now let's predict the test dataset.\n"
      ]
    },
    {
      "cell_type": "code",
      "metadata": {
        "id": "X7R_drHTzUCs"
      },
      "source": [
        "Y_pred = classifier.predict(X_test)"
      ],
      "execution_count": null,
      "outputs": []
    },
    {
      "cell_type": "markdown",
      "metadata": {
        "id": "5ctstP4ez0CH"
      },
      "source": [
        "###**B. Evaluation**\n",
        "\n",
        "Prepare the library"
      ]
    },
    {
      "cell_type": "code",
      "metadata": {
        "id": "8GxAi4Brz4XA"
      },
      "source": [
        "from sklearn.metrics import confusion_matrix, accuracy_score, precision_score, recall_score, f1_score"
      ],
      "execution_count": null,
      "outputs": []
    },
    {
      "cell_type": "markdown",
      "metadata": {
        "id": "N147ia3RzaXn"
      },
      "source": [
        "####**1. Confusion Matrix**\n",
        "\n",
        "![image.png](data:image/png;base64,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)"
      ]
    },
    {
      "cell_type": "code",
      "metadata": {
        "id": "1nAk8MvOzps-",
        "colab": {
          "base_uri": "https://localhost:8080/",
          "height": 50
        },
        "outputId": "140f9fcb-ea83-41bc-949d-4939b8f04514"
      },
      "source": [
        "cm = confusion_matrix(Y_test,Y_pred)\n",
        "print(cm)"
      ],
      "execution_count": null,
      "outputs": [
        {
          "output_type": "stream",
          "text": [
            "[[98  9]\n",
            " [18 29]]\n"
          ],
          "name": "stdout"
        }
      ]
    },
    {
      "cell_type": "markdown",
      "metadata": {
        "id": "UCUJgOCG0Q9j"
      },
      "source": [
        "So, there are: <br>\n",
        "98 True Negative <br>\n",
        "9 False Positive <br>\n",
        "18 False Negative <br>\n",
        "29 True Positive <br>"
      ]
    },
    {
      "cell_type": "markdown",
      "metadata": {
        "id": "oZTE1zdy0tO1"
      },
      "source": [
        "####**2. Accuracy**\n"
      ]
    },
    {
      "cell_type": "markdown",
      "metadata": {
        "id": "wbaSAwwy1Cch"
      },
      "source": [
        "$Accuracy = \\frac{TN + TP}{ TN + TP + FP + FN}$"
      ]
    },
    {
      "cell_type": "code",
      "metadata": {
        "id": "yPUtQUlp1Qi6",
        "colab": {
          "base_uri": "https://localhost:8080/",
          "height": 33
        },
        "outputId": "3e5197a3-aa1b-4b22-e022-c2c2cb39b91b"
      },
      "source": [
        "accuracy = accuracy_score(Y_test,Y_pred)\n",
        "print(accuracy)"
      ],
      "execution_count": null,
      "outputs": [
        {
          "output_type": "stream",
          "text": [
            "0.8246753246753247\n"
          ],
          "name": "stdout"
        }
      ]
    },
    {
      "cell_type": "markdown",
      "metadata": {
        "id": "CSepau2A1Um_"
      },
      "source": [
        "####**3. Precision**\n"
      ]
    },
    {
      "cell_type": "markdown",
      "metadata": {
        "id": "JKnSOLnn20NJ"
      },
      "source": [
        "$Precision = \\frac{TP}{TP + FP}$"
      ]
    },
    {
      "cell_type": "code",
      "metadata": {
        "id": "xDiCI3gM28yt",
        "colab": {
          "base_uri": "https://localhost:8080/",
          "height": 33
        },
        "outputId": "94a51f0a-676c-45c7-a5cc-6c18ec381c32"
      },
      "source": [
        "precision = precision_score(Y_test, Y_pred)\n",
        "print(precision)"
      ],
      "execution_count": null,
      "outputs": [
        {
          "output_type": "stream",
          "text": [
            "0.7631578947368421\n"
          ],
          "name": "stdout"
        }
      ]
    },
    {
      "cell_type": "markdown",
      "metadata": {
        "id": "zsuv1aS71Vv-"
      },
      "source": [
        "####**4. Recall**\n"
      ]
    },
    {
      "cell_type": "markdown",
      "metadata": {
        "id": "qWe4XImq3hnj"
      },
      "source": [
        "$Recall = \\frac{TP}{TP + FN}$"
      ]
    },
    {
      "cell_type": "code",
      "metadata": {
        "id": "c6lZ039o4tWa",
        "colab": {
          "base_uri": "https://localhost:8080/",
          "height": 33
        },
        "outputId": "0e45d992-80e6-4ee1-f925-beb0152017c7"
      },
      "source": [
        "recall = recall_score(Y_test, Y_pred)\n",
        "print(recall)"
      ],
      "execution_count": null,
      "outputs": [
        {
          "output_type": "stream",
          "text": [
            "0.6170212765957447\n"
          ],
          "name": "stdout"
        }
      ]
    },
    {
      "cell_type": "markdown",
      "metadata": {
        "id": "gtA8IRo91V4j"
      },
      "source": [
        "####**5. F1**\n"
      ]
    },
    {
      "cell_type": "markdown",
      "metadata": {
        "id": "Z4ljpcfk7f1P"
      },
      "source": [
        "$F1 = 2*\\frac{(recall*precision)}{recal+precision}$"
      ]
    },
    {
      "cell_type": "code",
      "metadata": {
        "id": "MKgN5v607YIi",
        "colab": {
          "base_uri": "https://localhost:8080/",
          "height": 33
        },
        "outputId": "bb63ed84-b288-4f8d-b6c3-c67f751aac24"
      },
      "source": [
        "f1 = f1_score(Y_test, Y_pred)\n",
        "print(f1)"
      ],
      "execution_count": null,
      "outputs": [
        {
          "output_type": "stream",
          "text": [
            "0.6823529411764706\n"
          ],
          "name": "stdout"
        }
      ]
    },
    {
      "cell_type": "markdown",
      "metadata": {
        "id": "LU4LWqQTUhrq"
      },
      "source": [
        "#**Improving The Model With Regularization**\n",
        "\n",
        "Previously, we are not implementing regularization in our model.\n",
        "\n",
        "Regularization is a technique to prevent overfitting. <br>\n",
        "\n",
        "![image.png](data:image/png;base64,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)\n",
        "\n",
        "<br>\n",
        "To regularize, add a regularization term (regularizer) to the loss function.\n",
        "\n",
        "$min\\sum_{i=1}^{n}Cost(h_\\theta(x_i), y_i ) + \\lambda R(h_\\theta)$\n",
        "\n",
        "Where: <br>\n",
        "$R(h_\\theta)$ is the reqularization term / regularizer <br>\n",
        "$\\lambda$ is a paramater of how important the regularization term is <br>\n",
        "\n",
        "To understand more about regularization:\n",
        "1. https://www.coursera.org/learn/machine-learning/lecture/4VDlf/regularization-and-bias-variance\n",
        "2. https://en.wikipedia.org/wiki/Regularization_(mathematics)\n",
        "3. https://towardsdatascience.com/regularization-in-machine-learning-76441ddcf99a\n",
        "<br>\n",
        "\n",
        "Note that there are 2 most common regularizer, which are Ridge Regression (a.k.a. L2 norm) and Lasso (a.k.a. L1 norm).\n",
        "\n",
        "We will try to use both and compare them with previou method"
      ]
    },
    {
      "cell_type": "markdown",
      "metadata": {
        "id": "mCfgV1LzUseJ"
      },
      "source": [
        "##**I. Using Ridge Regression**\n",
        "\n",
        "Since the dataset is the same, we don't need to prepare the dataset first"
      ]
    },
    {
      "cell_type": "code",
      "metadata": {
        "id": "ltKVxpwaUnbJ",
        "colab": {
          "base_uri": "https://localhost:8080/",
          "height": 134
        },
        "outputId": "811abbed-84c2-4091-c776-472edeb76c6f"
      },
      "source": [
        "from sklearn.linear_model import LogisticRegression\n",
        "# set penalty = l2 to enable \n",
        "classifier = LogisticRegression(penalty = 'l2', solver = \"lbfgs\", C=0.03)\n",
        "classifier.fit(X_train,Y_train)\n",
        "\n",
        "\n",
        "Y_pred = classifier.predict(X_test)\n",
        "\n",
        "from sklearn.metrics import confusion_matrix, accuracy_score, precision_score, recall_score, f1_score\n",
        "cm = confusion_matrix(Y_test,Y_pred)\n",
        "accuracy = accuracy_score(Y_test,Y_pred)\n",
        "precision = precision_score(Y_test, Y_pred)\n",
        "recall = recall_score(Y_test, Y_pred)\n",
        "f1 = f1_score(Y_test, Y_pred)\n",
        "\n",
        "\n",
        "print(\"Confusion matrix:\\n\",cm)\n",
        "print(\"accuracy:\" ,accuracy)\n",
        "print(\"precision:\",precision)\n",
        "print(\"recall:\",recall)\n",
        "print(\"f1:\", f1)"
      ],
      "execution_count": null,
      "outputs": [
        {
          "output_type": "stream",
          "text": [
            "Confusion matrix:\n",
            " [[100   7]\n",
            " [ 19  28]]\n",
            "accuracy: 0.8311688311688312\n",
            "precision: 0.8\n",
            "recall: 0.5957446808510638\n",
            "f1: 0.6829268292682927\n"
          ],
          "name": "stdout"
        }
      ]
    },
    {
      "cell_type": "markdown",
      "metadata": {
        "id": "R7I78RqyVNeM"
      },
      "source": [
        "##**II. Using Lasso**\n",
        "\n",
        "Since the dataset is the same, we don't need to prepare the dataset first"
      ]
    },
    {
      "cell_type": "code",
      "metadata": {
        "id": "AslQs7wbVSqr",
        "colab": {
          "base_uri": "https://localhost:8080/",
          "height": 134
        },
        "outputId": "f577bdf4-ed83-4a6b-f273-2364ef6146d5"
      },
      "source": [
        "from sklearn.linear_model import LogisticRegression\n",
        "# set penalty = l2 to enable \n",
        "classifier = LogisticRegression(penalty = 'l1', solver = \"saga\", C=0.03)\n",
        "classifier.fit(X_train,Y_train)\n",
        "\n",
        "\n",
        "Y_pred = classifier.predict(X_test)\n",
        "\n",
        "from sklearn.metrics import confusion_matrix, accuracy_score, precision_score, recall_score, f1_score\n",
        "cm = confusion_matrix(Y_test,Y_pred)\n",
        "accuracy = accuracy_score(Y_test,Y_pred)\n",
        "precision = precision_score(Y_test, Y_pred)\n",
        "recall = recall_score(Y_test, Y_pred)\n",
        "f1 = f1_score(Y_test, Y_pred)\n",
        "\n",
        "\n",
        "print(\"Confusion matrix:\\n\",cm)\n",
        "print(\"accuracy:\" ,accuracy)\n",
        "print(\"precision:\",precision)\n",
        "print(\"recall:\",recall)\n",
        "print(\"f1:\", f1)\n"
      ],
      "execution_count": null,
      "outputs": [
        {
          "output_type": "stream",
          "text": [
            "Confusion matrix:\n",
            " [[97 10]\n",
            " [23 24]]\n",
            "accuracy: 0.7857142857142857\n",
            "precision: 0.7058823529411765\n",
            "recall: 0.5106382978723404\n",
            "f1: 0.5925925925925926\n"
          ],
          "name": "stdout"
        }
      ]
    },
    {
      "cell_type": "markdown",
      "metadata": {
        "id": "1yNTJNbUXD3I"
      },
      "source": [
        "#**Result and Conclusion**\n",
        "\n",
        "the accuracy is improved using ridge regression regularization. However, the accuracy decreased by using lasso. <br>\n",
        "\n",
        "**In conclusion, regularization could improve the performance of our model**. However, the hardest part is finding the optimal $\\lambda$, if the $\\lambda$ is too big, then the regularizer will dominate the cost function. On the other hand, if the $\\lambda$ is too small, the regularizer won't be significant.\n",
        "\n",
        "**So, regularization can improve the model if the $\\lambda$ is optimal.**"
      ]
    }
  ]
}