{
  "nbformat": 4,
  "nbformat_minor": 0,
  "metadata": {
    "colab": {
      "name": "ML_GMM.ipynb",
      "provenance": [],
      "collapsed_sections": [],
      "toc_visible": true
    },
    "kernelspec": {
      "display_name": "Python 3",
      "language": "python",
      "name": "python3"
    },
    "language_info": {
      "codemirror_mode": {
        "name": "ipython",
        "version": 3
      },
      "file_extension": ".py",
      "mimetype": "text/x-python",
      "name": "python",
      "nbconvert_exporter": "python",
      "pygments_lexer": "ipython3",
      "version": "3.7.6"
    }
  },
  "cells": [
    {
      "cell_type": "markdown",
      "metadata": {
        "id": "tFr3s1eh9_Mi"
      },
      "source": [
        "# Gaussian Mixture Models Implementation\n",
        "\n",
        "source: https://towardsdatascience.com/gaussian-mixture-models-explained-6986aaf5a95"
      ]
    },
    {
      "cell_type": "code",
      "metadata": {
        "id": "irGOL_Dcw8ja"
      },
      "source": [
        "import imageio\n",
        "import matplotlib.animation as ani\n",
        "import matplotlib.cm as cmx\n",
        "import matplotlib.colors as colors\n",
        "import matplotlib.pyplot as plt\n",
        "import numpy as np\n",
        "\n",
        "from matplotlib.patches import Ellipse\n",
        "from PIL import Image"
      ],
      "execution_count": null,
      "outputs": []
    },
    {
      "cell_type": "markdown",
      "metadata": {
        "id": "hN_TKq1kVRJT"
      },
      "source": [
        "Define the dataset:"
      ]
    },
    {
      "cell_type": "code",
      "metadata": {
        "id": "mcCzJFnT_fRQ",
        "scrolled": true,
        "colab": {
          "base_uri": "https://localhost:8080/",
          "height": 145
        },
        "outputId": "d5b9ff71-c9c9-4d9e-d099-b7532cab08fe"
      },
      "source": [
        "X = np.asarray([[1,1],[1.5,2],[3,4],[5,7],[3.5,5],[4.5,5],[3.5,4.5]])\n",
        "print(X)"
      ],
      "execution_count": null,
      "outputs": [
        {
          "output_type": "stream",
          "text": [
            "[[1.  1. ]\n",
            " [1.5 2. ]\n",
            " [3.  4. ]\n",
            " [5.  7. ]\n",
            " [3.5 5. ]\n",
            " [4.5 5. ]\n",
            " [3.5 4.5]]\n"
          ],
          "name": "stdout"
        }
      ]
    },
    {
      "cell_type": "markdown",
      "metadata": {
        "id": "Vgz6E8z9VaVJ"
      },
      "source": [
        "Gaussian:\n",
        "\n",
        "\\begin{equation}\n",
        "\\large\n",
        "p(\\mathbf x | \\mathbf\\mu, \\mathbf\\Sigma) = \\frac 1 {({2\\pi})^{n/2}|\\Sigma|^{1/2}}\\exp\\left(-\\frac 1 2 (\\mathbf x  \\mathbf\\mu)^T\\mathbf\\Sigma^{-1}(\\mathbf x -\\mathbf\\mu)\\right)\n",
        "\\end{equation}\n"
      ]
    },
    {
      "cell_type": "code",
      "metadata": {
        "id": "Wk9WlrFVHtcN"
      },
      "source": [
        "def gaussian(X, mu, cov):\n",
        "    diff = (X - mu).T\n",
        "    return np.diagonal(1 / ((2 * np.pi) * np.linalg.det(cov) ** 0.5) * np.exp(-0.5 * np.dot(np.dot(diff.T, np.linalg.inv(cov)), diff))).reshape(-1, 1)"
      ],
      "execution_count": null,
      "outputs": []
    },
    {
      "cell_type": "markdown",
      "metadata": {
        "id": "NsxI7u2NXpWY"
      },
      "source": [
        "__Step 1: Initialize the clusters__ "
      ]
    },
    {
      "cell_type": "code",
      "metadata": {
        "id": "XEZjEtUqRfgG"
      },
      "source": [
        "def initialize_clusters(X, n_clusters):\n",
        "    clusters = []\n",
        "    \n",
        "    mu_k = [[3,4],[3.5,5],[3.5,4.5]]\n",
        "    \n",
        "    for i in range(n_clusters):\n",
        "        clusters.append({\n",
        "            'pi_k': 1.0 / n_clusters,\n",
        "            'mu_k': mu_k[i],\n",
        "            'cov_k': np.identity(X.shape[1], dtype=np.float64)\n",
        "        })\n",
        "        \n",
        "    return clusters"
      ],
      "execution_count": null,
      "outputs": []
    },
    {
      "cell_type": "markdown",
      "metadata": {
        "id": "b4HIKt0OYCex"
      },
      "source": [
        "**Step 2: Expectation step**"
      ]
    },
    {
      "cell_type": "code",
      "metadata": {
        "id": "78Xqp2nSGugd"
      },
      "source": [
        "def expectation_step(X, clusters):\n",
        "    totals = np.zeros((X.shape[0], 1), dtype=np.float64)\n",
        "    \n",
        "    for cluster in clusters:\n",
        "        pi_k = cluster['pi_k']\n",
        "        mu_k = cluster['mu_k']\n",
        "        cov_k = cluster['cov_k']\n",
        "        \n",
        "        gamma_nk = (pi_k * gaussian(X, mu_k, cov_k)).astype(np.float64)\n",
        "        \n",
        "        for i in range(X.shape[0]):\n",
        "            totals[i] += gamma_nk[i]\n",
        "        \n",
        "        cluster['gamma_nk'] = gamma_nk\n",
        "        cluster['totals'] = totals\n",
        "        \n",
        "    \n",
        "    for cluster in clusters:\n",
        "        cluster['gamma_nk'] /= cluster['totals']"
      ],
      "execution_count": null,
      "outputs": []
    },
    {
      "cell_type": "markdown",
      "metadata": {
        "id": "_VHT5Ph1ZAFu"
      },
      "source": [
        "**Step 3: Maximization step**\n"
      ]
    },
    {
      "cell_type": "code",
      "metadata": {
        "id": "7Z7K5jrEJHHu"
      },
      "source": [
        "def maximization_step(X, clusters):\n",
        "    N = float(X.shape[0])\n",
        "  \n",
        "    for cluster in clusters:\n",
        "        gamma_nk = cluster['gamma_nk']\n",
        "        cov_k = np.zeros((X.shape[1], X.shape[1]))\n",
        "        \n",
        "        N_k = np.sum(gamma_nk, axis=0)\n",
        "        \n",
        "        pi_k = N_k / N\n",
        "        mu_k = np.sum(gamma_nk * X, axis=0) / N_k\n",
        "        \n",
        "        for j in range(X.shape[0]):\n",
        "            diff = (X[j] - mu_k).reshape(-1, 1)\n",
        "            cov_k += gamma_nk[j] * np.dot(diff, diff.T)\n",
        "            \n",
        "        cov_k /= N_k\n",
        "        \n",
        "        cluster['pi_k'] = pi_k\n",
        "        cluster['mu_k'] = mu_k\n",
        "        cluster['cov_k'] = cov_k"
      ],
      "execution_count": null,
      "outputs": []
    },
    {
      "cell_type": "markdown",
      "metadata": {
        "id": "vW3KNV8OxmAW"
      },
      "source": [
        "**Step 4: Evaluate Log-Likelihood**\n"
      ]
    },
    {
      "cell_type": "code",
      "metadata": {
        "id": "vzVrZY6PTMR8"
      },
      "source": [
        "def get_likelihood(X, clusters):\n",
        "    likelihood = []\n",
        "    sample_likelihoods = np.log(np.array([cluster['totals'] for cluster in clusters]))\n",
        "    return np.sum(sample_likelihoods), sample_likelihoods"
      ],
      "execution_count": null,
      "outputs": []
    },
    {
      "cell_type": "markdown",
      "metadata": {
        "id": "oGSkyh33bNu8"
      },
      "source": [
        "To train the model:"
      ]
    },
    {
      "cell_type": "code",
      "metadata": {
        "id": "9qWFzpI3Uq-9"
      },
      "source": [
        "def train_gmm(X, n_clusters, n_epochs):\n",
        "    clusters = initialize_clusters(X, n_clusters)\n",
        "    likelihoods = np.zeros((n_epochs, ))\n",
        "    scores = np.zeros((X.shape[0], n_clusters))\n",
        "    history = []\n",
        "\n",
        "    for i in range(n_epochs):\n",
        "        clusters_snapshot = []\n",
        "        \n",
        "        # This is just for our later use in the graphs\n",
        "        for cluster in clusters:\n",
        "            clusters_snapshot.append({\n",
        "                'mu_k': cluster['mu_k'].copy(),\n",
        "                'cov_k': cluster['cov_k'].copy()\n",
        "            })\n",
        "            \n",
        "        history.append(clusters_snapshot)\n",
        "      \n",
        "        expectation_step(X, clusters)\n",
        "        maximization_step(X, clusters)\n",
        "\n",
        "        likelihood, sample_likelihoods = get_likelihood(X, clusters)\n",
        "        likelihoods[i] = likelihood\n",
        "\n",
        "        print('Epoch: ', i + 1, 'Likelihood: ', likelihood)\n",
        "        \n",
        "    for i, cluster in enumerate(clusters):\n",
        "        scores[:, i] = np.log(cluster['gamma_nk']).reshape(-1)\n",
        "        \n",
        "    return clusters, likelihoods, scores, sample_likelihoods, history"
      ],
      "execution_count": null,
      "outputs": []
    },
    {
      "cell_type": "markdown",
      "metadata": {
        "id": "QqhgdUKrbUrf"
      },
      "source": [
        "Train the model:"
      ]
    },
    {
      "cell_type": "code",
      "metadata": {
        "id": "5h10mICZGwrh",
        "colab": {
          "base_uri": "https://localhost:8080/",
          "height": 90
        },
        "outputId": "868bee43-ded6-4242-ed2c-7dfd738699d2"
      },
      "source": [
        "n_clusters = 3\n",
        "n_epochs = 4\n",
        "\n",
        "clusters, likelihoods, scores, sample_likelihoods, history = train_gmm(X, n_clusters, n_epochs)"
      ],
      "execution_count": null,
      "outputs": [
        {
          "output_type": "stream",
          "text": [
            "Epoch:  1 Likelihood:  -89.3359459780626\n",
            "Epoch:  2 Likelihood:  -43.738746454693576\n",
            "Epoch:  3 Likelihood:  -39.35760897752192\n",
            "Epoch:  4 Likelihood:  -37.87179348226463\n"
          ],
          "name": "stdout"
        }
      ]
    },
    {
      "cell_type": "markdown",
      "metadata": {
        "id": "Ho3efim_bYxk"
      },
      "source": [
        "Plot the log-likelihood:"
      ]
    },
    {
      "cell_type": "code",
      "metadata": {
        "id": "YV_9LG2WLGeZ",
        "colab": {
          "base_uri": "https://localhost:8080/",
          "height": 607
        },
        "outputId": "da884431-6b55-450a-bdba-011788e45218"
      },
      "source": [
        "plt.figure(figsize=(10, 10))\n",
        "plt.title('Log-Likelihood')\n",
        "plt.plot(np.arange(1, n_epochs + 1), likelihoods)\n",
        "plt.show()"
      ],
      "execution_count": null,
      "outputs": [
        {
          "output_type": "display_data",
          "data": {
            "image/png": "[encoded data removed]",
            "text/plain": [
              "<Figure size 720x720 with 1 Axes>"
            ]
          },
          "metadata": {
            "tags": [],
            "needs_background": "light"
          }
        }
      ]
    },
    {
      "cell_type": "markdown",
      "metadata": {
        "id": "M0DrlH4Gx2Rv"
      },
      "source": [
        "Draw simulation:\n"
      ]
    },
    {
      "cell_type": "code",
      "metadata": {
        "id": "eR5RLqt9HEzp",
        "colab": {
          "base_uri": "https://localhost:8080/",
          "height": 592
        },
        "outputId": "9a54f6f9-6a63-495d-c27e-6018863dab64"
      },
      "source": [
        "def create_cluster_animation(X, history, scores):\n",
        "    fig, ax = plt.subplots(1, 1, figsize=(10, 10))\n",
        "    colorset = ['blue', 'red', 'black']\n",
        "    images = []\n",
        "    \n",
        "    for j, clusters in enumerate(history):\n",
        "      \n",
        "        idx = 0\n",
        "      \n",
        "        \n",
        "        plt.cla()\n",
        "        \n",
        "        for cluster in clusters:\n",
        "            mu = cluster['mu_k']\n",
        "            cov = cluster['cov_k']\n",
        "\n",
        "            eigenvalues, eigenvectors = np.linalg.eigh(cov)\n",
        "            order = eigenvalues.argsort()[::-1]\n",
        "            eigenvalues, eigenvectors = eigenvalues[order], eigenvectors[:, order]\n",
        "            vx, vy = eigenvectors[:,0][0], eigenvectors[:,0][1]\n",
        "            theta = np.arctan2(vy, vx)\n",
        "\n",
        "            color = colors.to_rgba(colorset[idx])\n",
        "\n",
        "            for cov_factor in range(1, 4):\n",
        "                ell = Ellipse(xy=mu, width=np.sqrt(eigenvalues[0]) * cov_factor * 2, height=np.sqrt(eigenvalues[1]) * cov_factor * 2, angle=np.degrees(theta), linewidth=2)\n",
        "                ell.set_facecolor((color[0], color[1], color[2], 1.0 / (cov_factor * 4.5)))\n",
        "                ax.add_artist(ell)\n",
        "\n",
        "            ax.scatter(cluster['mu_k'][0], cluster['mu_k'][1], c=colorset[idx], s=1000, marker='+')\n",
        "            idx += 1\n",
        "\n",
        "        for i in range(X.shape[0]):\n",
        "            ax.scatter(X[i, 0], X[i, 1], c=colorset[np.argmax(scores[i])], marker='o')\n",
        "        \n",
        "        fig.canvas.draw()\n",
        "        \n",
        "        image = np.frombuffer(fig.canvas.tostring_rgb(), dtype='uint8')\n",
        "        image = image.reshape(fig.canvas.get_width_height()[::-1] + (3,))\n",
        "\n",
        "        images.append(image)\n",
        "    \n",
        "    kwargs_write = {'fps':1.0, 'quantizer':'nq'}\n",
        "    imageio.mimsave('./gmm.gif', images, fps=1)\n",
        "    plt.show(Image.open('gmm.gif').convert('RGB'))\n",
        "    \n",
        "    \n",
        "create_cluster_animation(X, history, scores)"
      ],
      "execution_count": null,
      "outputs": [
        {
          "output_type": "display_data",
          "data": {
            "image/png": "[encoded data removed]",
            "text/plain": [
              "<Figure size 720x720 with 1 Axes>"
            ]
          },
          "metadata": {
            "tags": [],
            "needs_background": "light"
          }
        }
      ]
    }
  ]
}