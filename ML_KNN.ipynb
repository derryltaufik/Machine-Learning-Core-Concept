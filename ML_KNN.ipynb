{
  "nbformat": 4,
  "nbformat_minor": 0,
  "metadata": {
    "kernelspec": {
      "display_name": "Python 3",
      "language": "python",
      "name": "python3"
    },
    "language_info": {
      "codemirror_mode": {
        "name": "ipython",
        "version": 3
      },
      "file_extension": ".py",
      "mimetype": "text/x-python",
      "name": "python",
      "nbconvert_exporter": "python",
      "pygments_lexer": "ipython3",
      "version": "3.7.6"
    },
    "colab": {
      "name": "ML_KNN.ipynb",
      "provenance": []
    }
  },
  "cells": [
    {
      "cell_type": "markdown",
      "metadata": {
        "id": "GJ2Hc4PC0R_r"
      },
      "source": [
        "Original code:"
      ]
    },
    {
      "cell_type": "code",
      "metadata": {
        "id": "aRSQGlQH0R_s",
        "outputId": "4a5c60eb-aaa2-44fb-e8b9-83e647c10808"
      },
      "source": [
        "from random import seed\n",
        "from random import randrange\n",
        "from csv import reader\n",
        "from math import sqrt\n",
        "\n",
        "# Load a CSV file\n",
        "def load_csv(filename):\n",
        "\tdataset = list()\n",
        "\twith open(filename, 'r') as file:\n",
        "\t\tcsv_reader = reader(file)\n",
        "\t\tfor row in csv_reader:\n",
        "\t\t\tif not row:\n",
        "\t\t\t\tcontinue\n",
        "\t\t\tdataset.append(row)\n",
        "\treturn dataset\n",
        "\n",
        "# Convert string column to float\n",
        "def str_column_to_float(dataset, column):\n",
        "\tfor row in dataset:\n",
        "\t\trow[column] = float(row[column].strip())\n",
        "\n",
        "# Convert string column to integer\n",
        "def str_column_to_int(dataset, column):\n",
        "\tclass_values = [row[column] for row in dataset]\n",
        "\tunique = set(class_values)\n",
        "\tlookup = dict()\n",
        "\tfor i, value in enumerate(unique):\n",
        "\t\tlookup[value] = i\n",
        "\tfor row in dataset:\n",
        "\t\trow[column] = lookup[row[column]]\n",
        "\treturn lookup\n",
        "\n",
        "# Find the min and max values for each column\n",
        "def dataset_minmax(dataset):\n",
        "\tminmax = list()\n",
        "\tfor i in range(len(dataset[0])):\n",
        "\t\tcol_values = [row[i] for row in dataset]\n",
        "\t\tvalue_min = min(col_values)\n",
        "\t\tvalue_max = max(col_values)\n",
        "\t\tminmax.append([value_min, value_max])\n",
        "\treturn minmax\n",
        "\n",
        "# Rescale dataset columns to the range 0-1\n",
        "def normalize_dataset(dataset, minmax):\n",
        "\tfor row in dataset:\n",
        "\t\tfor i in range(len(row)):\n",
        "\t\t\trow[i] = (row[i] - minmax[i][0]) / (minmax[i][1] - minmax[i][0])\n",
        "\n",
        "# Split a dataset into k folds\n",
        "def cross_validation_split(dataset, n_folds):\n",
        "\tdataset_split = list()\n",
        "\tdataset_copy = list(dataset)\n",
        "\tfold_size = int(len(dataset) / n_folds)\n",
        "\tfor _ in range(n_folds):\n",
        "\t\tfold = list()\n",
        "\t\twhile len(fold) < fold_size:\n",
        "\t\t\tindex = randrange(len(dataset_copy))\n",
        "\t\t\tfold.append(dataset_copy.pop(index))\n",
        "\t\tdataset_split.append(fold)\n",
        "\treturn dataset_split\n",
        "\n",
        "# Calculate accuracy percentage\n",
        "def accuracy_metric(actual, predicted):\n",
        "\tcorrect = 0\n",
        "\tfor i in range(len(actual)):\n",
        "\t\tif actual[i] == predicted[i]:\n",
        "\t\t\tcorrect += 1\n",
        "\treturn correct / float(len(actual)) * 100.0\n",
        "\n",
        "# Evaluate an algorithm using a cross validation split\n",
        "def evaluate_algorithm(dataset, algorithm, n_folds, *args):\n",
        "\tfolds = cross_validation_split(dataset, n_folds)\n",
        "\tscores = list()\n",
        "\tfor fold in folds:\n",
        "\t\ttrain_set = list(folds)\n",
        "\t\ttrain_set.remove(fold)\n",
        "\t\ttrain_set = sum(train_set, [])\n",
        "\t\ttest_set = list()\n",
        "\t\tfor row in fold:\n",
        "\t\t\trow_copy = list(row)\n",
        "\t\t\ttest_set.append(row_copy)\n",
        "\t\t\trow_copy[-1] = None\n",
        "\t\tpredicted = algorithm(train_set, test_set, *args)\n",
        "\t\tactual = [row[-1] for row in fold]\n",
        "\t\taccuracy = accuracy_metric(actual, predicted)\n",
        "\t\tscores.append(accuracy)\n",
        "\treturn scores\n",
        "\n",
        "# Calculate the Euclidean distance between two vectors\n",
        "def euclidean_distance(row1, row2):\n",
        "\tdistance = 0.0\n",
        "\tfor i in range(len(row1)-1):\n",
        "\t\tdistance += (row1[i] - row2[i])**2\n",
        "\treturn sqrt(distance)\n",
        "\n",
        "# Locate the most similar neighbors\n",
        "def get_neighbors(train, test_row, num_neighbors):\n",
        "\tdistances = list()\n",
        "\tfor train_row in train:\n",
        "\t\tdist = euclidean_distance(test_row, train_row)\n",
        "\t\tdistances.append((train_row, dist))\n",
        "\tdistances.sort(key=lambda tup: tup[1])\n",
        "\tneighbors = list()\n",
        "\tfor i in range(num_neighbors):\n",
        "\t\tneighbors.append(distances[i][0])\n",
        "\treturn neighbors\n",
        "\n",
        "# Make a prediction with neighbors\n",
        "def predict_classification(train, test_row, num_neighbors):\n",
        "\tneighbors = get_neighbors(train, test_row, num_neighbors)\n",
        "\toutput_values = [row[-1] for row in neighbors]\n",
        "\tprediction = max(set(output_values), key=output_values.count)\n",
        "\treturn prediction\n",
        "\n",
        "# kNN Algorithm\n",
        "def k_nearest_neighbors(train, test, num_neighbors):\n",
        "\tpredictions = list()\n",
        "\tfor row in test:\n",
        "\t\toutput = predict_classification(train, row, num_neighbors)\n",
        "\t\tpredictions.append(output)\n",
        "\treturn(predictions)\n",
        "# Test the kNN on the Iris Flowers dataset\n",
        "seed(1)\n",
        "filename = 'iris_data.csv'\n",
        "dataset = load_csv(filename)\n",
        "for i in range(len(dataset[0])-1):\n",
        "\tstr_column_to_float(dataset, i)\n",
        "# convert class column to integers\n",
        "str_column_to_int(dataset, len(dataset[0])-1)\n",
        "# evaluate algorithm\n",
        "n_folds = 5\n",
        "num_neighbors = 5\n",
        "scores = evaluate_algorithm(dataset, k_nearest_neighbors, n_folds, num_neighbors)\n",
        "print('Scores: %s' % scores)\n",
        "print('Mean Accuracy: %.3f%%' % (sum(scores)/float(len(scores))))"
      ],
      "execution_count": null,
      "outputs": [
        {
          "output_type": "stream",
          "text": [
            "Scores: [96.66666666666667, 96.66666666666667, 100.0, 90.0, 100.0]\n",
            "Mean Accuracy: 96.667%\n"
          ],
          "name": "stdout"
        }
      ]
    },
    {
      "cell_type": "markdown",
      "metadata": {
        "id": "vUUc6wXV0R_x"
      },
      "source": [
        "# **Reviewing the dataset**"
      ]
    },
    {
      "cell_type": "markdown",
      "metadata": {
        "id": "dGeIJ9y30R_x"
      },
      "source": [
        "Let's review our dataset first to understand our dataset. "
      ]
    },
    {
      "cell_type": "code",
      "metadata": {
        "id": "jkcxV-rU0R_y",
        "outputId": "4d232822-0960-4258-e167-30d0565ea185"
      },
      "source": [
        "dataset = load_csv(filename)\n",
        "\n",
        "print('number of data: ', len(dataset))\n",
        "\n",
        "for i in range(len(dataset[0])):\n",
        "    print('value of feature #', i+1, '=', dataset[0][i])\n",
        "    "
      ],
      "execution_count": null,
      "outputs": [
        {
          "output_type": "stream",
          "text": [
            "number of data:  150\n",
            "value of feature # 1 = 5.1\n",
            "value of feature # 2 = 3.5\n",
            "value of feature # 3 = 1.4\n",
            "value of feature # 4 = 0.2\n",
            "value of feature # 5 = Iris-setosa\n"
          ],
          "name": "stdout"
        }
      ]
    },
    {
      "cell_type": "markdown",
      "metadata": {
        "id": "jOn1R26b0R_0"
      },
      "source": [
        "So, our dataset consists of 150 data containing 5 features. 4 features are continuous numerical and 1 feature is nominal categorical. Because there is a nominal categorical value, we need to encode those values."
      ]
    },
    {
      "cell_type": "code",
      "metadata": {
        "id": "60JZjPKc0R_1",
        "outputId": "499cb9d4-660a-4777-edfa-de121e0a21e5"
      },
      "source": [
        "for i in range(len(dataset[0])-1):\n",
        "\tstr_column_to_float(dataset, i)\n",
        "# convert class column to integers\n",
        "str_column_to_int(dataset, len(dataset[0])-1)"
      ],
      "execution_count": null,
      "outputs": [
        {
          "output_type": "execute_result",
          "data": {
            "text/plain": [
              "{'Iris-versicolor': 0, 'Iris-virginica': 1, 'Iris-setosa': 2}"
            ]
          },
          "metadata": {
            "tags": []
          },
          "execution_count": 3
        }
      ]
    },
    {
      "cell_type": "markdown",
      "metadata": {
        "id": "MNZ-AtGA0R_4"
      },
      "source": [
        "# **1. Choosing the K value**"
      ]
    },
    {
      "cell_type": "markdown",
      "metadata": {
        "id": "KmD-UmcF0R_8"
      },
      "source": [
        "Although there are no exact answer on how to decide the K, it is suggested set the number of k to be around $\\sqrt{n}$, where n is the number of data in our training data. So, in our case, the optimal value of K should lie between $\\sqrt{120}$, which is around 11. So, let's check if that is true by iterating the k value from 1 to 120:"
      ]
    },
    {
      "cell_type": "code",
      "metadata": {
        "id": "2O2q1sMC0R_9",
        "outputId": "1d77821d-3be7-45b7-8a92-56a52cbd5926"
      },
      "source": [
        "performance = list()\n",
        "for i in range (1,121):\n",
        "    num_neighbors = i\n",
        "    scores = evaluate_algorithm(dataset, k_nearest_neighbors, n_folds, num_neighbors)\n",
        "    mean_score = (sum(scores)/float(len(scores)))\n",
        "    #print('K: ', i,' Mean Accuracy: %.3f%%'  %mean_score)\n",
        "    performance.append(mean_score)\n",
        "    \n",
        "\n",
        "from matplotlib import pyplot as plt\n",
        "\n",
        "print('maximum accuracy: ', max(performance), '%% with K value: ', performance.index(max(performance))+1)\n",
        "\n",
        "\n",
        "plt.title('Accuracy')\n",
        "plt.plot(performance)"
      ],
      "execution_count": null,
      "outputs": [
        {
          "output_type": "stream",
          "text": [
            "maximum accuracy:  98.00000000000001 %% with K value:  10\n"
          ],
          "name": "stdout"
        },
        {
          "output_type": "execute_result",
          "data": {
            "text/plain": [
              "[<matplotlib.lines.Line2D at 0x1f3ffa7b408>]"
            ]
          },
          "metadata": {
            "tags": []
          },
          "execution_count": 4
        },
        {
          "output_type": "display_data",
          "data": {
            "image/png": "[encoded data removed]",
            "text/plain": [
              "<Figure size 432x288 with 1 Axes>"
            ]
          },
          "metadata": {
            "tags": [],
            "needs_background": "light"
          }
        }
      ]
    },
    {
      "cell_type": "markdown",
      "metadata": {
        "id": "Ed3Vc8Zw0SAA"
      },
      "source": [
        "So, based on the result above, the optimal value of K lies between 9-11, which accuracy is slightly better than the previous one if the value of K is 5. However, larger K doesn't always mean better since at some point it will overfit to the training data."
      ]
    },
    {
      "cell_type": "markdown",
      "metadata": {
        "id": "6cqIyH1E0SAA"
      },
      "source": [
        "# **2. Regression using multivariate linear regression**"
      ]
    },
    {
      "cell_type": "markdown",
      "metadata": {
        "id": "M-8805bP0SAB"
      },
      "source": [
        "Since regression can't be used for classifying, we can't use the original target (iris-setosa,virginica,versicolor) to apply regression. Instead, we will use the fourth feature (fourth column) which is continuous numerical as the target value. In this case, we will use multivariate linear regression with gradient descent.\n",
        "\n",
        "\n",
        "Our multiple linear legression can be written as: <br>\n",
        "### $ y = \\beta_0  + \\beta_1x_{1} + \\beta_2x_{2} + \\beta_3x_{3}$ <br><br>\n",
        "y is the predicted value, beta is the weight of corresponding feature, x is the value of the feature. \n",
        "\n",
        "note : x0 will be created with all 1 value to be multiplied by beta0\n",
        "\n",
        "First, let's preapare our dataset:\n"
      ]
    },
    {
      "cell_type": "code",
      "metadata": {
        "scrolled": true,
        "id": "-l3F-Z2K0SAB",
        "outputId": "fc35500c-9a0c-40ad-89b5-8a759b05d704"
      },
      "source": [
        "import pandas as pd\n",
        "\n",
        "dataset = pd.DataFrame(load_csv(filename))\n",
        "dataset.columns=['X1','X2','X3','Y',' ']\n",
        "\n",
        "X= dataset.iloc[:, :3].astype('float')\n",
        "new_col = [1.0]*len(X)\n",
        "X.insert(loc=0, column = 'X0' ,value=new_col)\n",
        "\n",
        "Y = dataset.iloc[:,3].astype('float')\n",
        "\n",
        "beta = pd.DataFrame([0.0]*len(X.columns))\n",
        "\n",
        "print(X.join(Y))\n",
        "print(beta)"
      ],
      "execution_count": null,
      "outputs": [
        {
          "output_type": "stream",
          "text": [
            "      X0   X1   X2   X3    Y\n",
            "0    1.0  5.1  3.5  1.4  0.2\n",
            "1    1.0  4.9  3.0  1.4  0.2\n",
            "2    1.0  4.7  3.2  1.3  0.2\n",
            "3    1.0  4.6  3.1  1.5  0.2\n",
            "4    1.0  5.0  3.6  1.4  0.2\n",
            "..   ...  ...  ...  ...  ...\n",
            "145  1.0  6.7  3.0  5.2  2.3\n",
            "146  1.0  6.3  2.5  5.0  1.9\n",
            "147  1.0  6.5  3.0  5.2  2.0\n",
            "148  1.0  6.2  3.4  5.4  2.3\n",
            "149  1.0  5.9  3.0  5.1  1.8\n",
            "\n",
            "[150 rows x 5 columns]\n",
            "     0\n",
            "0  0.0\n",
            "1  0.0\n",
            "2  0.0\n",
            "3  0.0\n"
          ],
          "name": "stdout"
        }
      ]
    },
    {
      "cell_type": "markdown",
      "metadata": {
        "id": "GkJ5QwPR0SAE"
      },
      "source": [
        "Now that the data is ready, we can implement the gradient descent! Here, we are using SGD, which means the beta values will be updated each row evaluated. For this example, we will use 0.0001 learning rate and 100 epoches. Beta will be updated based on this formula:\n",
        "\n",
        "$Loss = (y_{predicted} - y_{actual})^2$\n",
        "\n",
        "$\\frac{\\partial Loss}{\\partial \\beta_i} = 2(y_{predicted}-y_{actual})x_i$\n",
        "\n",
        "$\\beta_i \\leftarrow \\beta_i - \\eta \\frac{\\partial Loss}{\\partial \\beta_i}$\n",
        "\n",
        "$\\beta_i \\leftarrow \\beta_i - \\eta (2 (y_{predicted}-y_{actual})x_i)$\n",
        "\n",
        "where $\\eta$ is the learning rate (0.0001)"
      ]
    },
    {
      "cell_type": "code",
      "metadata": {
        "id": "am7GZRkS0SAF",
        "outputId": "fed2caa7-38cf-47ed-9447-bda92aaab8cc"
      },
      "source": [
        "epochs = 100\n",
        "learning_rate = 0.0001\n",
        "\n",
        "size = int(len(Y))\n",
        "\n",
        "X = X.values\n",
        "Y = Y.values\n",
        "beta = beta.values\n",
        "\n",
        "from sklearn.metrics import mean_squared_error\n",
        "\n",
        "rmse_record = []\n",
        "for iter in range(epochs):\n",
        "    for row in range(size):\n",
        "        Y_pred = 0.0\n",
        "        for column in range(4):\n",
        "            Y_pred += float(beta[column]* X[row][column])\n",
        "        \n",
        "        D_beta = [0.0]*4\n",
        "        for column in range(4):\n",
        "            D_beta[column] = float((2) * (Y_pred- Y[row]) * X[row][column])\n",
        "            beta[column] = beta[column] - learning_rate * D_beta[column]\n",
        "        \n",
        "    Y_pred = []\n",
        "    \n",
        "    for row in range(size):\n",
        "        temp_prediction = 0.0\n",
        "        for column in range(4):\n",
        "            temp_prediction += float(beta[column]* X[row][column] )\n",
        "        \n",
        "        Y_pred.append(temp_prediction)\n",
        "    \n",
        "    rmse_record.append(mean_squared_error(Y_pred,Y)) \n",
        "\n",
        "        \n",
        "print('So, the beta values after training are:\\n',beta)\n",
        "print('And the RMSE is ' + str(rmse_record[iter]))\n",
        "        \n",
        "import matplotlib.pyplot as plt\n",
        "plt.title('RMSE record')\n",
        "plt.xlabel('epoch')\n",
        "plt.ylabel('RMSE')\n",
        "plt.plot(rmse_record)"
      ],
      "execution_count": null,
      "outputs": [
        {
          "output_type": "stream",
          "text": [
            "So, the beta values after training are:\n",
            " [[-0.03132166]\n",
            " [-0.00559379]\n",
            " [-0.08590342]\n",
            " [ 0.41456748]]\n",
            "And the RMSE is 0.04726747633199269\n"
          ],
          "name": "stdout"
        },
        {
          "output_type": "execute_result",
          "data": {
            "text/plain": [
              "[<matplotlib.lines.Line2D at 0x1f3f6bc2288>]"
            ]
          },
          "metadata": {
            "tags": []
          },
          "execution_count": 6
        },
        {
          "output_type": "display_data",
          "data": {
            "image/png": "[encoded data removed]",
            "text/plain": [
              "<Figure size 432x288 with 1 Axes>"
            ]
          },
          "metadata": {
            "tags": [],
            "needs_background": "light"
          }
        }
      ]
    },
    {
      "cell_type": "markdown",
      "metadata": {
        "id": "GA6wQ4y90SAH"
      },
      "source": [
        "So, our multiple linear legression can be written as: <br>\n",
        "### $ y = -0.03132166 + -0.00559379x_{1} + -0.08590342x_{2} + 0.41456748x_{3}$ <br><br>\n",
        "\n",
        "notice that the third feature has the highest beta value, which means the feature 3 is more strongly related with our target value!"
      ]
    },
    {
      "cell_type": "markdown",
      "metadata": {
        "id": "HJisqBJ10SAI"
      },
      "source": [
        "# **2. Regression using KNN**"
      ]
    },
    {
      "cell_type": "markdown",
      "metadata": {
        "id": "by7nNgKX0SAI"
      },
      "source": [
        "Since regression can't be used for classifying, we can't use the original target (iris-setosa,virginica,versicolor) to apply regression. Instead, we will use the fourth feature (fourth column) which is continuous numerical as the target value. Actually regression in KNN is straightforward, we just need to calculate the average value of the K nearest neighbor. \n",
        "\n",
        "For example, our K is 5 and we want to predict the value of x, and the nearest neighbors of our test data is A, B, C, D, E. A value of x is 5, B is 4, C is 3, D is 3.5, and E is 1. The predicted value of our test data is:\n",
        "\n",
        "<br>\n",
        "$predicted = \\frac{5 + 4+3+3.5+1}{5}$ <br>\n",
        "$predicted = \\frac{16.5}{5}$ <br>\n",
        "$predicted = 3.3$ <br>\n",
        "\n"
      ]
    },
    {
      "cell_type": "code",
      "metadata": {
        "id": "Pn7myl5O0SAJ",
        "outputId": "1168f678-1407-4a86-c04b-eb4b03956670"
      },
      "source": [
        "# Make a prediction with neighbors\n",
        "def predict_value(train, test_row, num_neighbors):\n",
        "\tneighbors = get_neighbors(train, test_row, num_neighbors)\n",
        "\toutput_values = [row[-1] for row in neighbors]\n",
        "\tprediction = sum(output_values)/len(output_values)\n",
        "\treturn prediction\n",
        "\n",
        "def k_nearest_neighbors_regression(train, test, num_neighbors):\n",
        "\tpredictions = list()\n",
        "\tfor row in test:\n",
        "\t\toutput = predict_value(train, row, num_neighbors)\n",
        "\t\tpredictions.append(output)\n",
        "\treturn(predictions)\n",
        "from sklearn.metrics import mean_squared_error\n",
        "\n",
        "def evaluate_algorithm(dataset, algorithm, n_folds, *args):\n",
        "\tfolds = cross_validation_split(dataset, n_folds)\n",
        "\terrors = list()\n",
        "\tfor fold in folds:\n",
        "\t\ttrain_set = list(folds)\n",
        "\t\ttrain_set.remove(fold)\n",
        "\t\ttrain_set = sum(train_set, [])\n",
        "\t\ttest_set = list()\n",
        "\t\tfor row in fold:\n",
        "\t\t\trow_copy = list(row)\n",
        "\t\t\ttest_set.append(row_copy)\n",
        "\t\t\trow_copy[-1] = None\n",
        "\t\tpredicted = algorithm(train_set, test_set, *args)\n",
        "\t\tactual = [row[-1] for row in fold]\n",
        "\t\tRMSE = mean_squared_error(actual, predicted)\n",
        "\t\terrors.append(RMSE)\n",
        "\treturn errors\n",
        "\t\n",
        "    \n",
        "dataset = load_csv(filename)\n",
        "\n",
        "#deleting the 5th column\n",
        "import numpy as np\n",
        "dataset = np.delete(dataset,4, axis =1).astype(float).tolist()\n",
        "\n",
        "num_neighbors = 5\n",
        "list_RMSE = evaluate_algorithm(dataset, k_nearest_neighbors_regression, n_folds, num_neighbors)\n",
        "\n",
        "print('RMSEs: %s' % list_RMSE)\n",
        "print('Average RMSE: ' , (sum(list_RMSE)/float(len(list_RMSE))))"
      ],
      "execution_count": null,
      "outputs": [
        {
          "output_type": "stream",
          "text": [
            "RMSEs: [0.028426666666666673, 0.03556, 0.03692000000000002, 0.03966666666666666, 0.02764]\n",
            "Average RMSE:  0.03364266666666667\n"
          ],
          "name": "stdout"
        }
      ]
    },
    {
      "cell_type": "markdown",
      "metadata": {
        "id": "cC3iZxNS0SAM"
      },
      "source": [
        "Just like the previous one, we will try to find the optimal value of K:"
      ]
    },
    {
      "cell_type": "code",
      "metadata": {
        "id": "4--jbl0g0SAN",
        "outputId": "93c8b66b-3dc6-4c6c-d7f2-27f012f1e720"
      },
      "source": [
        "dataset = load_csv(filename)\n",
        "\n",
        "#deleting the 5th column\n",
        "import numpy as np\n",
        "dataset = np.delete(dataset,4, axis =1).astype(float).tolist()\n",
        "\n",
        "list_errors = list()\n",
        "for i in range (1,121):\n",
        "    num_neighbors = i\n",
        "    list_RMSE = evaluate_algorithm(dataset, k_nearest_neighbors_regression, n_folds, num_neighbors)\n",
        "    mean_errors = (sum(list_RMSE)/float(len(list_RMSE)))\n",
        "    #print('K: ', i,' Mean Errors: %.3f' %mean_errors)\n",
        "    list_errors.append(mean_errors)\n",
        "    \n",
        "\n",
        "from matplotlib import pyplot as plt\n",
        "\n",
        "print('minimum error: ', min(list_errors), 'with K value: ', list_errors.index(min(list_errors))+1)\n",
        "\n",
        "plt.title('Errors')\n",
        "plt.plot(list_errors)"
      ],
      "execution_count": null,
      "outputs": [
        {
          "output_type": "stream",
          "text": [
            "minimum error:  0.03373935185185184 with K value:  12\n"
          ],
          "name": "stdout"
        },
        {
          "output_type": "execute_result",
          "data": {
            "text/plain": [
              "[<matplotlib.lines.Line2D at 0x1f38bb68b88>]"
            ]
          },
          "metadata": {
            "tags": []
          },
          "execution_count": 8
        },
        {
          "output_type": "display_data",
          "data": {
            "image/png": "[encoded data removed]",
            "text/plain": [
              "<Figure size 432x288 with 1 Axes>"
            ]
          },
          "metadata": {
            "tags": [],
            "needs_background": "light"
          }
        }
      ]
    },
    {
      "cell_type": "markdown",
      "metadata": {
        "id": "odDhuclD0SAQ"
      },
      "source": [
        "And just like the classification model, the optimal value of K for our regression model is also around 11! The error is about 0.05, which is pretty good."
      ]
    },
    {
      "cell_type": "markdown",
      "metadata": {
        "id": "IjieuzvI0SAR"
      },
      "source": [
        "# **3. Testing Different Distance Metrics**"
      ]
    },
    {
      "cell_type": "markdown",
      "metadata": {
        "id": "bUDZgo8w0SAS"
      },
      "source": [
        "We will try hamming, manhattan and minkowski distance metrics. Before that, we need to redefine some function so that it can use different distance metrics. We are taking advantage of the args variable to pass the distance variable"
      ]
    },
    {
      "cell_type": "code",
      "metadata": {
        "id": "IZ11LOgg0SAS"
      },
      "source": [
        "## Evaluate an algorithm using a cross validation split\n",
        "def evaluate_algorithm(dataset, algorithm, n_folds, *args):\n",
        "\tfolds = cross_validation_split(dataset, n_folds)\n",
        "\tscores = list()\n",
        "\tfor fold in folds:\n",
        "\t\ttrain_set = list(folds)\n",
        "\t\ttrain_set.remove(fold)\n",
        "\t\ttrain_set = sum(train_set, [])\n",
        "\t\ttest_set = list()\n",
        "\t\tfor row in fold:\n",
        "\t\t\trow_copy = list(row)\n",
        "\t\t\ttest_set.append(row_copy)\n",
        "\t\t\trow_copy[-1] = None\n",
        "\t\tpredicted = algorithm(train_set, test_set, *args)\n",
        "\t\tactual = [row[-1] for row in fold]\n",
        "\t\taccuracy = accuracy_metric(actual, predicted)\n",
        "\t\tscores.append(accuracy)\n",
        "\treturn scores\n",
        "\n",
        "# Locate the most similar neighbors\n",
        "def get_neighbors(train, test_row, num_neighbors, distance):\n",
        "\tdistances = list()\n",
        "\tfor train_row in train:\n",
        "\t\tdist = distance(test_row, train_row) #distance is now flexible\n",
        "\t\tdistances.append((train_row, dist))\n",
        "\tdistances.sort(key=lambda tup: tup[1])\n",
        "\tneighbors = list()\n",
        "\tfor i in range(num_neighbors):\n",
        "\t\tneighbors.append(distances[i][0])\n",
        "\treturn neighbors\n",
        "\n",
        "# Make a prediction with neighbors\n",
        "def predict_classification(train, test_row, num_neighbors, distance):\n",
        "\tneighbors = get_neighbors(train, test_row, num_neighbors, distance)\n",
        "\toutput_values = [row[-1] for row in neighbors]\n",
        "\tprediction = max(set(output_values), key=output_values.count)\n",
        "\treturn prediction\n",
        "\n",
        "# kNN Algorithm\n",
        "def k_nearest_neighbors(train, test, num_neighbors, distance):\n",
        "\tpredictions = list()\n",
        "\tfor row in test:\n",
        "\t\toutput = predict_classification(train, row, num_neighbors, distance)\n",
        "\t\tpredictions.append(output)\n",
        "\treturn(predictions)"
      ],
      "execution_count": null,
      "outputs": []
    },
    {
      "cell_type": "markdown",
      "metadata": {
        "id": "MHMCX3jB0SAU"
      },
      "source": [
        "## **a. Hamming Distance**\n",
        "\n",
        "hamming distance is calculated using this formula:\n",
        "\n",
        "### $hamming(X,Y)= {\\sum_{i=1}^{n} x_i != y_i }  $,\n",
        "\n",
        "*note: \"!=\" return 1 if the left and right operand are different, return 0 otherwise.\n",
        "\n",
        "Because hamming distance is only applicable on categorical data and all of our features are numeric, we need to discretize our dataset. Discretizaion aims to convert continuous numerical data type into categorical data type. The discretization method that we will use is binning, with 15 number of bins for each feature."
      ]
    },
    {
      "cell_type": "code",
      "metadata": {
        "id": "8eFpgnSl0SAV",
        "outputId": "6d2d9e84-d7bd-4233-f969-5b3405c0b61d"
      },
      "source": [
        "def create_bins(lower_bound, upper_bound, quantity):\n",
        "    \n",
        "    delta = (upper_bound-lower_bound)/(quantity)\n",
        "    \n",
        "    temp = lower_bound\n",
        "    bins = []\n",
        "    for i in range(quantity+1):\n",
        "        bins.append(temp)\n",
        "        temp+= delta\n",
        "    return bins\n",
        "\n",
        "def discretize( df, num_bins):\n",
        "    i = 0\n",
        "    for (columnName, columnData) in df.iteritems():\n",
        "        if(columnName == 4):\n",
        "            break\n",
        "        minimum = min(columnData.values)\n",
        "        maximum = max(columnData.values)\n",
        "        print('Colunm Name : ', columnName)\n",
        "        print('Minimum Value: ', minimum)\n",
        "        print('Maximum Value: ', maximum)\n",
        "        bins = create_bins(float(minimum),float(maximum),int(num_bins))\n",
        "        print('Bins for column ' + str(columnName) + ':')\n",
        "\n",
        "        print(bins)\n",
        "        print('previous values: ', columnData.values)\n",
        "\n",
        "        columnData =pd.cut(x = columnData.astype(float),\n",
        "                            bins = bins, \n",
        "                            labels = [i for i in range(1,num_bins+1)] )\n",
        "\n",
        "        print('new values after binning: ', columnData.values,'\\n\\n')\n",
        "        df.iloc[:,i]= columnData.values\n",
        "        i +=1\n",
        "    return df\n",
        "\n",
        "import pandas as pd\n",
        "df = pd.DataFrame(load_csv(filename))\n",
        "\n",
        "df = discretize(df,15)\n",
        "\n",
        "print(df)"
      ],
      "execution_count": null,
      "outputs": [
        {
          "output_type": "stream",
          "text": [
            "Colunm Name :  0\n",
            "Minimum Value:  4.3\n",
            "Maximum Value:  7.9\n",
            "Bins for column 0:\n",
            "[4.3, 4.54, 4.78, 5.0200000000000005, 5.260000000000001, 5.500000000000001, 5.740000000000001, 5.980000000000001, 6.2200000000000015, 6.460000000000002, 6.700000000000002, 6.940000000000002, 7.180000000000002, 7.420000000000003, 7.660000000000003, 7.900000000000003]\n",
            "previous values:  ['5.1' '4.9' '4.7' '4.6' '5.0' '5.4' '4.6' '5.0' '4.4' '4.9' '5.4' '4.8'\n",
            " '4.8' '4.3' '5.8' '5.7' '5.4' '5.1' '5.7' '5.1' '5.4' '5.1' '4.6' '5.1'\n",
            " '4.8' '5.0' '5.0' '5.2' '5.2' '4.7' '4.8' '5.4' '5.2' '5.5' '4.9' '5.0'\n",
            " '5.5' '4.9' '4.4' '5.1' '5.0' '4.5' '4.4' '5.0' '5.1' '4.8' '5.1' '4.6'\n",
            " '5.3' '5.0' '7.0' '6.4' '6.9' '5.5' '6.5' '5.7' '6.3' '4.9' '6.6' '5.2'\n",
            " '5.0' '5.9' '6.0' '6.1' '5.6' '6.7' '5.6' '5.8' '6.2' '5.6' '5.9' '6.1'\n",
            " '6.3' '6.1' '6.4' '6.6' '6.8' '6.7' '6.0' '5.7' '5.5' '5.5' '5.8' '6.0'\n",
            " '5.4' '6.0' '6.7' '6.3' '5.6' '5.5' '5.5' '6.1' '5.8' '5.0' '5.6' '5.7'\n",
            " '5.7' '6.2' '5.1' '5.7' '6.3' '5.8' '7.1' '6.3' '6.5' '7.6' '4.9' '7.3'\n",
            " '6.7' '7.2' '6.5' '6.4' '6.8' '5.7' '5.8' '6.4' '6.5' '7.7' '7.7' '6.0'\n",
            " '6.9' '5.6' '7.7' '6.3' '6.7' '7.2' '6.2' '6.1' '6.4' '7.2' '7.4' '7.9'\n",
            " '6.4' '6.3' '6.1' '7.7' '6.3' '6.4' '6.0' '6.9' '6.7' '6.9' '5.8' '6.8'\n",
            " '6.7' '6.7' '6.3' '6.5' '6.2' '5.9']\n",
            "new values after binning:  [4, 3, 2, 2, 3, ..., 10, 9, 10, 8, 7]\n",
            "Length: 150\n",
            "Categories (15, int64): [1 < 2 < 3 < 4 ... 12 < 13 < 14 < 15] \n",
            "\n",
            "\n",
            "Colunm Name :  1\n",
            "Minimum Value:  2.0\n",
            "Maximum Value:  4.4\n",
            "Bins for column 1:\n",
            "[2.0, 2.16, 2.3200000000000003, 2.4800000000000004, 2.6400000000000006, 2.8000000000000007, 2.960000000000001, 3.120000000000001, 3.280000000000001, 3.4400000000000013, 3.6000000000000014, 3.7600000000000016, 3.9200000000000017, 4.080000000000002, 4.240000000000002, 4.400000000000002]\n",
            "previous values:  ['3.5' '3.0' '3.2' '3.1' '3.6' '3.9' '3.4' '3.4' '2.9' '3.1' '3.7' '3.4'\n",
            " '3.0' '3.0' '4.0' '4.4' '3.9' '3.5' '3.8' '3.8' '3.4' '3.7' '3.6' '3.3'\n",
            " '3.4' '3.0' '3.4' '3.5' '3.4' '3.2' '3.1' '3.4' '4.1' '4.2' '3.1' '3.2'\n",
            " '3.5' '3.1' '3.0' '3.4' '3.5' '2.3' '3.2' '3.5' '3.8' '3.0' '3.8' '3.2'\n",
            " '3.7' '3.3' '3.2' '3.2' '3.1' '2.3' '2.8' '2.8' '3.3' '2.4' '2.9' '2.7'\n",
            " '2.0' '3.0' '2.2' '2.9' '2.9' '3.1' '3.0' '2.7' '2.2' '2.5' '3.2' '2.8'\n",
            " '2.5' '2.8' '2.9' '3.0' '2.8' '3.0' '2.9' '2.6' '2.4' '2.4' '2.7' '2.7'\n",
            " '3.0' '3.4' '3.1' '2.3' '3.0' '2.5' '2.6' '3.0' '2.6' '2.3' '2.7' '3.0'\n",
            " '2.9' '2.9' '2.5' '2.8' '3.3' '2.7' '3.0' '2.9' '3.0' '3.0' '2.5' '2.9'\n",
            " '2.5' '3.6' '3.2' '2.7' '3.0' '2.5' '2.8' '3.2' '3.0' '3.8' '2.6' '2.2'\n",
            " '3.2' '2.8' '2.8' '2.7' '3.3' '3.2' '2.8' '3.0' '2.8' '3.0' '2.8' '3.8'\n",
            " '2.8' '2.8' '2.6' '3.0' '3.4' '3.1' '3.0' '3.1' '3.1' '3.1' '2.7' '3.2'\n",
            " '3.3' '3.0' '2.5' '3.0' '3.4' '3.0']\n",
            "new values after binning:  [10, 7, 8, 7, 10, ..., 7, 4, 7, 9, 7]\n",
            "Length: 150\n",
            "Categories (15, int64): [1 < 2 < 3 < 4 ... 12 < 13 < 14 < 15] \n",
            "\n",
            "\n",
            "Colunm Name :  2\n",
            "Minimum Value:  1.0\n",
            "Maximum Value:  6.9\n",
            "Bins for column 2:\n",
            "[1.0, 1.3933333333333333, 1.7866666666666666, 2.18, 2.5733333333333337, 2.9666666666666672, 3.3600000000000008, 3.7533333333333343, 4.146666666666667, 4.540000000000001, 4.9333333333333345, 5.326666666666668, 5.7200000000000015, 6.113333333333335, 6.506666666666669, 6.900000000000002]\n",
            "previous values:  ['1.4' '1.4' '1.3' '1.5' '1.4' '1.7' '1.4' '1.5' '1.4' '1.5' '1.5' '1.6'\n",
            " '1.4' '1.1' '1.2' '1.5' '1.3' '1.4' '1.7' '1.5' '1.7' '1.5' '1.0' '1.7'\n",
            " '1.9' '1.6' '1.6' '1.5' '1.4' '1.6' '1.6' '1.5' '1.5' '1.4' '1.5' '1.2'\n",
            " '1.3' '1.5' '1.3' '1.5' '1.3' '1.3' '1.3' '1.6' '1.9' '1.4' '1.6' '1.4'\n",
            " '1.5' '1.4' '4.7' '4.5' '4.9' '4.0' '4.6' '4.5' '4.7' '3.3' '4.6' '3.9'\n",
            " '3.5' '4.2' '4.0' '4.7' '3.6' '4.4' '4.5' '4.1' '4.5' '3.9' '4.8' '4.0'\n",
            " '4.9' '4.7' '4.3' '4.4' '4.8' '5.0' '4.5' '3.5' '3.8' '3.7' '3.9' '5.1'\n",
            " '4.5' '4.5' '4.7' '4.4' '4.1' '4.0' '4.4' '4.6' '4.0' '3.3' '4.2' '4.2'\n",
            " '4.2' '4.3' '3.0' '4.1' '6.0' '5.1' '5.9' '5.6' '5.8' '6.6' '4.5' '6.3'\n",
            " '5.8' '6.1' '5.1' '5.3' '5.5' '5.0' '5.1' '5.3' '5.5' '6.7' '6.9' '5.0'\n",
            " '5.7' '4.9' '6.7' '4.9' '5.7' '6.0' '4.8' '4.9' '5.6' '5.8' '6.1' '6.4'\n",
            " '5.6' '5.1' '5.6' '6.1' '5.6' '5.5' '4.8' '5.4' '5.6' '5.1' '5.1' '5.9'\n",
            " '5.7' '5.2' '5.0' '5.2' '5.4' '5.1']\n",
            "new values after binning:  [2, 2, 1, 2, 2, ..., 11, 11, 11, 12, 11]\n",
            "Length: 150\n",
            "Categories (15, int64): [1 < 2 < 3 < 4 ... 12 < 13 < 14 < 15] \n",
            "\n",
            "\n",
            "Colunm Name :  3\n",
            "Minimum Value:  0.1\n",
            "Maximum Value:  2.5\n",
            "Bins for column 3:\n",
            "[0.1, 0.26, 0.42000000000000004, 0.5800000000000001, 0.7400000000000001, 0.9000000000000001, 1.06, 1.22, 1.38, 1.5399999999999998, 1.6999999999999997, 1.8599999999999997, 2.0199999999999996, 2.1799999999999997, 2.34, 2.5]\n",
            "previous values:  ['0.2' '0.2' '0.2' '0.2' '0.2' '0.4' '0.3' '0.2' '0.2' '0.1' '0.2' '0.2'\n",
            " '0.1' '0.1' '0.2' '0.4' '0.4' '0.3' '0.3' '0.3' '0.2' '0.4' '0.2' '0.5'\n",
            " '0.2' '0.2' '0.4' '0.2' '0.2' '0.2' '0.2' '0.4' '0.1' '0.2' '0.1' '0.2'\n",
            " '0.2' '0.1' '0.2' '0.2' '0.3' '0.3' '0.2' '0.6' '0.4' '0.3' '0.2' '0.2'\n",
            " '0.2' '0.2' '1.4' '1.5' '1.5' '1.3' '1.5' '1.3' '1.6' '1.0' '1.3' '1.4'\n",
            " '1.0' '1.5' '1.0' '1.4' '1.3' '1.4' '1.5' '1.0' '1.5' '1.1' '1.8' '1.3'\n",
            " '1.5' '1.2' '1.3' '1.4' '1.4' '1.7' '1.5' '1.0' '1.1' '1.0' '1.2' '1.6'\n",
            " '1.5' '1.6' '1.5' '1.3' '1.3' '1.3' '1.2' '1.4' '1.2' '1.0' '1.3' '1.2'\n",
            " '1.3' '1.3' '1.1' '1.3' '2.5' '1.9' '2.1' '1.8' '2.2' '2.1' '1.7' '1.8'\n",
            " '1.8' '2.5' '2.0' '1.9' '2.1' '2.0' '2.4' '2.3' '1.8' '2.2' '2.3' '1.5'\n",
            " '2.3' '2.0' '2.0' '1.8' '2.1' '1.8' '1.8' '1.8' '2.1' '1.6' '1.9' '2.0'\n",
            " '2.2' '1.5' '1.4' '2.3' '2.4' '1.8' '1.8' '2.1' '2.4' '2.3' '1.9' '2.3'\n",
            " '2.5' '2.3' '1.9' '2.0' '2.3' '1.8']\n",
            "new values after binning:  [1, 1, 1, 1, 1, ..., 14, 12, 12, 14, 11]\n",
            "Length: 150\n",
            "Categories (15, int64): [1 < 2 < 3 < 4 ... 12 < 13 < 14 < 15] \n",
            "\n",
            "\n",
            "      0   1   2   3               4\n",
            "0     4  10   2   1     Iris-setosa\n",
            "1     3   7   2   1     Iris-setosa\n",
            "2     2   8   1   1     Iris-setosa\n",
            "3     2   7   2   1     Iris-setosa\n",
            "4     3  10   2   1     Iris-setosa\n",
            "..   ..  ..  ..  ..             ...\n",
            "145  10   7  11  14  Iris-virginica\n",
            "146   9   4  11  12  Iris-virginica\n",
            "147  10   7  11  12  Iris-virginica\n",
            "148   8   9  12  14  Iris-virginica\n",
            "149   7   7  11  11  Iris-virginica\n",
            "\n",
            "[150 rows x 5 columns]\n"
          ],
          "name": "stdout"
        }
      ]
    },
    {
      "cell_type": "markdown",
      "metadata": {
        "id": "gYSwbKvR0SAX"
      },
      "source": [
        "After the discretization, we can finally use the hamming distance!"
      ]
    },
    {
      "cell_type": "code",
      "metadata": {
        "id": "Atfd0Jiq0SAY",
        "outputId": "0b3102ee-51a7-4c30-89af-ee1f6ac1047e"
      },
      "source": [
        "def hamming_distance(row1, row2):\n",
        "\tdistance = 0.0\n",
        "\tfor i in range(len(row1)-1):\n",
        "\t\tif( row1[i] != row2[i]):\n",
        "\t\t\tdistance += 1\n",
        "\treturn distance\n",
        "\n",
        "dataset = df.values.tolist()\n",
        "\n",
        "\n",
        "performance = list()\n",
        "for i in range (1,121):\n",
        "    num_neighbors = i\n",
        "    scores = evaluate_algorithm(dataset, k_nearest_neighbors, n_folds, num_neighbors, hamming_distance)\n",
        "    mean_score = (sum(scores)/float(len(scores)))\n",
        "    #print('K: ', i,' Mean Accuracy: %.3f%%'  %mean_score)\n",
        "    performance.append(mean_score)\n",
        "    \n",
        "\n",
        "from matplotlib import pyplot as plt\n",
        "\n",
        "print('maximum accuracy: ', max(performance), '%% with K value: ', performance.index(max(performance)) +1 )\n",
        "\n",
        "\n",
        "plt.title('Accuracy Using Hamming Distance')\n",
        "plt.plot(performance)\n"
      ],
      "execution_count": null,
      "outputs": [
        {
          "output_type": "stream",
          "text": [
            "maximum accuracy:  94.0 %% with K value:  10\n"
          ],
          "name": "stdout"
        },
        {
          "output_type": "execute_result",
          "data": {
            "text/plain": [
              "[<matplotlib.lines.Line2D at 0x1f389a36248>]"
            ]
          },
          "metadata": {
            "tags": []
          },
          "execution_count": 11
        },
        {
          "output_type": "display_data",
          "data": {
            "image/png": "[encoded data removed]",
            "text/plain": [
              "<Figure size 432x288 with 1 Axes>"
            ]
          },
          "metadata": {
            "tags": [],
            "needs_background": "light"
          }
        }
      ]
    },
    {
      "cell_type": "markdown",
      "metadata": {
        "id": "JuTAh5fm0SAd"
      },
      "source": [
        "The result is slightly worse than the euclidean distance! Perhaps our features are not suitable for hamming distance!"
      ]
    },
    {
      "cell_type": "markdown",
      "metadata": {
        "id": "T5MH2unX0SAd"
      },
      "source": [
        "## **b. Manhattan Distance**\n",
        "\n",
        "formula of manhattan distance:\n",
        "\n",
        "### $manhattan(X,Y)= {\\sum_{i=1}^{n} {|x_i -y_i|}}  $"
      ]
    },
    {
      "cell_type": "code",
      "metadata": {
        "id": "_VBQCBk40SAd",
        "outputId": "c6915af1-f413-4661-838c-d9587f417988"
      },
      "source": [
        "def manhattan_distance(row1, row2):\n",
        "\tdistance = 0.0\n",
        "\tfor i in range(len(row1)-1):\n",
        "\t\tdistance += abs( float(row1[i]) - float(row2[i]) )\n",
        "\treturn distance\n",
        "\n",
        "dataset = load_csv(filename)\n",
        "\n",
        "performance = list()\n",
        "for i in range (1,121):\n",
        "    num_neighbors = i\n",
        "    scores = evaluate_algorithm(dataset, k_nearest_neighbors, n_folds, num_neighbors, manhattan_distance)\n",
        "    mean_score = (sum(scores)/float(len(scores)))\n",
        "    #print('K: ', i,' Mean Accuracy: %.3f%%'  %mean_score)\n",
        "    performance.append(mean_score)\n",
        "    \n",
        "\n",
        "from matplotlib import pyplot as plt\n",
        "\n",
        "print('maximum accuracy: ', max(performance), '%% with K value: ', performance.index(max(performance))+1)\n",
        "\n",
        "\n",
        "plt.title('Accuracy Using Manhattan Distance')\n",
        "plt.plot(performance)"
      ],
      "execution_count": null,
      "outputs": [
        {
          "output_type": "stream",
          "text": [
            "maximum accuracy:  98.00000000000001 %% with K value:  17\n"
          ],
          "name": "stdout"
        },
        {
          "output_type": "execute_result",
          "data": {
            "text/plain": [
              "[<matplotlib.lines.Line2D at 0x1f38bca4b08>]"
            ]
          },
          "metadata": {
            "tags": []
          },
          "execution_count": 12
        },
        {
          "output_type": "display_data",
          "data": {
            "image/png": "[encoded data removed]",
            "text/plain": [
              "<Figure size 432x288 with 1 Axes>"
            ]
          },
          "metadata": {
            "tags": [],
            "needs_background": "light"
          }
        }
      ]
    },
    {
      "cell_type": "markdown",
      "metadata": {
        "id": "0EYYpF8w0SAh"
      },
      "source": [
        "The result is similar to euclidean distance!"
      ]
    },
    {
      "cell_type": "markdown",
      "metadata": {
        "id": "nFB1Zg-C0SAh"
      },
      "source": [
        "## **c. Minkowski Distance (with p = 0.5)**\n",
        "\n",
        "formula of minkowski distance:\n",
        "### $minkowski(X,Y)= {(\\sum_{i=1}^{n} {|x_i -y_i|}^{p})}^{\\frac{1}{p}}  $\n",
        "\n",
        "In this case, we will use p = 0.5"
      ]
    },
    {
      "cell_type": "code",
      "metadata": {
        "scrolled": true,
        "id": "8WLN896K0SAk",
        "outputId": "82ec4eb4-9c84-4b46-eec4-a5fb9a374df9"
      },
      "source": [
        "def minkowski_distance(row1, row2, p=0.5):\n",
        "\tdistance = 0.0\n",
        "\tfor i in range(len(row1)-1):\n",
        "\t\tdistance += (abs(float(row1[i]) - float(row2[i])))**p\n",
        "\treturn distance**(1.0)\n",
        "\n",
        "dataset = load_csv(filename)\n",
        "\n",
        "performance = list()\n",
        "for i in range (1,121):\n",
        "    num_neighbors = i\n",
        "    scores = evaluate_algorithm(dataset, k_nearest_neighbors, n_folds, num_neighbors, minkowski_distance)\n",
        "    mean_score = (sum(scores)/float(len(scores)))\n",
        "    #print('K: ', i,' Mean Accuracy: %.3f%%'  %mean_score)\n",
        "    performance.append(mean_score)\n",
        "    \n",
        "\n",
        "from matplotlib import pyplot as plt\n",
        "\n",
        "print('maximum accuracy: ', max(performance), '%% with K value: ', performance.index(max(performance))+ 1)\n",
        "\n",
        "\n",
        "plt.title('Accuracy Using Minkowski Distance')\n",
        "plt.plot(performance)"
      ],
      "execution_count": null,
      "outputs": [
        {
          "output_type": "stream",
          "text": [
            "maximum accuracy:  96.66666666666667 %% with K value:  17\n"
          ],
          "name": "stdout"
        },
        {
          "output_type": "execute_result",
          "data": {
            "text/plain": [
              "[<matplotlib.lines.Line2D at 0x1f38bcfd388>]"
            ]
          },
          "metadata": {
            "tags": []
          },
          "execution_count": 13
        },
        {
          "output_type": "display_data",
          "data": {
            "image/png": "[encoded data removed]",
            "text/plain": [
              "<Figure size 432x288 with 1 Axes>"
            ]
          },
          "metadata": {
            "tags": [],
            "needs_background": "light"
          }
        }
      ]
    },
    {
      "cell_type": "markdown",
      "metadata": {
        "id": "LEjWGAcx0SAn"
      },
      "source": [
        "The result is also similar to euclidean distance!"
      ]
    },
    {
      "cell_type": "markdown",
      "metadata": {
        "id": "qoHg_db10SAo"
      },
      "source": [
        "# **4. Data Preparation**"
      ]
    },
    {
      "cell_type": "markdown",
      "metadata": {
        "id": "vJtZ-mrP0SAo"
      },
      "source": [
        "## **a. Minmax Scaling Normalization**"
      ]
    },
    {
      "cell_type": "code",
      "metadata": {
        "id": "R6HJiMSC0SAo",
        "outputId": "98c190ac-9c1f-454d-da0a-5378a3a2fb72"
      },
      "source": [
        "dataset = load_csv(filename)\n",
        "\n",
        "for i in range(len(dataset[0])-1):\n",
        "\tstr_column_to_float(dataset, i)\n",
        "# convert class column to integers\n",
        "str_column_to_int(dataset, len(dataset[0])-1)\n",
        "\n",
        "print('Before normalization (minmax scaling):\\n\\n',dataset[:10])\n",
        "\n",
        "minmax = dataset_minmax(dataset)\n",
        "normalize_dataset(dataset,minmax)\n",
        "\n",
        "print('After normalization (minmax scaling):\\n\\n',dataset[:10])"
      ],
      "execution_count": null,
      "outputs": [
        {
          "output_type": "stream",
          "text": [
            "Before normalization (minmax scaling):\n",
            "\n",
            " [[5.1, 3.5, 1.4, 0.2, 2], [4.9, 3.0, 1.4, 0.2, 2], [4.7, 3.2, 1.3, 0.2, 2], [4.6, 3.1, 1.5, 0.2, 2], [5.0, 3.6, 1.4, 0.2, 2], [5.4, 3.9, 1.7, 0.4, 2], [4.6, 3.4, 1.4, 0.3, 2], [5.0, 3.4, 1.5, 0.2, 2], [4.4, 2.9, 1.4, 0.2, 2], [4.9, 3.1, 1.5, 0.1, 2]]\n",
            "After normalization (minmax scaling):\n",
            "\n",
            " [[0.22222222222222213, 0.6249999999999999, 0.06779661016949151, 0.04166666666666667, 1.0], [0.1666666666666668, 0.41666666666666663, 0.06779661016949151, 0.04166666666666667, 1.0], [0.11111111111111119, 0.5, 0.05084745762711865, 0.04166666666666667, 1.0], [0.08333333333333327, 0.4583333333333333, 0.0847457627118644, 0.04166666666666667, 1.0], [0.19444444444444448, 0.6666666666666666, 0.06779661016949151, 0.04166666666666667, 1.0], [0.30555555555555564, 0.7916666666666665, 0.11864406779661016, 0.12500000000000003, 1.0], [0.08333333333333327, 0.5833333333333333, 0.06779661016949151, 0.08333333333333333, 1.0], [0.19444444444444448, 0.5833333333333333, 0.0847457627118644, 0.04166666666666667, 1.0], [0.027777777777777922, 0.3749999999999999, 0.06779661016949151, 0.04166666666666667, 1.0], [0.1666666666666668, 0.4583333333333333, 0.0847457627118644, 0.0, 1.0]]\n"
          ],
          "name": "stdout"
        }
      ]
    },
    {
      "cell_type": "markdown",
      "metadata": {
        "id": "Aqf-AvGo0SAs"
      },
      "source": [
        "note that we should seperate the target value first before normalizing the dataset, but in this case it's okay because we want to classify, not regression.\n",
        "\n",
        "Next, let's perform KNN using the standard euclidean distance:"
      ]
    },
    {
      "cell_type": "code",
      "metadata": {
        "id": "SyK_MHLL0SAt",
        "outputId": "f1bb0e57-d63c-456e-caad-a98c9150d3d5"
      },
      "source": [
        "performance = list()\n",
        "for i in range (1,121):\n",
        "    num_neighbors = i\n",
        "    scores = evaluate_algorithm(dataset, k_nearest_neighbors, n_folds, num_neighbors, euclidean_distance)\n",
        "    mean_score = (sum(scores)/float(len(scores)))\n",
        "    #print('K: ', i,' Mean Accuracy: %.3f%%'  %mean_score)\n",
        "    performance.append(mean_score)\n",
        "    \n",
        "\n",
        "from matplotlib import pyplot as plt\n",
        "\n",
        "print('maximum accuracy: ', max(performance), '%% with K value: ', performance.index(max(performance))+1)\n",
        "\n",
        "\n",
        "plt.title('Accuracy')\n",
        "plt.plot(performance)"
      ],
      "execution_count": null,
      "outputs": [
        {
          "output_type": "stream",
          "text": [
            "maximum accuracy:  96.66666666666667 %% with K value:  16\n"
          ],
          "name": "stdout"
        },
        {
          "output_type": "execute_result",
          "data": {
            "text/plain": [
              "[<matplotlib.lines.Line2D at 0x1f38bc29c08>]"
            ]
          },
          "metadata": {
            "tags": []
          },
          "execution_count": 15
        },
        {
          "output_type": "display_data",
          "data": {
            "image/png": "[encoded data removed]",
            "text/plain": [
              "<Figure size 432x288 with 1 Axes>"
            ]
          },
          "metadata": {
            "tags": [],
            "needs_background": "light"
          }
        }
      ]
    },
    {
      "cell_type": "markdown",
      "metadata": {
        "id": "ThMDHtfE0SAv"
      },
      "source": [
        "Because the range between features are similiar (feature 1 is ranged from 4.3 to 7.9, feature 2 is 2.2 to 4.0, feature 3 is 1.0 to 6.9 and feature 4 is 0.1 to 2.5), no feature is dominating the other feature. so, that's why the normalization doesn't make a big difference"
      ]
    },
    {
      "cell_type": "markdown",
      "metadata": {
        "id": "UFOeP8Hk0SAv"
      },
      "source": [
        "## **b. Standardization**"
      ]
    },
    {
      "cell_type": "code",
      "metadata": {
        "id": "9gTiNe2H0SAw",
        "outputId": "395811ea-e383-410e-da61-5de96e864dc4"
      },
      "source": [
        "# Preprocess\n",
        "def standardize(dataset):\n",
        "    \n",
        "    #find the mean/average value of each column/feature\n",
        "    from math import sqrt\n",
        "    means = [0 for i in range(len(dataset[0]))]\n",
        "    for i in range(len(dataset[0])):\n",
        "        col_values = [row[i] for row in dataset]\n",
        "        means[i] = sum(col_values) / float(len(dataset))\n",
        "    \n",
        "    #find the standard deviation value of each column/feature\n",
        "    stdevs = [0 for i in range(len(dataset[0]))]\n",
        "    for i in range(len(dataset[0])):\n",
        "        variance = [pow(row[i]-means[i], 2) for row in dataset]\n",
        "        stdevs[i] = sum(variance)\n",
        "    stdevs = [sqrt(x/(float(len(dataset)-1))) for x in stdevs]\n",
        "    \n",
        "    #uptdate the value for each column, according to the standardization formula\n",
        "    for row in dataset:\n",
        "        for i in range(len(row)):\n",
        "            row[i] = (row[i] - means[i]) / stdevs[i]\n",
        "    \n",
        "    return dataset\n",
        "    \n",
        "dataset = load_csv(filename)\n",
        "\n",
        "for i in range(len(dataset[0])-1):\n",
        "\tstr_column_to_float(dataset, i)\n",
        "# convert class column to integers\n",
        "str_column_to_int(dataset, len(dataset[0])-1)\n",
        "\n",
        "print('Before standardization:\\n\\n',dataset[:10])\n",
        "\n",
        "dataset = standardize(dataset)\n",
        "\n",
        "print('After standardization:\\n\\n',dataset[:10])"
      ],
      "execution_count": null,
      "outputs": [
        {
          "output_type": "stream",
          "text": [
            "Before standardization:\n",
            "\n",
            " [[5.1, 3.5, 1.4, 0.2, 2], [4.9, 3.0, 1.4, 0.2, 2], [4.7, 3.2, 1.3, 0.2, 2], [4.6, 3.1, 1.5, 0.2, 2], [5.0, 3.6, 1.4, 0.2, 2], [5.4, 3.9, 1.7, 0.4, 2], [4.6, 3.4, 1.4, 0.3, 2], [5.0, 3.4, 1.5, 0.2, 2], [4.4, 2.9, 1.4, 0.2, 2], [4.9, 3.1, 1.5, 0.1, 2]]\n",
            "After standardization:\n",
            "\n",
            " [[-0.8976738791967672, 1.0286112808972334, -1.3367940202882518, -1.3085928194379581, 1.2206555615733703], [-1.1392004834649543, -0.12454037930146059, -1.3367940202882518, -1.3085928194379581, 1.2206555615733703], [-1.3807270877331426, 0.3367202847780174, -1.3934698549528186, -1.3085928194379581, 1.2206555615733703], [-1.5014903898672372, 0.1060899527382784, -1.2801181856236847, -1.3085928194379581, 1.2206555615733703], [-1.0184371813308608, 1.2592416129369723, -1.3367940202882518, -1.3085928194379581, 1.2206555615733703], [-0.5353839727944845, 1.9511326090561882, -1.166766516294551, -1.0465248315665379, 1.2206555615733703], [-1.5014903898672372, 0.7979809488574944, -1.3367940202882518, -1.177558825502248, 1.2206555615733703], [-1.0184371813308608, 0.7979809488574944, -1.2801181856236847, -1.3085928194379581, 1.2206555615733703], [-1.7430169941354243, -0.3551707113411996, -1.3367940202882518, -1.3085928194379581, 1.2206555615733703], [-1.1392004834649543, 0.1060899527382784, -1.2801181856236847, -1.4396268133736678, 1.2206555615733703]]\n"
          ],
          "name": "stdout"
        }
      ]
    },
    {
      "cell_type": "markdown",
      "metadata": {
        "id": "QZAV7dx10SAy"
      },
      "source": [
        "note that we should seperate the target value first before standardize the dataset, but in this case it's okay because we want to classify, not regression.\n",
        "\n",
        "Next, let's perform KNN using the standard euclidean distance:"
      ]
    },
    {
      "cell_type": "code",
      "metadata": {
        "id": "uGzbcSto0SAy",
        "outputId": "f45c4b8f-4af6-4cc9-ed87-631130e52e34"
      },
      "source": [
        "performance = list()\n",
        "for i in range (1,121):\n",
        "    num_neighbors = i\n",
        "    scores = evaluate_algorithm(dataset, k_nearest_neighbors, n_folds, num_neighbors, euclidean_distance)\n",
        "    mean_score = (sum(scores)/float(len(scores)))\n",
        "    #print('K: ', i,' Mean Accuracy: %.3f%%'  %mean_score)\n",
        "    performance.append(mean_score)\n",
        "    \n",
        "\n",
        "from matplotlib import pyplot as plt\n",
        "\n",
        "print('maximum accuracy: ', max(performance), '%% with K value: ', performance.index(max(performance))+1)\n",
        "\n",
        "\n",
        "plt.title('Accuracy')\n",
        "plt.plot(performance)"
      ],
      "execution_count": null,
      "outputs": [
        {
          "output_type": "stream",
          "text": [
            "maximum accuracy:  96.00000000000001 %% with K value:  11\n"
          ],
          "name": "stdout"
        },
        {
          "output_type": "execute_result",
          "data": {
            "text/plain": [
              "[<matplotlib.lines.Line2D at 0x1f38bd2ea48>]"
            ]
          },
          "metadata": {
            "tags": []
          },
          "execution_count": 17
        },
        {
          "output_type": "display_data",
          "data": {
            "image/png": "[encoded data removed]",
            "text/plain": [
              "<Figure size 432x288 with 1 Axes>"
            ]
          },
          "metadata": {
            "tags": [],
            "needs_background": "light"
          }
        }
      ]
    },
    {
      "cell_type": "markdown",
      "metadata": {
        "id": "6YgmPNHI0SA0"
      },
      "source": [
        "Just like the previous one, the standardization doesn't make a big difference because no feature is dominating others"
      ]
    }
  ]
}