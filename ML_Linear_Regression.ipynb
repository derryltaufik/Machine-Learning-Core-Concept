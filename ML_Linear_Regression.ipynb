{
  "nbformat": 4,
  "nbformat_minor": 0,
  "metadata": {
    "colab": {
      "name": "ML_Linear Regression.ipynb",
      "provenance": [],
      "collapsed_sections": []
    },
    "kernelspec": {
      "name": "python3",
      "display_name": "Python 3"
    }
  },
  "cells": [
    {
      "cell_type": "markdown",
      "metadata": {
        "id": "YL8i_GgogtGO"
      },
      "source": [
        "# **Linear Regression: Ordinary Least Square (OLS) vs Stochastic Gradient Descent (SGD)**\n",
        "\n",
        "\n",
        "---\n",
        "\n",
        "\n",
        "Linear Regression is a linear approach to modelling the relationship between a single dependent and one or more independent variable(s)\n",
        "\n",
        "Simple Linear Regression is a Linear Regression which only have 1 independent variable (usually x as independent/input, and y as dependent/output), so the model can be written as:\n",
        "\n",
        "$ y = \\alpha + \\beta x$\n",
        "\n",
        "$x$ and $y$ are the independent variable and dependent variable found inside the dataset / sample data\n",
        "\n",
        "$\\alpha$ (a.k.a intercept) and $\\beta$ (a.k.a. slope) are both a constant value that are not included in the dataset/sample data\n",
        "\n",
        "So, the question is \"How to determine the value of $\\alpha$ and $\\beta$?\" The answer is we choose a specific $\\alpha$ and $\\beta$ so that the Sum Squared Residual is minimized.\n",
        "\n",
        "\n",
        "There are 2 methods to find the value of $\\alpha$ and $\\beta$:\n",
        "\n",
        "\n",
        "1.   Ordinary Least Square (OLS)\n",
        "2.   Gradient Descent and Stochastic Gradient Descent (SGD)\n",
        "\n",
        "\n",
        "\n",
        "\n",
        "\n"
      ]
    },
    {
      "cell_type": "markdown",
      "metadata": {
        "id": "v4tuzpRqn2RU"
      },
      "source": [
        "## **Preparing The Dataset**\n",
        "\n",
        "To compare the 2 methods, we need to get the dataset first. Later, the 2 methods will work on the same data so that we can compare the result.\n",
        "\n",
        "This dataset contains 100 rows of x (independent variable) and y (dependent variable)"
      ]
    },
    {
      "cell_type": "code",
      "metadata": {
        "id": "2NCEpiVZFjtx",
        "colab": {
          "base_uri": "https://localhost:8080/",
          "height": 507
        },
        "outputId": "981ea525-e4e2-49e1-8658-a455890427ed"
      },
      "source": [
        "# Making the imports\n",
        "import numpy as np\n",
        "import pandas as pd\n",
        "import matplotlib.pyplot as plt\n",
        "\n",
        "# Preprocessing Input data\n",
        "url = 'https://raw.githubusercontent.com/chasinginfinity/ml-from-scratch/master/02%20Linear%20Regression%20using%20Gradient%20Descent/data.csv'\n",
        "dataset = pd.read_csv(url, names = [\"x\",\"y\"])\n",
        "print(dataset)\n",
        "X = dataset.iloc[:, 0]\n",
        "Y = dataset.iloc[:, 1]\n",
        "#Visualizing the data set\n",
        "plt.scatter(X, Y)\n",
        "plt.show()"
      ],
      "execution_count": null,
      "outputs": [
        {
          "output_type": "stream",
          "text": [
            "            x          y\n",
            "0   32.502345  31.707006\n",
            "1   53.426804  68.777596\n",
            "2   61.530358  62.562382\n",
            "3   47.475640  71.546632\n",
            "4   59.813208  87.230925\n",
            "..        ...        ...\n",
            "95  50.030174  81.536991\n",
            "96  49.239765  72.111832\n",
            "97  50.039576  85.232007\n",
            "98  48.149859  66.224958\n",
            "99  25.128485  53.454394\n",
            "\n",
            "[100 rows x 2 columns]\n"
          ],
          "name": "stdout"
        },
        {
          "output_type": "display_data",
          "data": {
            "image/png": "[encoded data removed]",
            "text/plain": [
              "<Figure size 432x288 with 1 Axes>"
            ]
          },
          "metadata": {
            "tags": []
          }
        }
      ]
    },
    {
      "cell_type": "markdown",
      "metadata": {
        "id": "BqvbU2ufou8z"
      },
      "source": [
        "Now that our data is ready, let's move to the methods"
      ]
    },
    {
      "cell_type": "markdown",
      "metadata": {
        "id": "llJi1OC6nA33"
      },
      "source": [
        "## **A. Ordinary Least Square Method**\n",
        "\n",
        "Using ordinary least square method, we can directly find the value of $\\alpha$ and $\\beta$ using mathematics approach. This  method involves a lot of calculus (especially partial derivation).\n",
        "\n",
        "For the sake of simplicity, we won't disscuss how to get the formula of the best / optimal $\\alpha$ and $\\beta$. If you want to know more about the steps getting this formula, please read [this article](https://en.wikipedia.org/wiki/Simple_linear_regression#Fitting_the_regression_line). It's described clearly there.\n",
        "\n",
        "### **1. Finding $\\beta$ value**\n",
        "\n",
        "First, we calculate the value of $\\beta$ using this formula:\n",
        "\n",
        "$\\beta = \\frac{\\sum_{i=1}^{n}(x_{i}-\\overline{x})(y_{i}-\\overline{y})}{\\sum_{i=1}^{n}(x_{i}-\\overline{x})^2}$\n",
        "\n",
        "$\\beta = \\frac{Cov(x,y)}{Var(x)}$\n",
        "\n",
        "$\\beta = Corr(x,y)\\frac{Std Dev(y)}{StdDev(x)}$\n",
        "\n",
        "So, to obtain the beta value, we need to calculate the correlation coeficient of x and y, also the standard deviation of both x and y\n",
        "\n",
        "To make it easier, we can use numpy built-in function to calculate those values."
      ]
    },
    {
      "cell_type": "code",
      "metadata": {
        "id": "dlfJs4oitBRk",
        "colab": {
          "base_uri": "https://localhost:8080/",
          "height": 34
        },
        "outputId": "fe09ca8c-e1ab-4ba3-a70a-f286cd209a97"
      },
      "source": [
        "#finding Corr(x,y)\n",
        "X_Y_correlation = np.corrcoef(X, Y)[0,1]\n",
        "print(X_Y_correlation)"
      ],
      "execution_count": null,
      "outputs": [
        {
          "output_type": "stream",
          "text": [
            "0.7737284998878238\n"
          ],
          "name": "stdout"
        }
      ]
    },
    {
      "cell_type": "code",
      "metadata": {
        "id": "65KMoN_ntU3Y",
        "colab": {
          "base_uri": "https://localhost:8080/",
          "height": 34
        },
        "outputId": "66beb5fd-327f-4e91-c224-bf5feacdcc7e"
      },
      "source": [
        "#finding StdDev(y)\n",
        "Y_standardDeviation = np.std(Y)\n",
        "print(Y_standardDeviation)"
      ],
      "execution_count": null,
      "outputs": [
        {
          "output_type": "stream",
          "text": [
            "16.5746871896844\n"
          ],
          "name": "stdout"
        }
      ]
    },
    {
      "cell_type": "code",
      "metadata": {
        "id": "I_qeGP_Rtb-L",
        "colab": {
          "base_uri": "https://localhost:8080/",
          "height": 34
        },
        "outputId": "a956695f-95b7-4964-e18f-5c00be66d670"
      },
      "source": [
        "#finding StdDev(x)\n",
        "X_standardDeviation = np.std(X)\n",
        "print(X_standardDeviation)"
      ],
      "execution_count": null,
      "outputs": [
        {
          "output_type": "stream",
          "text": [
            "9.697524963278815\n"
          ],
          "name": "stdout"
        }
      ]
    },
    {
      "cell_type": "markdown",
      "metadata": {
        "id": "HzOJbKuwt9yf"
      },
      "source": [
        "And finally we can calculate the beta value"
      ]
    },
    {
      "cell_type": "code",
      "metadata": {
        "id": "q5POeT5MuA58",
        "colab": {
          "base_uri": "https://localhost:8080/",
          "height": 34
        },
        "outputId": "6aa0fe34-e730-4bdc-a04d-11bdb28620ad"
      },
      "source": [
        "#finding beta value\n",
        "optimal_Beta = X_Y_correlation* (Y_standardDeviation/X_standardDeviation)\n",
        "print(optimal_Beta)"
      ],
      "execution_count": null,
      "outputs": [
        {
          "output_type": "stream",
          "text": [
            "1.3224310227553604\n"
          ],
          "name": "stdout"
        }
      ]
    },
    {
      "cell_type": "markdown",
      "metadata": {
        "id": "O20dEy9CuPpo"
      },
      "source": [
        "### **2. Finding $\\alpha$ value**\n",
        "\n",
        "Formula for $\\alpha$:\n",
        "\n",
        "$\\alpha = \\overline{y} - \\beta \\overline{x}$\n",
        "\n",
        "Notice that we need beta to calculate alpha, so that's why we calculate the beta value first.\n",
        "\n",
        "So, to obtain the alpha value, we need to calculate the mean value of both x and y\n",
        "\n",
        "To make it easier, we can use numpy built-in function to calculate those values."
      ]
    },
    {
      "cell_type": "code",
      "metadata": {
        "id": "X7gesT56u-1v",
        "colab": {
          "base_uri": "https://localhost:8080/",
          "height": 34
        },
        "outputId": "150a0189-379d-477d-bf22-374b4f1e2dff"
      },
      "source": [
        "#finding mean value of x and y\n",
        "X_mean = np.mean(X)\n",
        "Y_mean = np.mean(Y)\n",
        "print(X_mean,Y_mean)"
      ],
      "execution_count": null,
      "outputs": [
        {
          "output_type": "stream",
          "text": [
            "48.95834146155939 72.73505055368646\n"
          ],
          "name": "stdout"
        }
      ]
    },
    {
      "cell_type": "code",
      "metadata": {
        "id": "g_nb6lIovI3q",
        "colab": {
          "base_uri": "https://localhost:8080/",
          "height": 34
        },
        "outputId": "25c012ca-e1da-42a4-a228-ec0018131ead"
      },
      "source": [
        "#finding alpha value\n",
        "optimal_Alpha = Y_mean - optimal_Beta* X_mean\n",
        "print(optimal_Alpha)"
      ],
      "execution_count": null,
      "outputs": [
        {
          "output_type": "stream",
          "text": [
            "7.991020982270314\n"
          ],
          "name": "stdout"
        }
      ]
    },
    {
      "cell_type": "markdown",
      "metadata": {
        "id": "8ic-wfYXvcOP"
      },
      "source": [
        "### **3. Evaluating**\n",
        "\n",
        "Now let's see the result of our linear regression model"
      ]
    },
    {
      "cell_type": "code",
      "metadata": {
        "id": "ZwOgD4qYvtin",
        "colab": {
          "base_uri": "https://localhost:8080/",
          "height": 282
        },
        "outputId": "d7d3b9a0-142b-4ab8-dcfd-2a1ffe2c6bfa"
      },
      "source": [
        "X_pred_ols = np.linspace(np.min(X), np.max(X), 1000)\n",
        "Y_pred_ols = optimal_Alpha + optimal_Beta*X_pred_ols\n",
        "\n",
        "plt.scatter(X,Y)\n",
        "plt.plot(X_pred_ols,Y_pred_ols)\n",
        "\n",
        "plt.show()\n",
        "print(\"y = {} + {}x\".format(optimal_Alpha,optimal_Beta))"
      ],
      "execution_count": null,
      "outputs": [
        {
          "output_type": "display_data",
          "data": {
            "image/png": "[encoded data removed]",
            "text/plain": [
              "<Figure size 432x288 with 1 Axes>"
            ]
          },
          "metadata": {
            "tags": []
          }
        },
        {
          "output_type": "stream",
          "text": [
            "y = 7.991020982270314 + 1.3224310227553604x\n"
          ],
          "name": "stdout"
        }
      ]
    },
    {
      "cell_type": "markdown",
      "metadata": {
        "id": "KZKZsEIWwNNX"
      },
      "source": [
        "It looks pretty good right? But, to make it more scientific, let's calculate the Root Mean Square Error (RMSE) using this formula:\n",
        "\n",
        "$RMSE = \\sqrt{\\sum_{i=1}^{n} \\frac{ (y_{predicted}- y_{actual})^2}{n}}$"
      ]
    },
    {
      "cell_type": "code",
      "metadata": {
        "id": "J0NA2tJeynP2",
        "colab": {
          "base_uri": "https://localhost:8080/",
          "height": 34
        },
        "outputId": "34eaafa9-ebdb-4bcc-a4be-f28bccccb400"
      },
      "source": [
        "def calculateRMSE(predicted, actual):\n",
        "    nominator = 0\n",
        "    size = int(len(actual))\n",
        "    for i in range(size):\n",
        "      nominator += (predicted[i]-actual[i])**2\n",
        "\n",
        "    result = (nominator/size)**0.5\n",
        "\n",
        "    return result\n",
        "\n",
        "Y_pred = optimal_Alpha + optimal_Beta*X\n",
        "calculateRMSE(Y_pred,Y)"
      ],
      "execution_count": null,
      "outputs": [
        {
          "output_type": "execute_result",
          "data": {
            "text/plain": [
              "10.500351587742816"
            ]
          },
          "metadata": {
            "tags": []
          },
          "execution_count": 9
        }
      ]
    },
    {
      "cell_type": "markdown",
      "metadata": {
        "id": "oszG2PN51Zca"
      },
      "source": [
        "## **B. Stochastic Gradient Descent Method**\n",
        "\n",
        "Stochastic Gradient Descent process is completely different compared to OLS method. In this method, we go through \"trial and error\", which is updating the value of alpha and beta based on the current performance. You can read more detailed information about linear SGD [here](https://towardsdatascience.com/step-by-step-tutorial-on-linear-regression-with-stochastic-gradient-descent-1d35b088a843).\n",
        "\n",
        "Basically, there are several steps of stochastic gradient descent:\n",
        "\n",
        "### **1. Initializing Values**\n",
        "\n",
        "There are 4 values that we need to intialize:\n",
        "\n",
        "(there is no single correct way to determine the value, it's based on experience and trial & error)\n",
        "\n",
        "1.   Alpha: 0\n",
        "2.   Beta: 0\n",
        "3.   Learning Rate: 0.0001\n",
        "4.   epochs: 1000\n",
        "\n",
        "notice that when alpha = 0 and beta = 0, our starting model is y = 0, which means the line is starting to raise from a flat x-axis.\n",
        "\n"
      ]
    },
    {
      "cell_type": "code",
      "metadata": {
        "id": "JbrODckAFSNI"
      },
      "source": [
        "alpha = 0\n",
        "beta = 0\n",
        "learning_Rate = 0.0001 \n",
        "epochs = 1000 "
      ],
      "execution_count": null,
      "outputs": []
    },
    {
      "cell_type": "markdown",
      "metadata": {
        "id": "-vZMBKHPFiYx"
      },
      "source": [
        "### **2. Backpropagation**\n",
        "\n",
        "1 epoch means we iterate our dataset from the first row until the last row. Because we are using SGD, then we backprop (updating the weight of alpha and beta) after each row.\n",
        "\n",
        "In pseudocode:\n",
        "\n",
        "\n",
        "> For each epoch: <br>\n",
        "&emsp; For each row: <br>\n",
        "&emsp;&emsp; Backpropagation (update the value of beta and alpha)\n",
        "\n",
        "To update the value of alpha and beta, we use this formula:\n",
        "\n",
        "(check [this](https://towardsdatascience.com/step-by-step-tutorial-on-linear-regression-with-stochastic-gradient-descent-1d35b088a843#3b4c) for the detailed explanation of the formula)\n",
        "\n",
        "$Loss = (y_{predicted} - y_{actual})^2$\n",
        "\n",
        "$\\frac{\\partial Loss}{\\partial \\beta} = 2(y_{predicted}-y_{actual})x$\n",
        "\n",
        "$\\frac{\\partial Loss}{\\partial \\alpha} = 2(y_{predicted}-y_{actual})$\n",
        "\n",
        "$\\alpha \\leftarrow \\alpha - \\eta \\frac{\\partial Loss}{\\partial \\alpha}$\n",
        "\n",
        "$\\beta \\leftarrow \\beta - \\eta \\frac{\\partial Loss}{\\partial \\beta}$\n",
        "\n",
        "where $\\eta$ is the learning rate (0.0001)\n",
        "\n"
      ]
    },
    {
      "cell_type": "code",
      "metadata": {
        "id": "Y8ZvMBrtG97r",
        "colab": {
          "base_uri": "https://localhost:8080/",
          "height": 34
        },
        "outputId": "0491d012-787f-4b04-fbca-13a3b72ce204"
      },
      "source": [
        "#create a list to record the RMSE for later evaluation\n",
        "rmse_record = []\n",
        "size = int(len(Y))\n",
        "for j in range(epochs):\n",
        "    for i in range(size):\n",
        "        Y_pred = alpha + beta*X[i]  # The current predicted value of Y\n",
        "        D_beta = (2) * (Y_pred- Y[i]) * X[i]   # Derivative of beta\n",
        "        D_alpha = (2) * (Y_pred- Y[i])  # Derivative of alpha\n",
        "        beta = beta - learning_Rate * D_beta  # Update beta\n",
        "        alpha = alpha - learning_Rate * D_alpha  # Update alpha\n",
        "    #record RMSE for evaluation\n",
        "    temp_prediction = alpha + X*beta\n",
        "    rmse_record.append(calculateRMSE(temp_prediction,Y)) \n",
        "\n",
        "print(alpha, beta)"
      ],
      "execution_count": null,
      "outputs": [
        {
          "output_type": "stream",
          "text": [
            "4.662607965242593 1.4726185464385981\n"
          ],
          "name": "stdout"
        }
      ]
    },
    {
      "cell_type": "markdown",
      "metadata": {
        "id": "MX4dECFpRA-j"
      },
      "source": [
        "### **3. Evaluating**\n",
        "\n",
        "Now let's see the result of our linear regression model"
      ]
    },
    {
      "cell_type": "code",
      "metadata": {
        "id": "yUjerT5cRBv1",
        "colab": {
          "base_uri": "https://localhost:8080/",
          "height": 282
        },
        "outputId": "dd2b7d28-5ef1-40bd-9608-171c6ed2b30f"
      },
      "source": [
        "X_pred_sgd = np.linspace(np.min(X), np.max(X), 1000)\n",
        "Y_pred_sgd = alpha + beta*X_pred_sgd\n",
        "\n",
        "plt.scatter(X,Y)\n",
        "plt.plot(X_pred_sgd,Y_pred_sgd)\n",
        "plt.show()\n",
        "print(\"y = {} + {}x\".format(alpha,beta))"
      ],
      "execution_count": null,
      "outputs": [
        {
          "output_type": "display_data",
          "data": {
            "image/png": "[encoded data removed]",
            "text/plain": [
              "<Figure size 432x288 with 1 Axes>"
            ]
          },
          "metadata": {
            "tags": []
          }
        },
        {
          "output_type": "stream",
          "text": [
            "y = 4.662607965242593 + 1.4726185464385981x\n"
          ],
          "name": "stdout"
        }
      ]
    },
    {
      "cell_type": "markdown",
      "metadata": {
        "id": "5nKRlVHcRpbA"
      },
      "source": [
        "It looks pretty close to OLS method right? But, to make it more scientific, let's calculate the Root Mean Square Error (RMSE) using this formula:\n",
        "\n",
        "$RMSE = \\sqrt{\\sum_{i=1}^{n} \\frac{ (y_{predicted}- y_{actual})^2}{n}}$"
      ]
    },
    {
      "cell_type": "code",
      "metadata": {
        "id": "JdaVZBI9RwQu",
        "colab": {
          "base_uri": "https://localhost:8080/",
          "height": 34
        },
        "outputId": "408895fd-1906-499b-e677-b5ca0216ba60"
      },
      "source": [
        "Y_pred = alpha + beta*X\n",
        "calculateRMSE(Y_pred,Y)"
      ],
      "execution_count": null,
      "outputs": [
        {
          "output_type": "execute_result",
          "data": {
            "text/plain": [
              "11.339108239948436"
            ]
          },
          "metadata": {
            "tags": []
          },
          "execution_count": 13
        }
      ]
    },
    {
      "cell_type": "markdown",
      "metadata": {
        "id": "7EOw9R_yR8Vg"
      },
      "source": [
        "So the result is pretty close to the OLS method! Now let's see the performance progress for each epoch"
      ]
    },
    {
      "cell_type": "code",
      "metadata": {
        "id": "NiQtAg9uSGo-",
        "colab": {
          "base_uri": "https://localhost:8080/",
          "height": 284
        },
        "outputId": "fc1cec71-14d3-436c-d660-9406f9c0002b"
      },
      "source": [
        "X_evaluation = np.array(range(1,epochs))\n",
        "Y_evaluation = [ rmse_record[i] for i in range(1,epochs)]\n",
        "plt.plot(X_evaluation,Y_evaluation)"
      ],
      "execution_count": null,
      "outputs": [
        {
          "output_type": "execute_result",
          "data": {
            "text/plain": [
              "[<matplotlib.lines.Line2D at 0x7f5a75d9a7b8>]"
            ]
          },
          "metadata": {
            "tags": []
          },
          "execution_count": 14
        },
        {
          "output_type": "display_data",
          "data": {
            "image/png": "[encoded data removed]",
            "text/plain": [
              "<Figure size 432x288 with 1 Axes>"
            ]
          },
          "metadata": {
            "tags": []
          }
        }
      ]
    },
    {
      "cell_type": "markdown",
      "metadata": {
        "id": "7DbIsHY0SNS-"
      },
      "source": [
        "Notice that the line is still declining after 1000 epoch, so it is possible to score closer to OLS if we increase the epoch"
      ]
    },
    {
      "cell_type": "markdown",
      "metadata": {
        "id": "6h9aWY04UAiq"
      },
      "source": [
        "## **Comparison**\n",
        "\n",
        "Now the question is \"Why do we need to use SGD method if OLS gives us straight-forward and optimal result while SGD is slower and not optimal?\"\n",
        "\n",
        "Short Answer: OLS is much slower compared to SGD when dealing with a large multivariable dataset (more than 1 independent variables)\n",
        "\n",
        "Long Answer:\n",
        "\n",
        "For multivariable linear regression, the theta (similar to alpha and beta in simple linear regression) can be calculated using this formula:\n",
        "\n",
        "$\\theta =(X^TX)^{−1}X^T y$\n",
        "\n",
        "<br>\n",
        "\n",
        "where:\n",
        "\n",
        "$\\theta $ is the matrix of theta ($\\theta_0$ is the bias)\n",
        "\n",
        "$X$ is the matrix of independent variables value for each row ($x_0$ is set to 1 for bias)\n",
        "\n",
        "$Y$ is the matrix of dependent variable value\n",
        "\n",
        "<br>\n",
        "\n",
        "if $m$ denotes the number of rows/sample and $n$ denotes the number of independent variables, then:\n",
        "\n",
        "$\\theta$ is n x 1 matrix\n",
        "\n",
        "$X$ is m x (n+1) matrix\n",
        "\n",
        "$Y$ is n x 1 matrix\n",
        "\n",
        "<br>\n",
        "\n",
        "Take a look at the example below:\n",
        "\n",
        "![image.png](data:image/png;base64,iVBORw0KGgoAAAANSUhEUgAAAloAAAFRCAYAAACsdAO0AAAgAElEQVR4Aex9CdwzVXX+VOu/WmutorVVi61a15paRXGHuOBOtIJoTbEuDYtoo1I0LkiDiFEEggpBwIgaFYNoFAkIYQkIYQlLQKMQNIJBjRhgWAaYJM//d+7MnZnkneSdTCbJ5H3PfL/53szMXZ+7Pfecc+9VwBcjwAgwAowAI8AIMAKMwEIQUBYSKgfKCDACjAAjwAgwAowAIwAmWlwJGAFGgBFgBBgBRoARWBACTLQWBCwHywgwAowAI8AIMAKMABMtrgOMACPACDACjAAjwAgsCAEmWgsCloNlBBgBRoARYAQYAUaAiRbXAUaAEWAEGAFGgBFgBBaEABOtBQHLwTICjAAjwAgwAowAI8BEi+sAI8AIMAKMACPACDACC0KAidaCgOVgGQFGgBFgBBgBRoARYKLFdYARYAQYAUaAEWAEGIEFIcBEa0HAcrCMACPACDACjAAjwAgw0eI6wAgwAowAI8AIMAKMwIIQYKK1IGA5WEaAEWAEGAFGgBFgBJhocR1gBBgBRoARYAQYAUZgQQgw0VoQsBwsI8AIMAKMACPACDACTLS4DjACjAAjwAgwAowAI7AgBJhoLQhYDpYRYAQYAUaAEWAEGAEmWlwHGAFGgBFgBBgBRoARWBACTLQWBCwHywgwAowAI8AIMAKMABMtrgOMACPACDACjAAjwAgsCAEmWgsCloNlBBgBRoARYAQYAUaAidaMdaBdzSOZTKPS1mb0yc4Jgd/+9re49dZbMRwOGRBGgBFgBBgBRmDLIxAw0dJQy2eQSqeRHr8zOZTrnbUHtJ6NQVEUZOu9tc/LsjOgqipSqRR++tOfot/vLzt6jo8RYAQYAUaAEVg6AsESLa2OmKIIIkJkZMOdri09g0FH2MjFmWj5AJUkWOVyGTvuuCNOP/106LruIxT2wggwAowAI8AIrBcCgROtuCBYURRqDTQbDTQcd6ujrhc6LqllouUCiodXN9xwA44//ng85jGPwY9//GOWaHnAjJ0wAowAI8AIrD8CCyJaMdSnmDDpahftVhtddUyqofXM907PGjqtJuq1Gmq1OlqdcZWdhm67jU7P8NNtNVCr1dBotmGHoqPTaqHTbqLeaGMsVgAaOu0WOj3ji9ppGfHVG+jagYjSnka0dLWDRp3SWUO92YYrrdS6aJpuGq2OI43zVabbb78dP/vZz9BsNkEquhtvvFH8vvLKK3HbbbeBvhPZueaaa3Ddddfh7rvvni/CGXxT/D/4wQ8ELk94whOYaM2AHTtlBBgBRoARWG8EFke0XFmGAVY9GzHVikm0LNbTQy5qqBsjmbpw2CpnEHFRQUYSBVh0S60hakrRUknDfspSWcayaPVayMVlfKY6M5bFiLWYFUYcmbShGrTCUBTk6l2rlN2Jlo5aPrlRVarEUGrZQHSq2Y1uImm0LQyAej6JSCSKdKllxbnZDyJNV199Nb7//e/jqKOOEqTmoosuEu8+//nP46STTsK5556Lyy67TJCdQw45BPT9vvvucw1a0zTh7vzzz8dm94UXXihI3CTjdrLFOvvss3HppZfilltuEapDlmi5ws4vGQFGgBFgBLYgAgsiWhGU2yo0VRXSFZKwqJqDTfSqli1XNGvYbbVLkqjEUBMsqoeMSbKiiRRy+TwyDiKVLLWN4tDqMNSVJomKJpB2uJOEKRJLIpWIWkQnUXQQmfEwInGkMymTwFG4cUtC50a07LQriKdzKJXySETM9CgJNCnrWsNKZzSZQbFYQFqkJ4qaxcV6yEqymSp7rm433XQTLr74Ypx11lnYZ599cMIJJ6DT6eDee+/FwQcfjD322EPYR/V6Pdx5553Yc889hZs77rjDNQ5y8+1vfxu5XA7HHXfc1PvEE08UBGoS0SLp2Q9/+EMR7+9+9zsmWq6I80tGgBFgBBiBrYrAgoiWJBmOv5GsLYUC0CpKYhVFsVpGwiRVFoGCjla1gnrbYiGiDMopQzoVzRpSLzgM8KOpoqWuq2Zs6VYsUzFVdDpKSdN/umKXqSMMkpZZ8qtO2SJbqbJB7DYSrTZSMu2Fph0mOkibZEusUFTlQoH0iDSNSKh96SinDDIYy5n5sz9O/NXtdsW2CWRk/q53vQtXXHEFBoOBsIM64IAD8MEPfhDttpH+3//+93jjG9+IQqGAu+66yzXM+++/X6gef/GLXwj1I6kjJ93k5p577nENh7ZxIJUhxU1EjOIm1eGZZ57JNlquiPFLRoARYAQYga2GwMKIVjQWQ8y6o4gmCxYJMkC0pTdS6qTEciNkzAJb16D2euipPVTN7RViDqIlJFqRUQKjNXKG9CqSGQlTrZvvow7iJyVaY2EADmJmSt42EK1ezZLO5ettdNpttFottDstFCVporQ6yFw0kUNjysKAWVfkEakiP1/5ylew7777CmkWYUcE7E1vehO+/vWvC4kSvTvjjDOw++67C9UhESq3i1SKRKCuvfbaTW+yCyMJmNtFxO+YY47Beeedh2q1ilKphL/7u7/DEUccgUsuuWSi6tItLH7HCDACjAAjwAisIwILIlrTjeElUHqrYKnyiGwVnMZK5KjXRM5FDUhuNxCtWG6EyKmSaHl5L4nWmFtKQiNnSMbi+YZI9jjRsoibKdWySKPjOZIx1KONgpTiGZK+SCyF6pjETmIz618yOCc14UEHHWRJqsh+6nWvex0uuOACIUEiAkXfP/ShDwkJ1a9//WtXo3giTqeccoogbqSGnHQTscvn8xNVh5JcEbmjmwjfIx/5SBx66KE455xzhGqT8klpp7RNUj/OigW7ZwQYAUaAEWAEwoLAwoiWbXc0OavtcmqEaCWddlOkerPISgSJdAb5Qt6yc/JMtKITCJjz/RSiJTcolaq8DURLEjolhmyhiGJx9C4Uiqh37KWLvWZ1xNZMUaKodB32a5PhmvqFpE/77bcfjj76aKE2JMf0+53vfCd+/vOfC79/+tOfhL0W2V9Jw/hR1aURBZEeWq1IqydJ8jTtJiN3CsONJJHEjNSTRNzoJoP9HXbYQdh/EbmiSxJESuskFaSRKv6fEWAEGAFGgBFYPwQWRrTqTtMjN1wcKjdbChRD1VxOqDWltCuGSscmIu1CQpCzhRAtJYmmzYlIpGYZp8v4xokWVKk6jKI24tct0/Y7rVNDyjR8T1dG1kDajmb4RRKi97///UI9R96I+JBt1mc/+1mQETpdtMXDgQceiMMPPxynnXYaSKI1q5pyhiSNOP3Rj36Ej3zkI/jLv/xL7L333jj55JOFRIvUmy984QvFOzfSNxIIPzACjAAjwAgwAmuGwMKIVk3sSaWLgZwG89EBXUMxYRrKx/K0i5VlUK4kisJw3VbJJdCQBKZXt8iJJD5k+yRstMbUfpbq0Cm5AuD6XoZBErRoGg2T7LXLaUvilm8YzHED0ULbkrxFksURezDaV6tWrYMEVkSs8oWq+G3UERWFhGGYn65a5veoF1KIRmPIlB2rIj1UKrILo60Ybr75ZuGaiNZPfvITYWNFqw/pIlsuMpQ/9dRTxV5a8r2H4Od2Qisiv/SlLwniR9IrkvxR/CQ9o20pLr/88rE6MneUHAAjwAgwAowAI7ByBIIlWtbKOsdqQ0v9pyBiblnQrWYsAlM0D2fu1ew9pjJEPBzbISiRGFKpxMieWkEQLWsvLifRMtMbjTr23nIY6W8kWkBnRAUaRSKRQDxmbyVRVQG1LvMcQTyRQMza/kFBybJNsyVoEquV1xBOACPACDACjAAjwAj4RiBYooUusjF3kkXqwWiKtlRQkTPdxMyVfEbqNWvrBSWWF4bt3Vre2l5BqBcjcchNSaXNlLWab0xypTXzBpmbJOky4xBxS6IVTaGQG7UbiyayaEmJmjCOl2cdjupGW5WctfrQVoWSbVnRkGL1GkjHHORNELooclVzPzAjIRYGo9j4Ll/2yAgwAowAI8AIMAIrRCBgouU1Jzq0CYcK65o2dkSOjl6vi263Zx1XI1SRXqPy4k4SrVjOiENTxdYIPdXBsLyEQzSy1xNp7anqWD6MAHRNRa/bRbfn/t1jNOyMEWAEGAFGgBFgBNYAgRURrZAh4yBaljoxZEnk5DACjAAjwAgwAozA+iHARIvKTK0bKkrnJqbrV5bhSPFgAPzpVuCP3dnva64EvnkScMhBwCc+ZN9XXRGOvHEqGAFGgBFgBBiBGRFgokWAaW0Ucllk8/KonhlRXLXzG28ADjoA+NA+q7n/++3A618KPPsfgcc8CNhBCfb+zsmrRpjjZwQYAUaAEWAEfCHARMsXbCHz9IVPB0ts5iFKj32wQbh2ejIw6/2qnYEP7wuc8CXg6yfYd+v6kAHOyWEEGAFGgBFgBLwhwETLG07hdkWHQ5eKwPe+vZr7jBJAar9b/xhunDh1jAAjwAgwAozAkhFgorVkwDk6RoARYAQYAUaAEdg+CDDR2j5lzTllBBgBRoARYAQYgSUjwERryYBzdIwAI8AIMAKMACOwfRBgorV9yppzyggwAowAI8AIMAJLRoCJ1pIB5+gYAUaAEWAEGAFGYPsgwERr+5Q155QRYAQYAUaAEWAElowAE60lA87RMQKMACPACDACjMD2QYCJ1vYpa84pI8AIMAKMACPACCwZASZaSwaco2MEGAFGgBFgBBiB7YMAE63tU9acU0aAEWAEGAFGgBFYMgJMtJYMOEfHCDACjAAjwAgwAtsHASZaW6isjzzyyC2Um+Vl5ZZbbsEee+yxvAi3SEzf+c53cMwxx2yR3CwvG/vvvz+uvvrq5UXIMbkicO2112KfffZx/cYvGYEgEWCiFSSaKw7rkEMOWXEK1jP6m2++Gbvssst6Jn6FqT7ppJPw6U9/eoUpWM+o3/a2t+Gyyy5bz8RvoVTX63XsueeeWyhHnJWwIsBEK6wl4yNdTLR8gAaAiZY/3Jho+cONiZY/3IL2xUQraEQ5vEkIMNGahMwavmei5a/QmGj5w42Jlj/cmGj5wy1oX0y0gkaUw5uEABOtScis4fvtTbR0qL0eVG32gmOiNTtm5IOJlj/cmGj5wy1oX1uVaHWqeSRTObR99IVBY8zhGQgw0dpCNWE2oqWh22mj1Wqjp+oGCr0mivkcSrV2MKioNcQUBUq8AKPNqyhnk4jFooiny+a7AKLSW0hSPOadq3XRLqXEc7q8eV48Ey1dg9pToZlwGSmXBG/k5fyZ6tWQikWRLjXnD2vGENrVPOKxGGKxJKqdyfnySrQ0VUVPVTESkq6h1xt7N2M63Zy3ShlEo3GUWssfZbziNj/RIux6Aj83DBb5Tu/WkUnEEYvGkBlpWxrKmQRi8QxWAL2vLM9PtHSoqmrdo/3CxiT1mhXkcgU0eyMtYaNDr2829K+Gx1omCkWJo+HSBHS1h263N9oWyZuuot1qodXuQB2Pf9ZvWh1x6osTxeD6+PE0rdkzE601K7BpyfVKtPROxWgIDnKSb6pQaxmTrKTRnRaRx2/NfFyElzI75HYpaZEhJZpFz2M44870XgvlYhHVpplKrY1yuY5et46EoiCSqQG9KqKUPw/xeCNaKvIxSebiqJm9kdrIiTxFs/XxZM71vKhwN02UWjNwk6S1saHbtYLwRLS0ukG2xzreRjYmcMvW/dYCKxkjPxq5xYQ7Eonbwwy4zUu06iZ2NLHITSkft2TO905DIS7bgILROq8iJ9pHzGob88W1eN/zEq1mIWH3Z2Z7iadLE/o1FbmogV0sH8zkabx/VVtlJCJ2+ShK1DHhUFHNy/43OlJGvUYBETP9xmQ1joo5wfL3TUVe1JMISlMmaosv4fDEwEQrPGUxd0q8ES2bMESTWRQLOUG6MrUe9F4D+WwWxWpr7rQAXWRFxxJF1RxL5SBIcc1zaY2s6OAimTFy0y2LDiNZIimWzGcE5U0a++xES0E0XRVZkIQotiCiFcs1RDy6HtAseBPgNZM4RlLljbPeMb9eiZaY3Y4Rt0bOIOHBEy0j3FzTmM4vCTbMgtt8RKuNtGMwlfVwrGgW9KiZkw03MiXbWxwNUVWXU1/nyei8REvW4UgsiWxGkhgF8YI7keo2yshm8mgEItEa71/bSJltLJZMI5tJiQmT0deOEmRFiaFuzZ9sf4lMDul4xCCPiSJ0+P0GyEl1PCBSOU85h8EvE60wlEJAafBKtIyZp4J0xZZbiQGpW0UiEkGq2ITeLiMWiSAaJRVSDNFIFAVz9typ5RGzOvsI0kWDDIxkQ4q1o1khHWsW7I5IiShI5smPikrW8T6aQLklewD3b1qzaEtcIhFEIkmIZOkto6OJ5y3Rd8OUqE3q+GR6PRMtx2xeUSIodwHdJCaCaOlNpIhcRlIwxnkVhUQECqVRAwwMYshk01YeUoUKqoW0NaNMmVhKAqfEkkjKzi+agiUA6jWQiZOKwJwlp/Iw+KQZZzSOhPAXd3SqZo7VJrIJQ/JD/iPRBErNHjZgG025qh8kbn6IlhLNifKRgxQRLa1pzKgTok5ApINm2MazzE8C6ZRBopRIHMVaDfmkzH8cZdMgRYYbiSWsOkpSBlmrJtVdkvLGlAiS2Ywh7Y3Z9Ujmt1svIh41ByJFQSyZE2qyWXGbh2hpzbxV5kbZJ9C0OI2Gai5p1SVqu9Ru89RAJtYXmTv5l8JIWWGQVCRVqEGHioKFN9U5M1zpzZrYKIjGZd2KIl+3+5hJ+FE/INpJ1FsZT+83rARt+iMooiUnQ52yYa5A5NetPl1dTCMSiaHYNGpju5qz6ijV6ZL5flIdHcnQWP8KrSmk+VQnqF8yLs00c1BRTCWQr1aRMaWOkmhR2xP1KGJqGHoVs29K4PKr/X0TKsuOMelVYkZ7lynarn+ZaG2hkvdGtHSUErZ4OZbMot4xLajqhhqMSIPsKKKmuJsaIw2KeqdkdvRRZHJZxE3CVRgzzJBEQUpGRoiWOYhK0XcklkIuKzv3FNo6MOnbL39RdAw0RGISqKtydhdHtd21bFdkGjaTNnkmWqKTiiIeMwbbSKqCXsvojEQcqlSTyRn/qDpFkgCjY7PLYPTZsK2QaRfflIg98ImZZs+UFiqIp7PIJAzCESWVqWPAM/zKtMiKbvtViIyZeSGbjouvdmJLhNEgiNLn+F+vRIvs9CidUq1B9ahVsCVaMq+ynEafpaTEwGtUxeHA0LQDHMXYJkWpSmdq3VXNum9gRirn0QHCrvdEJBK2OjRZwp2t2XCbh2gZ9jcKcvWWpcbLmhJiOdBH4ilkJClVFBRbv5tSX0ZLtWmWC00kEgmT2CoK0tVfGWTIUjFFDAJneZ9UTml0yATI6jc24kckzlbLK3Zdt+Iyy9ks40l9A/Ubs1xBE62qqdKlduhWny5xqLX1tl1nYvG4ked0zYHTbP0rdJtoUdmlciW0NkjObImkJFqyrRl9BwCtYZqVxHDuJaZZhOhXvH8TZhUyHHOiPUu5bEW3TLS2UKl6I1o0FjeRtuyNjE4sW+1ANjo54BE0nXLaIDbRjOgwpfovlqmgq/ZQM/X+iTFxuRVWzlbvyUHQsCuRJERBttqG2m0gJUgbEYNp36gvMAmhqVaDRXDMDtmcnVlp2EStNxvRSqDWLJuzvihyhYzoJAVm0gjUEs3LAcQQ1cv8x3NEiDTTjkFKbiQBiqDY0qyyUKIZQTz1dskcgFJo3Sg76QRqnR66zZKRHmGPJuNUkKm0oYt/diXXTGKoKCm0xMDUM21rDCJtY2uXm+179NcsRCuWb6AlbfRiGZRyhn0Lka7xchp9lvmJoEBiQtW0vVNiKNPI2jXLIpoTtjEWxlnCGJDPZE80re7KOBUlgVpXw7iqVvqNZgyVMeSMXTEkhrPg5ptoWYs+kiDleNeUoESShppX2gxl6jqgV0V9Ed+sQd2tvjjL1G53QgoGKYVVMEriY6hvMLS2y0n41ZvmAhWD6E/Hz/a7eRnbadzYbzjzsvnvoIhWJBobkXRma12rTjvrk6yLVOelnV3MIjE9dHva1DrqzJGsrzFH/6o2Sxtsb2lhkH1JnG3V4YZwLFvDGC40iZYVh8dvgsRZfbIdl52O7feLidYWKnPPRMvMc6deQlJKrKJZ3CQJjCQmPXPVoJgVGz2r7Cysmb856xw1jIXV0ThJm/RLHQ1I/2+pHx2SCYUMNad9cw/brRitTkTmx82R5w1L7U6KbFCkZEHiIPK5oXMZnUHK/EsD5tFnGb5BeKy0SxsHrW6J9GsXG0RTxm39jWShWtKBuMtgCHum7ZDYSAmBG+mZAJl4PQvRimZJVdweWR1K6R6J0xw0LNIiyk3iYg7ukszG8saKJjlzNlUUFqamjZa056Pykd8svBx118JbkvexjEu/suycM3+awVv+N6lrFKxfouWUkiRSKSRk2zVXmHWrcjFLBFGzbSWKLbvMxyVEor44Mqo1TPWTvWJNlkUkWXJIS8elpBTGWDk5n1Wb8LrjN+Z3ahlP7xscudn0Z1BES9QnMrOIkXrOWOVs1QdHfZJ1iOq8/G3hYaZWvnero84MWeFvqG8a2vWyo193SmZtnDcs5pETCNmeFKdEy5xcePwmwpaqTSUx1fzAmaet/JuJ1hYqXW9ES0Wz0bKW3Wp1s3OO5saIloaiqWKMm7YzBJWciSXydWi6Bk2jLQ96Y1se2AO6JZJ2SBcMomXPTPONHnRNg9gGQCz5n/bN+6CmNQx7FifZcyvu2SRa5oBvdSQGSRRxWANVDDXipaqxClIan8pO1Mi/PfhkjSngiGRJdqRKPG+sYrIkKAlcfrm000mhqepGGag9c5sOuzOV6gFnnq1wIxlzZaktWRshPRs6cGcoxu/ZiJYhIZPqLTmQiDhNtZ0xmNtSVKPcxvJjDcLmADL2LDFOFg2DZCnloYnAtLorcZlUV6TfuBw4LVuWUVXvJP9O9PwSrUrKVoVK/OTfdLULmddYIoFkMoV82bCdlO2ApJgb64szZU6pqqGHk9ukbJBoSaM3y/tYOY0Rren4jfkdK1OMPE/vG6zkePgRFNFy9nEyWrf6JOsm1fkNeGhdtDqq9X7m/lXrotEgCbZxSYI8uuranvgZCxbIHtLsS2R/0LEl57/0+U1QTVlmTLREgTDRki1jC/z1RLTUmqkKjCOVStrGmIkSbnNItKwGSLPgeBLJRBzZchu9mrHij4xh07kCCnmy04psWGauS2LgkJw4OxpAhzVwRJPIFQrIZZKICmP2ad9sokVpiMXThjG8S/l5XfnilWiNL1+vmzYXNNiNkgIyMI+ZEigiYlJ9YtslUXJtPGjUsgcQJ+ERA2ksPlJOut6yDF9jqSwKhTzSiSjiQiJkD1py1joCjcOWI5pIIZ2UhsvGzNNtgBjx73jwQ7SAzsiqOcqr014lErHJxCimphRFbhchjWzl85iRvSiTuMPGqNKZWnc3y3evLuu9gkQ6bUuTUmWByGb+HbD5k2g5SHzVYXsjF3zQnkVXmYs/qO6R3U8ikUSu1ACm1hdnyhztLhJHOm0b1meECmpa3Rr/Nvo8Hb9Rt0SsxP57rmXsSOOGfsOZl81/B0W03Mi1W32w23vPURcVxJNJkV+S+vrtX1U5YY7EhG2dtGU0VN2aWHSUSCSsPkmQ8UwZmqNuRONJy+ZWaCj8fiPopTbE0f9vXiJb1wUTrS1Utp6IFnoope0BiAakaMLYRVh1SIDkbzHQmyoHY/Webtll2d/sfVcsOC17ElsNITuanBS1aC1k5Yo6M45I0tzkbto3dJG3/E2yAdBRShqDdt5UI1lpG/vhlWgZcTpW8dFKR1NFI6V+3ZpDrRdLIk2rDk07nvH8jz7bS7DJxkXiT52w2A+M8ImQ/ZAxZ+01irZBtoldqkTbcshBy5HOsfxu8CtWPBlbbsh43QaPsWC87QxvDpqWnQf1wfW8aW8WgbGIQkclIwmfgphphG34ceSHpIRSfSEHYZIaUhmMqQ5j1so3BdFU0Vx1OLnubp7vjX5luyFcNvdvo+dHoiUH7vFNIK0JjZLA1w4zF0XEk0glEybGirBt21DmigKjvtjpEr9c2l2qUDclJY6ymCjRkvVu3O00/BxuPZQxXNJo9Rtj2Zn2ODfRyht2hpaU0xGZW30Yb++VrHMfrijygsxuxIn6D7mvlRXFeP+qt5FPmkb1oq+IIV2omvVe7mvlNNGgNmOsrO3VC3YfI8aDvLDHpbj8fpNqbMum0Ur49vzBRGsLlbs3omVmmHY5V8d3OZ8BDLFLeg/qlDNvpMSKpBbTLl1TxUpBzWVr5WnfSNWouvgRcVmSm6Rp9D05Bd6I1mT/G76QGlQjM3Tj8ruXk2WQPXEXddqZmlSGfnZYN3a0J79+L08SrRkC10ReDFvAGbyNOdUh8RbqaM0lPA91dyxQ+1GUBR31JEvX/uT1lx+itXnYUu1Hqww1QG8jay54se2AvNcX0bbm6R8mJTgA/GTQ0/oG6Wba33mJ1rSwvX6jPFA/vKE2eaijbv1rI0tkO2URJa/pIA2DOMLMtT+f/ZtMmzWp9p6QLemSidYWKtaZiNYS8m2tcIvT5nfLvboVc08bD7ZGgROt5WZ1ZbEFTbRWlpElR7wYoqWj7GbDFc8FcsrDkiFaSnRhIFrzZNStf6VzDtO5qmWDO0/4vv1qDVPabmzt4TucLeSRiZbXwqSZfz4H3DZdOuM1uEW4CxvRollSu1FDvdlZOtHSui3UanV0XQQa49gz0RpHxNszEy1vOI27WgzRolh0dJp1VCsVlCvVlbS78byG+XndidYq+9fp5aqiWa+h2fEvLZ8e/vp9ZaLltcxOOhbYQQE+8SGvPpbuLnxEa+kQ+IqQiZYv2LzZaPkLekv7WhzR2tKwBZ659SdagUPCAS4IASZaXoE99kiDaP39XwC//51XX0t1x0TLH9xMtPzhxhItf7gx0fKHW9C+mGgFjSiHNwkBJlqTkBl/T2pDkmjRfcSh419D8cxEy18xMNHyhxsTLX+4MdHyh1vQvphoBY0ohzcJASZak5AZf3/rHw4KFEYAACAASURBVIG//XNghz8DrjCO9xh3supnJlr+SmAmotWrIRWLIl0yNsT0FyP50lDOJBBLZMXBxP7DWZ3PxRMtFZVcCvGY3BcqgXiMDh73YHi3Olg2jXm1REtuRCy3Ydg0uYtxIDe0TJjbuSwmlqmhMtGaCg9/DBABJlqzgLnjXxlEaxY/S3TLRMsf2LMQLbmf0fiRQ7PHrCInjlBxO85k9tBW4WPRREtuOGvv12bsA7TZdiGrwGKWOFdJtKzDnc0DmmdJd7Bu5d5OEZQ6y16TbOSEiVawJcqhTUaAidZkbDZ+YaK1EZMt8MYP0YqZR7FYe13NgIOxz5PcoHTShqszBLgip4smWvIg4nTFOBhXHlvCRMt/gTfNTTaTJeNMPv8hze9TEum4PM9z/iBnCoGJ1kxwseM5EGCiNQt4TLRmQWtt3PohWkosiaTcnT6agrUna6+BTNzYoZskMbFUHnLCrrXK9hEXCePYDXkOot6pIKZEkMxmEKedncWuzRqquZS1wzcdOZQq1OytMtQmsgl7R/VINIFS09h+pFlIiqN/Mtm0tetzqlBBtZC2wksVjbPwoHeQt47iURBLlz3tw7NIomWk35Bg0bE8qVITjYKxk7YkWt16EfGo48ieZM6hhp2MnSvWPjHwU8lXJ9GSO7AbUiStWRB1IZoqmeWtoZSiupuAOLxhUl1WW8inHLuQK1FkKwZxmwlbeUyX3OXfD5hz+GGiNQd47HUmBJhozQIXE61Z0Fobt76Iljj2JmKRFjoaRYe9O3c8nUUmYR6JkiGbvg7S5lE5iuM8P0m0VPNgZUtNFs3hioI8Kikizi+T3+gAYTjiUqJxJGKScBi2N/K4D+HHPCZI+lesZ+N4pKZ5Rh6dm5inY0GiWeMg601KcFlEi9KdLDWtQ5OJaFkqMDoyJJ6wjyNKlgQRbU7BzhVrnxhsApHr55URLevYFlOKKs+jU6KoEj+XZwwqCTS1yXVZnoMaE2dlyjpqHq7tVo8nYSuPU4pmV7KpKhMt1+rJLxeAABOtWUBlojULWmvj1hfRimbQ1umkE/u0+9aNRePAbiWBWqeHbrNkSJNoIGmZ3yIp0ImEEBIs48Bpkh5I2y+SJtS6GnT9NhiHWCugsw/pklKeaKYGa1doJWUeMdSz3BMRkUQrniOSpyEfN6RDiTxJseQgGhHHtUiVXDSZR7PrfZPBRRItyq/MgzxCRj4b+TMkedZZalI6Is6VtA/odsNuI9Y6/GIgCmbG/1ZGtFTzsGYlCeP4Tx1l8zzQZLkLeTBxJF1xHPS9sS735DE6dARWr4m0w9ZwJmyt9KxGfc5Ea8aKy859I8BEaxbomGjNgtbauPVDtGLSrkSrm6q5BGoXOw6UltIr+hvJ4pZ61iBh1mn2OgqC/BiDjBygpO0XHZ6cEGHYh3JrDSP8SLIESypjhQdIyZSTaI2TFONZqpAUGNKhqqGuNNMcsQ5hnl6EyyJalEa6RomWIUmR+bMOm1ZiqHU3wc7E0cKa9lTv+MNgOkLuX1dGtORKv0jGOgvPqkfxDHJCbaiAzqez3jvrsVmXe90akpZU1CDwlmR2FmzVmimJTKCxgoWkTLTc6ye/DR4BJlpumF52MXDmjwD1jtGvk4gWHVx73FHA3XePul/yE6869Ae4H6KlxPOGes2SpCRw+eV5U6KVQlPVoWl0cDcd+qwLCUFEDFQZQ02i1k0iNUa0rLMZnVInY1VWu2Se35ip2RKwiBmeQ2rlJFobSQpJrGyJj/xOx3m0qnmTNJqqpE3gXCXRkhKouLkoAb2KmXYipt6wi1lYy4zOjoH0OcvflRMtIqOW4LKN1AiZMg5h1xqT67LEPpGroqe2kBaka1I9lsi4YCuJn8JES6LEf7cmAky03Mr1DS8zNiatXzr6dacnG+/PP8d+T3tqvWIn4302Y79fwS8mWv5A90W0aHCKxRGTM/tECbreMskTGcFnUSjkkU5EEc/VAb1pfYvE4iYpMFSHNOhZEi1r8NdRkYcER+JIp5OWPVim1h0JLypsZaRRvDFoOaU/hIr9vJFo0cAZSWRRLudNCUPUMRBPxnSVRKsnJYSKgkQ6jYRQXylQUmVx5t807DZiDaE69IPBZHQmf1kZ0ULP2lJE2GSZSZTEiWzhoumq8XZKXZbu45kCijladLFRBe4ksRPrl7QRc0hlJ6MW/BeWaAWPKYfojgATLTdc9vtPgzh9aJ/Rr1/4tPH+s58y3peK5iamCvCiZwJXXj7qfslPTLT8AT4b0TJm+vFk0iZLEbKrMqROvUbRNsw2JQWpkrDKQqdiqg/pfTSJVIIM2A3jddWUIDgHKGgtZOXKRhlWoW6tOtwQVyRurTqUxIrUQHSNPsutJQz7r5YpKZPG8ilHHNMQXRbR2pAHYbOmo5aXg7yhvoomcmhLFdQU7Nyw9ovBNHwmfVsd0QIqaWOBRkYsqDBSSHaGsuwtVSxZ8k2oy3q3ioScYJj1clo9noRtt5oR8Vp2dpMAW9B7JloLApaD3YAAE60NkAC47hqDUD3tMUD3D7aL3NHG+8MPBk4/DXjMg2zidc89trsV/WKi5Q/4WYgWxWDtnSWMglWL+Nix66bK0OWbrgmVotyi0dhTy/bp9ksjo2NVhSY9jTjSofZIPWnpgka+en4w8+Ieh3soiyZa7rGOvZWG2RMSPh07t7Am4Tzmdo7HVRIt1ZQERlIVKwfOBR0bd9eaVJeNeqe61kkraPuHS/2SUkdJpG3Hy/nFRGs5OHMsABOtSbXg7W8wSNQLnwH89ibD1Xk/AQ54F3DwgbYk60tHTAph6e+ZaPmDfFai5S+WrecrFERrDWFdJdGibUYMm6w4miZJqqQMiWAkvcSjxbSGKflNW4b5yy5KJlrLRnz7xsdEa1LZkyH8q19okK3HPQQgdSERrs980iZZxx45yfdK3jPR8gc7Ey1/uDHR8ofbaokWoHaaqNWbkDLQdqOKcrmKtnzhL1sz+lLRrNfQ7Cw10pE0MtEagYMfFogAE61p4N55J0B2Wo96gEG4Hv1A4y8dLB0ykkXZYKI1rTAnf2OiNRmbaV+YaE1DZ/K3VROtySnbXl+YaG2v8l5lbploeUH/3LOA177YIFkvjQA/v9aLr6W7YaLlD3ImWv5wY6LlDzcmWv5wC9oXE62gEeXwJiHARGsSMm7v+323t6F5x0TLX1Ew0fKHGxMtf7gx0fKHW9C+mGgFjSiHNwkBJlqTkFnD90y0/BUaEy1/uDHR8ocbEy1/uAXti4lW0IhyeJMQYKI1CZk1fM9Ey1+hMdHyhxsTLX+4MdHyh1vQvphoBY0ohzcJASZak5BZw/dMtPwVGhMtf7gx0fKHGxMtf7gF7YuJVtCIcniTEGCiNQmZNXzPRMtfoTHR8ocbEy1/uDHR8odb0L6YaAWNKIc3CQEmWhOQuf/++3H11Vfj/PPPBw3Ef/zjH3HxxRfjiiuuwH333TfB12pfh4lo/elPf8KZZ56Jn/70p7j33ntx00034cc//jF+/etfYzAYrBaosdjDQLRuv/12VKtVXHTRRej1ehZerVbL3ol+LN2rfgwD0ZL17LLLLhP17Fe/+hV+9KMfiTa7anwmxb9uRIva7Oc//3mUSiXcfffdOO+885DJZEBYh60tT8Lc7f1WIFq/+93vkMvlcPrpp6NvLta69dZbxdh11113uWWb360AgbUlWsPh0BNcFw2vRkR/G/6zfzDOG1yBO4Z3buqPiMEvf/lL/OAHP8AxxxyDo48+GqeddhqOOuooHHDAAbj++us3DWMVDsJCtG655RacddZZ+Pa3v43PfvazOP7441Eul/HJT34SqVRKEIlV4DMpzlUTLSLxRLBOOeUUMaAdd9xxgqQedNBBor5RZxrGa9VEi+oZTYQKhQIOPfRQfPWrX8XZZ5+NffbZBwceeKA18IQNu3UiWtdccw2+973viT6P6uN+++0n6up73vMevOUtbxHEK2z4ek3PuhOtO++8E/l8XpTHm970JkGuKO+f+9znsPvuu4d2nPJaPlvJ3VoSrQP6GezWf5+ncnh3Pw1F38m6H6q/BIcOTpzol2ZoNLARMeh0OjjnnHOw9957C8JFv4ks/PznPxf+6fy5G264QTz/4Q9/gFfyNzHyOT+EgWiRtI8af7vdFpKYr3/963jmM58pnmlQJOJFuNFFMzAaLG+77baVYrdKokXnJp5xxhm47rrrcM899+C73/0uXv3qV+MXv/gFfvjDH4pNaGmGSle32xUSwkqlgt///vfi3Sr/WyXRItxIYkoSZk3T8JnPfAYvf/nLxeBCM/z999/fIlqEW7PZRKPREBiuEjOKe12IFuFKZSzb60c/+lG89rWvFc+E8amnngqS/DsvqsdUd9dB0rXuRIv6gQsvvBBEhp/1rGfhZz/7mdC27LHHHmJyS9JevsKBwNoRLW14L/5Sf7EgTi/T/xuHDI5Hb3jHRDT7wz4uGNaR7H8Bz9f3xgP15wu/9Pvm4cbBigb/O+64Q6huKNDvf//7eO973yvUXiQ2p06bOhca/L7yla/g3HPPFTMJkkLceOONK1UrhoFoETbXXnutRZz+7//+D695zWvEoEcdNhEE6oSJxJIqkTpvUi9aBzVPLMnFfVg10aJ6I8X8JD195zvfKVTVpEIk0k91klSvRMIuvfRSUSfJzVVXXWXhvDh0Joe8SqJF9Yxwk/Vm3333FdIWIqvUNqmd0kXq/0996lPCLdUzIjmkClvltS5EizCm+icnkHvuuSc+/elPCxUtTagk9hJL6h/f8IY3iHo6/k26CdPfdSdaNLknzA8//HC8/vWvF/0E9avRaBSXX375SseiMJVzGNKydkSLQDtjcBEerL/IklI9SN8Zr+4fgBMHPxDqQVIRjt/fG1SwVz+FyuAy/JO+u/D7tv7HNpQBdSpEBGhwo87ii1/8It7//veL2YLTMakS0+m0mL3RzI9meER0yKZmVVcYiBblXc5mCcvddtsNX/jCFzZAQh01DYZk+0GSQurUV3Wtkmg58aL69u53v1t0nJJ4SUyOPPJIfPCDHxTSBOpck8kknvCEJ1hYS3fL/LtKokV1Sw7m1P5e8pKX4Bvf+MaGenTBBReI9kv1i1QtT3va00R9WyZO43GtC9Fyppsmn5FIBCRFob7R7aKJExEtUoHLsnFzF5Z36060CEeavL7yla/EscceK2AlO2IiXUS4JEEOC97bOR1rSbSowEgaRaSJyJOUcDlVhJN+f3FwCrrDniBaf6u/akPZyw6cBjqynSGbooMPPliot6ijptkwzZoPO+wwYRBKqi+6iHg99alPFYaiGwJd0ouwEC3ZERN+hAk1froIP7J9kxcNkGQDt92JlsSLOkfqJElyRQMVqVRJDUMkgQgD2SJJQvqxj30MD3/4w7c10aJBhtorYfT0pz9dqAaJ5JPUVNYzWmRAkx9qs6S6Junqb3/7W1kFV/J3XYgW1UHCjy6SBpIJAE1K6CJM5cIWKgOStNZqNWEbR0RL1lPhOKT/bQWiRQsSiACTWpyub37zm0JtTtJwvsKDwNoSLSeE9ww1nDo4B3v3D0as/6GJN6kZqVO4b3i/IFqP0l/hDEb8po6EVILve9/7xCqw//iP/xBkgDpwUtXQihsiCB//+MeFcTyJb+kim65HPepRwgh8Q6BLehEGokUi61133VWoF4rFopC6UGdNCwyILEjSRZAw0YIYrMiwmDp9WtVF2NGARRetJKIBjKR/RMbk4EXqnJ122kl8p/q8qmuVEi3ChaQnpFIlsk6DDdUzwoMIqXPBCuFHRIEkgiQZXCVmVFbrQrQI41e84hVi8Qqpp6huEvmnevi1r30Nv/nNbwSWNKGihS+EM0lamWgtr0WSXdbOO+8s2gFJuj/xiU+IcYn6Vr7Cg8CWIFqzwnnbUJ1KtGj10rve9S7RYZDai1ZxfOc73xHGt2TkTRcZxR9xxBGWUTKJzXfYYYdtT7TIsPs5z3mOWGJPqw3JKJlUOrTkflylwEQLwpCVVm+RipqIywc+8AGxeo4kpLTqlSQxzosGOlJlU31b9bVKokXbOey111448cQThQTwwx/+ME4++WQQuScDYRr0nRfVNVJV00IDarervNaFaNHEiAyryeid2jBhTO2bViESCSPyTzgTsaXFBqRepAkqlQNJVKQJwSqxnhb3VpBokeaFyoXaAfUJtCCEyijs2E8rl634bdsRLSJZL9XfK4jWzvo7N5QpVVCaGZBYnGZqJIkhlQ6JaKWqgjwRASMJEs2o6aLOhmZ/UhqxIeAlvAiDRIukBbTyiNQ01BETfiQFJNH2uCRBEi2y+5DSmiXAtCGKVdpoUX0jo26S9JFEhgYuIhGE1zgm1KkSIbvyyitFHmjwG8d0Q+YW+GKVRIvUWqQCJBUW1TGqSzS7J7Wh0z6Itn0g6Yu8iKQ+/vGPl48r+bsuRIvqJqlliZBQWyYiRduQSEkWgUeEiiSKNBEllTfZZNJkgSRc1I+G+Vp3okX1/JJLLhEkl/JCBIsWyVA74CtcCGwrovX9wXn4G31XQbKepr8Ftwz/OLE0aACTgxj9HZ8hkBqR7LdoJkffyGaLKvoqdeNhIFoTAR37QB03EQsyhicVGf2md6u4Vkm0vOaXlmr/z//8j5CukrSLyAPZc43XS6/hBeFulUSL0j/eLgkL2WZl/mhVKy1UoYsGflKzsERLohPMXzmhItIbi8XEYg63iUIwsQUXyroTLVpd+6IXvUhIcWmyQSvkaZU39aV8hQuBbUG0SIp1cD8HWp1IRvJv6R+E300hWV6KiDoXksSQqJxmqLTqwynx8hJG0G7WiWjRrItUsrTRHtnBkfibZs+ruNaBaJHalTpVss2SN0kNxonFMvFbNdHyklea+NCWGe94xzuEITyps2lQWuW1LhKtWTCi/pDMA2glNkn7v/Wtb7FEaxYAfbilui0nEieccALoXvXWJT6ysS28bAui9Y7+JwTBeoD+PHxh8M3ACpZEt2RDQzNlUvmsctCjTK0T0QqsEAIIaB2IVgDZDDyIdSBa1CaJWFEbJdXruO1W4KB4CHArEi0P2Q6dk3WXaFHdJo0KLaKhzY3JxIWvcCKwLYjWVcNfYI/+Qbh2eIOvUiCJWHV4Jb48+C7+b/CVqffnBifj9MGF+M1w+cemMNHyVbxiyfouu+ziz/M29rUORCuMxcNEKxylskyi9dvhH7B//7N4hB4V2xHRlkRB3o/UXy72kvx4/8sj41N28G1cM7x+5UKAcJT46lIRWqJFKqUnPvGJS7//8VlPxGP2eSoefvwz8ZBzI3jgzc8R0rBJ+3JNfa89F8o9xv2APz4HD77kX/Gwr/8LHnHEM6z7UR9/Ov7+7U/Bjs9/Ev7pKU+0bj95f8QjHiGM8v343c5+dtxxRzz4wQ9eel1bd8xpOxOqc+uej2Wn/6EPfSge+9jHhgo3Z99DfeBj93gKdvjk061+ytlnzfr7kYc9A497wz+Lvm3ZWE+L73GPexyoLKa5mffb3+/5FDy4+q9Q7n+uMY7Q33sXcMvwHcfNjYxN2nPxZ+pz8dAfPEuU6SMPfwZ23PlJ+KcnL3+M9Yrpy172stUxo4BjDi3RCjifI8ENhgPcNbxH3LcObxOSqlT/S4j297HsuEYq6aTK6/L+8frr8O/9/8U/62/GQ/QXix3saRf7P3NxOy2OR+uvxMv7++J/+kfg+MH3hETtD8M/Wemmo4XGL5ZojSPi7ZlVh95wGnfFEq1xRLw9By3RIhWS7M/G/945vBvN4a9x2uBcHD7I45P946z7ff0MdtETIGnItL4oyG/P1ePCXvbMgbGJsTfEFuNqkRKte4f3ifN4JXZ0xu4+/cNw04I0HerwLhCmRw4KOGLwDeum8eOZ+lvFWCSPn5Npor9kt0z1IDM4GbcP71wM0Bwqth3R+vbgTDxJj3nuWGiVIm1s6uUmckQdmdtFHeBlw+uQH/wQnx983bo/2P8CXtv/gDgWSMbhpeMj8vZv+jvwzv6ncNSgIIjYRw7/OO4eaqANXPnyjgATLe9YOV0y0XKi4f33JKJFgzO1X3n/aXg7yOyBVkvTAPrR/het+3/7WezZ/wgi+tvEIOocPGf9TZPAHRx93N/pr8au/QSob3L2VX5/H9TPisH+YfrLRvrdV/X3F/nSh7p38AJ0uUii9YPB+SKvRLAO7B8NmiSv+iKhwnGDU0WZvq7/ATGmOQUAf6G/EJcPeWuIRZTTtiJa3x2cbTV0qSuXrJ7OPTx68C3rpqN6VlnpaHZx0fBq0TA+0P88qFP6R/2N+Hv91eL+f/oLrLy4dawP13cB7RNGRIw6abIx+/3wVnH8EDU4vmwEmGjZWMzya7sTLZIkERmiI70m3e3hLeJQ+5MHpwvbmff3P4d//vErsOctH8YB/Qxooc4L9P8CHQfm1o69vCOphOwX3P7ShOzt/Y+J+J19HJ0Ne8mwAZJ6LeMiKXxxcA4+M/gqiMzJvL21/9GVEJFFEi06pYTyR+Ud5ovOBKY6QcT6Xf3/E9LPMKd3XdO2rYjWs/S9ROXfr384tOG94tieT/SPRWfYXbvyo1ngdcMWvjU4EzS7JbXnw3ovFh3YY/TdQCssZUfm9pekZ3QQN4mz5U1bYPxwcAF+NfwtyHiTcFnVbHOZBcJEyx/a60a0SFJE9dp5UxsilcsJg+8Llda+/c9Y7UG2C+dfIkakbnuiHgNJANzalt93JFUiAiLvHfXX48X6uwUZIyPnLw1OwbGDorhJMkFt9ZfD9lq2USKgNJklLQDh9df6LmJi6a8m+vO1SKK1k/6fIl9XDpv+ErdCX/cPdbHHJE0k+AoGgW1FtEjdRnpqEtFvxctpo0VEklabkKqUiBjZez1Zf5O4/0F/vWebMcKMJGOkx//qoISrh7/Er4cdcdNqzK1wMdHyV4puRIvsH2kjYFlHgvzbGN6AMwYXCZtFUtG/t38o3t1PT7z/q38IXt//H6Fe86KOn5UgkVT5CfobrHYl25fzL9nHkGkATe7IDuZrgx9h5y+9Dp9qHQOScpHtFLWpZUmV/JX04nxR/SCJliRbJGFb1rUMokVEeN0uUldTedAEYyHX/fcDv/m1+/2H3y8kylUHum2IFh06TZWHZo3zXHqvjXqjhTBSDCfR2iyPRJLOGVwqiBiRMZKMHTY4SRjy0+DwdH0PPFV/CzZTUf7dPa/F6/sfFJ0ldZjOe/fb98NutxvfSIVJKoPS4Hxco1+F0nWn4WuXn4JTbrwYVw1vEFtvjEsWtW4bjUYTnd5ibc7CSLR0rYvrW9ejevMVOOs3VZzxm/Nw1u/rAifapmRRN5GZswc1YUuYHpyA/+5/eqRMneW70w174V8auwtbIVI9kJRHbgo8K2lZhnuSnlC9dt7P1/cWGxiT0TAZEX9zcIbVJqhdjN9ke3PF8OdCDe93xj/JRmuzNrva7zo6rSYazTacrVHttMUxSHQGbKtl/O6qs9tc0USO6sAyJVuLJFo0saX8HDo4MdBim9Yn9tpNcQRcrd5Ae6zPFONWrYpqtYZWd/roRSYzlHbKw0KuPV8D7KBMvl//UuDdbzXu9+wF/PDUhSRjmYFuG6JFhpxUeT7W/7JPfDXUi2koigJFiaA2va76jGM+b7MQLa8x3Te8XwwstPIx0T8Mz797dzy0/gwodHf+VWBKuAZ10+KDF+nvxpvvey/+ofgkKMUn4a9//h68uX+g75vIwUf6x4BsUs4fXgES5zvv8u8uwHPe85KRd87v9Jtm2qcMfoLPDr4GUi/Nk57N/L6ivx8ef+vzoNwzx9YiAZbJLGVLElBacUtG2kHfZMtE++GRkTbZHRIJognU6F3G5366L5Q3/w2UN/8rvnzXFWgNbw6VFHsdiVa3mnHp+1RkI9Qfjt2ZmtfuZcSdJFtkX7qMBT2LJFpE2KndvKefHsnjXA9aHXET68gIxj0UkpGxcsigZ0bWrsiys8spVWpNTMrCidZuLwCe9EjgpZGN95N32EjA/uXxwJ3rvSJy2xEtmqXPfmkoxu1Kqihx1LcJ0RrHSq1nEYmmUW220WlV8d6XPwhK9GF4/43noDz4Kcr3FvDy3f4airw/9XF8b/BT0EKEQwbH4YW1J0I5/6l4Yu8deMH9cTzlxudDueBp+Idb40Iisplt2SyD/tq7vfN52PGe3fEc9e14tvp2POeu/xQklIjoom6yCYr1PyQMtYlUFgZlo1ypbMfuZPlT2LvwfmHjdOnwurmkPOP1zN/zerTTtSNaegtJi0w5+z4VuaiCSKqIVrsldimnnco7PiRasryfo79DEJQgT/CQYY//XSTRIqP/oIlWNR21yFQsV7eyU8/FxPtkvoqepkElrUu9BSFXVOuIUdlFU6h3VajtKhKCHMcmjmEksaW0/5O++2IIL6kHm9dZ6R/5QQeRn38OcE7ZuF/wdIN4nXvWiLN1e2Ci5anEVJSzGVTaPTQLCSjK5ErqKbgFOVqERGuzpPZqxmwpWzfnT1oTuUwBHb2HApHTaM5Ws2oNMSOLpCp2sGoVUUVB1JyhkcHypTd9EcquD8NbTj0Yr9z1YXj2qQVUBpf5vmmnftohmVYAkb0MGTM77xfc/U48/Irnj7xzfqffr+zvL1bl0MkAZFtD6rV50jTNL0nPKifvAiX6VaOztNEK1S83G63VJnA92um6ES1jII+hUKS2HnUM0AbRiuaCM/gmI38a5D/cP2rhVWmdiJbeKhpkKpsTfWg0axItvYUEEalkyRWvbsXQwmQdKphOOSXCsvrsMZ9k30tmAFQOy7SZG0uG8UgqRFIznnW66+d1ebltiBbZX1DF8SfRsouzIWYPTLQkIvVcXDTafGNcxKciFxslWnqnLNymys4zuXrIRg13BlXriVmyEsmgqzVHOxUZacB/w2ijZdSzJMrVmrCraLalIiDgzM8RXPiIlp2ZMLfTtSJa3TIiioJYvgmtld9AtPKijadRJfufnl5KZwAAIABJREFUWmMuaRaVHqn3qZ+mic2ir/UhWpP7RL1tELBUqYFWvYpyuYxqrWlNbutZknaNjldaqyD64Uxt8mp7mpBSOfx0ePWii2F6+B/9gEG0/muP6e5C/pWJ1owFFOYOfOkSrV7NEEsrKWxcW6PC6IRtiZZaz4kGnhvRu2qG5CuWF51Dp2zMwHJ1DdAbInxr9jZjWXl1Hl6i5VRXK4imSlYH6jVvi3THRMsfuutDtDQUE1QHkyCLHq1B7XejRGvcRitTcU6kZsOIFsTQGYA0yJNkZZHXuhCtaX2i7FPHy0CJZkGl4DpeaUa/mihMlkTSal0qgx8Nqossgs3DvuoKg2jtvuvmbkPsgonWjIXjWnFnDGNRzpdLtHrImXZr2ZqbtGUK0RqRfqm2ilFrCDG4pVo0iVYst9gl32EkWtA1qKoKTdfR69SRIcmBoiA3gt2iapK3cJloecNp3NW6EK1eLSvqnFQ76U2DaDUciwo1VYWqatA1De1aXpgBkA1rw7k0cRyATZ7lZqa94R2buJzv81oQrU36RFWQXwWJXAVdTQf0HsoZw2YrW1fdiZZpt5UoTjaIP2bwHUG0aCPvlV7XXMlEa6UFMGPkrDqcEbCpzlUUzVUuicIkErSRaJHqkNQQyZJT/tVBhowzY3ncUjc6dhJ1JxMJJOIx4Z4IRiJbGVlWPjV5M34MJdEay4PeJLWNgkl2FWPOl/LIRMsfzOtBtMz2S/Y/8QQSiQTiMWNlWyyRQqHqbMM2DsZENDrXqmxaXUrSFFqMschrHYgWLT4ypFXufeIfpZbAwWxVh92soTqMouqYC2tWXzJu7mGjffHwGlEGtKn1Si8mWiuFf+bIgyJazTzZJMXgnNXNnJgFeViOREtD2Vz9kpxIsiiDmqE6jOVtgmQawyuJomXkLW0MSGqltUpIJpJIJpNI0G1KcSLRGBLpxanN1oFotUuGAWvGVXq4oAq1SbBhJlphbqfrQbQ0VLIp0Q6pPYo2GTdWvcXicWTKbtIQzZyAxeYiWrQDPhEtOnpskdc6EK1N+8SeuZgoa2+pIVWNNCmT23I47WKlXW2xNVnsyEQr2Jq37VSHhwyO94Ggjla1jFK5hGyCZnURZIollEoVdB1idB8BB+plGUSrVUyaMywFuVIJhUIB+UIRVbmcWO+iWiqhXC4gSUbuSkS4K1Wa0KGjlDRUYIlsCbVq0VxqHEG54wKkbqxS3HaqQyHajyCdL6JaraKUM0hW2LYVCR/RWo92uh5Ea2PXNK46FNKWSAKFUgXVahnZpLn9QLJkTaQ2hrL5m7MGlwiiRbZafjeF3TwWYB2I1oZ8bOgTTUN5GpMKFVTLOVN9mzDUt3Jyq0SRK1dRLph7QUZz1j5bG+IAwETLDRX/77YN0aKjLmiWRAeszn4Zy5gNEa5BFIzf84nIZ0/HdB/LIFoNc5XhBizkNg5q3WzoTpwM1aAQVGtNZOLOzfWiyFUnGM9qxh4wzj1jpiPg72v4JFod5BL2njmEdSSWRKU9eQbqL+fz+Qof0VqPdrquRMuwB7L30dI7FcTHNiyNp4uBTD6lnRYd0bOoay2JlkufqHdrSDrLIZJAuWWrBXuNgrloyeyTY2nI3XgmYUub/NJ4Sds8rPRi1eFK4Z85cjqDjQ6B/XN955n9rouHZRCtoLAgI9qeqs418w0qLeEjWmbOTIN4lYxcQ3iFj2iFECSXJK0r0XLJinila2QQTws3JrmY/T2dDUkD/eGD/OyePfpYS6I1JW+6rkNTJ03GdFFGtHDB60Vn4lIZ0AHgK7uYaK0Met8RP0R/MRMt3+htXY+hJVohh5yJlr8C2mpEyx8K0319efBdMcjTJsOLurYa0QoaJ7mX1kWr3EuLiVbQxbr48JhoLR7jdYyBiZa/UmOi5Q83Jlqb43bdsCWI1pMWqLpiojW9HF5nblrKRGs6Tl6+bhsbLQKDiZaXKrH93DDR8lfmTLT84cZEyxtu/09/AR60QFMPJlrTyyFUROsNL5ue2JB/ZaIV8gKaJXnrZKM1S74W7ZaJlj+EmWj5w42JljfcnqHvKaRadGD5Ii4mWtNRDQXR6v0J+Ns/B3b8K+Cee6YnOMRftxXReqT+cvyZvhNuHd4W4iLxnzQmWv6wY6LlDzcmWv5wY6LlDbdP9Y8XRGtRB0wz0ZpeDpJoVYdXTne46K8kzaKDpS+7eNExLSz8bUW09uqnRMP9+mC9TwKfVBuYaE1CZvp7JlrT8Zn0lYnWJGSmv2eiNR0f+fVnwxtFf/0E/Q3yVaB/mWhNh3P//mcF/rSB7Eqvt73eIFqXXLjSZMwT+bYiWrRZKS1X/cLgm/NgFlq/TLT8FQ0TLX+4MdHyhxsTLe+4PVl/k+izbxje5N2TR5dMtKYDdcrgJwJ7ElCs9GKitVL4Z448CKKl99qoN1qwt4ObORkL87BsotVtNdBodSfnR++h2Wig1XYctGW5VsW3ds99Xxdd7aBRq6FWq6HZ6i50v62wEi2t2xYYVKs1tDrhq3FhJVrddhO1ahW1ehMTqpdVC1fxYz2Jlo5Oq4lGs20fqWWCJ/rEWhWinnaDrafv7R8qBvvjBqcGXlTrRLS0XgeNes3EeLzP1CHqfI3qfAPd8c+A8X3GNnHJsCGw363/vsCxnylAJlozwbVyx/MRLQ31onl8gRKZ6yyvRQGxNKKltZGXx21EshOOcrCP21HG3PSaZfPoHQWRjH1Gl8SlVZI427vLZ+rBduAyLvobRqJVc9mBP1VsOpO98t+hI1p6G1nzfEz75IIYKm7HO60QvXUkWvLMPDpSq+Zoiu1KxjqSS2KeKrmdg+gP8O8PzhOD/cv7+/oLYIqvdSFatVxiCsYdZMRRZ3ZfSWfxWnV+jjbBRGtK5ZnxE6sOPQGmoRh3VmT7GApP3pfkaClEyzo7Sx7nkHOV7hnHdWx0Iw9Hlp1yLFsfQUdrFYxOJZ5Fs6tC03po1mto9QLcdnokxjASLRX5WATJfAWdnopOvWgcaxTJYIr8cCxXi38MHdFSa4iJM93q6HTbKKVjoi5Fx+rY4pGZHsPaES29haQi+z9H3yfO5FSgRFOod1Wo7ao5gYohqHnRvcP7xAKmh+nBL+9fJNGS5zVG+/tMrwybflWRiymIZ0todjpoVrKIiLJIQRxOpDeRisZRrLXQU3uo5Y2zaK06P0ebYKK1aeF4dsBEyxNUKsrZDCrtHpoFml0E15F4it6jo+UQrSZymQI6eg8FIp/yjMORNHaQprO3YimkSMLgcNOu5JAtNqBrTcQVBVaHIPzrqKToHMQ4GovjVSMppYcwSrRGE6mjICQ1KbSXiMtoGjY+hY5ojSdRbxhnvCVLG9Rd406X+bxuRKueI8IaQ6FI0quoRaK6FUPynHWIuDpl4wD07GaH6c0A+AP05+Gh+ktm8OHN6SKJFhHEv9Z3AaX9juGd3hLkyZWGvOgLJpyza9b5aHajpkAEP0ObuHZ4g5AmPlv/D08pW5gjVh0uDNqFBDyf6tBIUsPsdIKasQWZ0aUQLSvBxkzLSaLkp1bREHWX2l1DEuggWtINzMNRR4mWeShwLIdmq4FKuYxypYb2AqVZlJ5QEy1dQ0vOYhOlhdqqWWXj8UfYiZbeKgqJ1qIPJfcIl+VsrYhWtywkKLF8E1orP0K06lmDgDn7QimRztSCk73+jb6rICzq8C4LwyB+LJJoUfqepr9FEJXOMDgsAHMSqyTRGpt06VrXkuKmyu6Hcc/SJuh8YJIkPlB/Pu4c3h0E5P7CYKLlD7dV+WKiFSTypN4alVaJ0IWoWkEkXQVgzr6iuY12XG5ES2sgYakopKqC/kZQbLlYeAaUnVASLRMfqWKlv+Ug++sAsAs30dJQSBh1KN9cXN3xA+P6EC0NRYFhEmR1pTVyI0TLddKpGVLERCE4e8JX9w8QhOUngwlSGj+FAGAdiVanbEgRnRIrtZ4ds+HKuppzUH88a5t4nr63wP7nw1/5RDkAb0y0AgBxiUEw0QoSbDeipaMsVH8JNMVsSxKt/EbVjRvRMkmaEs+i0VGhQ0e7Sp27gqiL0XxQuQkl0UIPtXIJpWIBmaRha6QoSYSJM4SZaDWLhq1KJF0JlRSQ6uy6EK1ezRjApWpQbxpES6r1XYmWabeVKAZnEJ8enCAG+0/0jw2qyYtwFk20nqm/VaT7+uFvAkm33ikbtppj/YDea6JcKqFYyCFhGsZHXeq9nzbxIv3dIg9XDoMjzjODwURrZshW6oGJVpDwuxAtaRyrKEgkE0gk4qbhZgSxWBJV5+ovN6JFYvENdlumOjFe2EjWAspOOInWaObq5irETM1tq4xRt8t6CivR6siVcLFsqBYPyHJZD6Jltm+SMMepLScQj5H9pIJYIoVCtQ1DdRhF1VEltSapFxVknfpEmXGffy8cXiUG+5fo7/EZgru3RROt/+5/WqT7yEHBPQGzvO3VhE0r2ciVphpqtg37WLJzdQhy/baJ/fqHizx8cZWbljLRmqWmrN5tEESrmY8Lw1A5q1t9ruwULNdGy5RWxRzSKq2FbCKBZCqJZCKJZDJhzsCiiMdTqHUdRgWmUSbZftiX7NzTxooa+mCSN0MVabsM8lf4iJYOTXNgRfvgWIbHjlEtSBB8hBVGotU1pTBKPBdKkkUwrwfR0lDJppBIUjs27kQ8ahCteByZcgtyywenPZCcEASp6r9tqIrB/h/01/uopZO9LJpofWPwY5HuffufmZwIL1/UhrnqM7aRZOkaRrsKFVkh1YpZ23DM0ya+Ozhb5OHt/Y95Seli3DDRWgyuiwrVP9HS0aqWUSqXkE3QrC6CTLGEUqkCJ3dYVLq9hrsUoqV3US2VUC4XkBQNOoJcqYRSpemiotmoOtS7DZSKJZSLWZOEJQSutZZBIKQhfSyVQ6lURFqssFEQpHHtOJ6hI1pqTUgC4+kcytUqyoWMKRmMohKiChc2okWqFWPpu4JYtiDUroVCAfl8CU5h6nj5L/t5PYjWRlTGVYewtnqJIlememruf+dmk7kxOM9vaNUeneixbkTrW4MzAyBamrG6mySLkbToE406nUel1YNao5WgEWTyJVSrFeRTpplBLC/stOZtE2cPaiIP/97/X8/lFbhDJlqBQ7rQAP0TLVN9tcFQe8IS24XmYnLgSyFaat0kSE5jddrKwWjYo6lTrS0gpBxmo+GmEY5t09FDUXYWAu8I0sXGaLABP4WOaEFFOTO2SWEkjmI9XNbwYSNaWsNQW5HqavQOVztdV6Jl7I3n2EcLQK9RMLbQkJjH0ghwZwfR0m9fU6JVGJQDIFpSyj9epxUkS22gV0faVOnKOh9NZNE0N5Wdt02cP7xC5GERG8Z67saZaHmGKhQO/ROtUCR/00QshWhtmopgHOgkEtfGxeLBhD0eSviIlkyhDlVVoaoOYwv5KQR/w0a0QgCJpySsK9GanLnF1tN1lWgFQ7Qmo+78olNfKe5RkwOnGz+/7x5qYg+zB+k7g1S4K7kk0bqYVrKv58Ublq5nubmmeisRLdcMLuhleInWgjIcULBMtPwBufWIlj8cvPpad6KV6B/mNauhdLez/k4h1frZ8MbVpO9/9wd2UIAvfn418QcQ67YiWh/uHyUqzEpXUARQaJOCYKI1CZnp75loTcdn0lcmWpOQmf6eidZ0fMa/rqvqsDa8Vow3/6LvNZ6ltXp+of4ukY/rhsFt2TETAOeUDaJFkq01vbYV0ZIV5uLhNWtaXNOTzURrOj6TvjLRmoTM9PdMtKbjM+krE61JyLi/X1eJ1nA4xKP1VwqSsjK1mzukM73ds/8RkYdTBj+ZyV9gjq+oGUTr318VWJDLDmhbEa2/0l8qjnK4fxisHnvZhTYpPiZak5CZ/p6J1nR8Jn1lojUJmenvmWhNx2f867pKtCgfT9JjgqR0h3I50Hjuwv/85cF3RR7e18+sJrFMtFaDu99YH6K/GH+u7+zXe+j9MdHyV0RMtPzhxkTLH25MtGbDbV0lWpTLZ+l7CZJyzfD62TIdItdnDC4Sedirn1pNqphorQZ3v7Ey0fKL3Nb2x0TLX/ky0fKHGxOt2XBbZ6L1v/2sICmf7B83W6ZD5JqJ1vyFsW1Uh3QS+f/TXwBaprpVL5Zo+StZJlr+cGOi5Q83Jlqz4bbOROuy4XWCaNG5h+t6MdGav+S2DdE6b2BsvPZcPT4XanqvjXqjNeF09LmCntvzsolWt9VAozW+iaaOTruFVruNVquNNv1udUbOKdS6bTRqNVSrNbQ6k/dmEe4aTXR6i91HKqxEyytOc1ccnwGElWh1203UqlXU6k0suOr4Qm69iJYOgWeN8Gyg69IURZ9YqxrtuTu5PfsCC8A622iRQfzf6LsKsnXv8D6/EMBLXzBpbFI71Be30Db7ZPrdVb3bKV8wrIv0r2zTUlYd+q43S/f4hcE3RWX5WP/LPuPWUC+aR0woEescKZ+BLcTb0oiW1kY+aZx7pkSycJp5ykNl5S7F8m/V7H9r5uHI8j39TRWd5x2a0Gh18xBVBZFMbSF4yUDDSLQ84yQzsYK/oSNaehtZ88gmu37FUAnT+Ttrc9YhVagOMuKYLeeu5KN4tuUB3nJneGrPpWC3AVhnokUoPkbfTYw99wxdWKqHdrt5XzBtbFKRjTjLz/w9Q59K6SZtEJne3De830OKA3bCRCtgQBcY3BGDb4jKnh6c4CMWDcW4s7KOHkPhI8CFeFkK0bLONzPxiOVGpHvGMR0KYrmqkGY1m000m23TDR0nEUEyX0Gnp6JTLxrH+UQyGw4ArqZNIqdQWPWF4CUDDR/R8o6TzMMq/oaOaKk1xBQ6d6+OTreNUto49y2aXWz9mRX7tZFo6U2konEUay301B5q+aQ42sjC0zzwXYmmUO+qUNtVJMSgHkM9QMHWn4a3i757xzU7VFrWi6fpbxHpbwxvkK9m+LtZX7DZ2GQcHxdJFdFqt2D0x010ZpBoUWL/VX+7yMMNw5tmSHtATploBQTkEoKZj2ipKGczqLR7aBboDLpgO5Kgsr8cotVELlNAR+9Z5xg6+1RJtPJNL6JpHQUhgUih7XCut4qiQ09mc0KqZXXsQQE1Fk74iNZYAuGO07irZT+HjmiNA6A3jHP4kqUR1fW4s2U/rw3RGgfGxDOaNSTM3Yoh4c/W7B6gU06JtpsN8MDDC4dXiUF+135iPEVzPdfrdey5555zheHFszSI/8zgq16cb+JmvC/YbGwyiFY056I12CQm52cyuaGDva8f/sb5ejm/b/ilsY/Wv/3TcuJbQCzbxkbrsMFJoqIcOjhxLhgbOZolb2OiZaGnIkckKeou0UrmSoadTKPtPsjpGlqVLCKkckiUYPOsHnKkriApl9ZkojURJ6sgVvYj7ERLEvZFS0RnLYB1JFq61rUkhKlyR2S5nt3YF2qtgiBamdq47easKNnujx58S/TdB/aPtl8G8GtZREvuQ5Xqf2m+VG/SF7iPTeah1NE0qmRHV2vMLM2iRK+UaFECdn6qQbZ+8bP5MFyR721DtGL9D4nG+v3BeXNB7V6Z5woyMM9LkWhZqZUNeJRoyY7WtpEhFWMC1gRXqxtSBodNR9nRJ3fKxiw5V9cAawa9WNVPKCVam+BkFcMKf4SbaGkoJAz1dr7pzzZmUdCuE9FS61lBnOz2nLVMBVz7Qs2QIiYK80lQnNgTwSJpyvGD7zlfz/17WUTru4OzRfrf2P+gvzR77AtcywOGRMsuP6NNZCoGWfaaIDpGiMqgNbzZq5dg3b1lN4NokRpxDa9tQ7SkQSLp++e53CvzPCEG5zcMRItyo6oqNE2HpnZRyZKqVUEkVTEz2kOtXEKpWEAmadjQKEoSYizUGkg43ZpEK5ZrBAeSS0ihJFqYgpNLHlbxKsxEq1k07Iki6YpDWroKlDbGuU5ES+81US6VUCzkkDAN46Mmpq59oWm3lSgGZxAvz6j9yuC0jWDO8WZZREsd3oUH6y/CX+gvBG1VMfvlrS9wLQ8AmqpCVTXomoZ2LW/YxSpxNDzOPyj9D9Sfj4fpL4O+qlNVmGjNXm1W4eOv9V0EI5837kmVed5wg/AfFqI1mpc2UiS9ihdcVYh1cxViptaDPXuOIZlIIBGPGapFRUEiW3H1PxqXv6dwEq3RvDhxGv2yuqewEq2OXAkXy25YZLE6tOyY14lo2ammX22khbG7MUgbqsMoqo5lx3LVcTZAa/j39z8n+u6TBj8YTc6cT8siWpTMN/U/LPLwzcEZc6YamNQXeB2bDHdRzyvnzx1cLtL+6v4Bc6fddwB7vc6QaJ0eLNn2nZ4ZPW4biVZQRKuZjwsbrYZtVDQj5ItzvlyipSFPNlqx/HQC1KsaqsJEERp0IelyImAb1PagtUpIJpJIJpNI0G0u1Y9EY0ikS5bKwuk/iN/hI1rTcQoiz0GEEUai1a2Zqq54LpQki3BfG6Kla9BG+jkVWSHViolBulvNCGm1tNmivEkSUGx5FJd4qIiv6u8vBvrzh1d4cO3dyTKJltxe6OB+znsChUvvfYG3sUlDMRkRY5hjDcPUNK18w1JK3deON4jWuxa/eGEqGD4/MtHyBJyOVrWMUrmEbIIqaQSZYgmlUgXdkY7IU2ALc7QUoqV3US2VUC4XkBSdbgS5UgmlSpNoFIqJCKLJLMqVKirlvLncW0Gm2gXUmpBQxdM5lKtVlAsZU2IVRcUNSL0hjOG3nepwVpwWVqOmBxw2oqV3ypYENJYtCPV0oVBAPl9CmLbSWheipdaISEWQyZdQrVaQT5mq/ljemPRYW73QlhrUns19BqO5kb31pteizb/+rf4qQbR6wzs2dzyDi2USrS8NThF5IOncTNemfcH0sUloCSIJFEoVVKtlZOX+h0nnAqTpKQoF0brkQoNokWRrDS8mWp4Kzd2gUFG8i189RTOno6UQLbVu6vjNfbSkUbvZ+bZKclNX+T2KTEkaxqooZwybLcs4MxJHse6whndiYBqBLnrVWPgkWjPi5MRsib/DRrS0Rn7McNuug15n78uAb12IFnp1pGM0sZQ4Kogmsmjauzmg1yiMLm6Jpe2FLwGAefPw94Kg/KP+xgBCGw1imUTrumFL5OMJ+htGE7Hp02Z9wfSxSe9UEB/bsDSeLs4kIGCitWkhbepgWxCtW4Z/FJX87/VXbwrIOjtYCtHyBBCJuzVoZIDp6l4XBvNkoBmGK3xES6ISLpxkquTfsBEtma6w/10bomUCSUbUoj2P6hEdMC+unn5vUBF991v7H3XEF8zPZRItSvHT9T1EXi4f+tmiYD6MdY0M4tUxVbA3HENBtK683JBovfAZwHDoLeEhcrUtiNa3B2eKCv62/sdCBH3wSQkP0Qo+b4sMMbxEa5G5nj9sJlr+MFw3ouUvl8H4+kj/GNF304bTQV/LJlpy49IjB4Wgs7LQ8EJBtAYDgDYs3UEBaAPTNbu2BdHKDr4tGusn+seuWfHMllwmWrPhJV0z0ZJIzPaXidZseEnXTLQkEpv/fUV/P9F3B20ITzEvm2h92tw0+/BBfvOMh8hFKIgW4fGaFxlE67prQoSOt6Qw0fKG01q4YqLlr5iYaPnDjYmWP9yYaHnDbTgc4m/0XfEA/XmgvZyCvpZNtE4Z/ESQxtf1PxB0VhYaXmiI1vv+yyBaJ8y5w/5C0XIPnImWOy5r+ZaJlr9iY6LlDzcmWv5wY6LlDbdrhtcLYvIsfS9vHmZ0tWyiddfwHpGfh+u7zJjS1ToPDdH6yY8NovXif1k7O621IVo0o7l2eANod+B4/5Mgeyu6397/GL44OAW0OmXSxarDScjwe0KAiZa/esBEyx9uTLS84XbM4DuCmMy8JYK34JeuOqRkkXTuIfqLQdK6dblCQ7QIs2f/o0G2fn3jusAn0hl6ovXH4W0gg8i/0l8qGh2dtzTpfpH+blfwmWi5wsIvTQSYaPmrCky0/OHGRMsbbjShpr6eFjMt4lq2RIvyQNI5ytNPh1cvIksLCTM0RIty98rnGUTr59cuJK+LCjS0RKs77IFWaTxUf4momDQTeJ6+N97R/4RoeFT4dBcH54jjDR6rvwZ79j/iihMTLVdY+KWJABMtf1WBiZY/3JhoecNNbodww/Ambx5mdLUKonVQPyvGMxqT1uUKFdH6wHsMonXskesCn0hn6IgWiVQLgzIeqb9cVEg6zJJmNr8ctqcCOxgOMGnnYCZaU6Hb9h+ZaPmrAky0/OHGRGtz3G4bqvgzfSc8Qo8uTM22CqJ1yOB4Ma6t08rDUBGtCyoG0XrOE4F+f/OKFBIXoSFaRJI+NzgZT9bfJCoiiVf36qdw/fA3c0MVJNHSe23UG62Fnbs3T2ZXZwyvo92so1qtolZvoDuyD6mOTruFVruNVquNNv1udUbOR9R6HTTqNVSrNbRGPc8Dh2e/YSVaq8ZlMwDDTLTC3E7Xi2jp6LabqNXc2rZdQ3rCTU20/3ZvpAOwHc3w6/TBhWIceEM/OYOv2ZyugmjJfL14gpnL9ByoaDYaGMFX66HVcvav1M9SH9tGz7FbtNppoV6rij622XFs7T89QvE1VESLUrTrvxlk6/xzPKQ+HE5WTrRIEnX84HvYQX+FRbCeqb8Vpw3ODQyhYIiWhnpRHi8T8XzyeWCZ8BDQSoiW3kZGnHloH9NB56MVzXM6tKb7sShVs63XcmNH8igKUqWWh9wG5ySMRCsMuGyGcDiJVvjb6foQrY5L246hMnJwZA8FcUixs/1n5j7r8OjBt8R48PH+lzerhr6/r4Jo3T/UIc9uvHR4nee095pl69zYSKZm+VNrckxy4m/8Ttd6wp1bX5LI160wNvsROqKVzRhE6+ADN0t6aL6vlGiRtOr5+t4WwXpz/0BcOLwqcHDmJ1oainFnRY6jPtukIPA8uQW4CqLVrRoNPV1qgA7c6dTy4mDfqNkZqI2cOCstlqsKaVaz2USz2TYlgipyMQXxbAnNTgfNStY8FDiFjlsGF/SdQoJVAAAgAElEQVQufEQrHLhsBnf4iNZ6tNO1IVp6E6loHMVaCz21h1o+KdpyNGsP0vWccdB0Ml9FT9OgksS/3ppw9NZmNcr+LonWwf2c/TLgX6sgWpQFuUP8UR53iG+XUiPnTcYc+EProtmgPtW4W+0G0uJsygjKRIjN82IjyQI6mg6t10BaTIwTaDokXtOgDR3R+v4pBtHaNz4t2aH6tjKiRXZYD9NfJkgWGT2eM7h0YcDMT7RUlLMZVNo9NAskgYkx0TJLqyE62ggq1rnQbSQVBeNEK++pVWvIx4jQLvew7vARrfGmsBpcxlMx/hw+orUe7XRtiNZ4gesNcYB0NGtKVPQWEjSoJ0vjLud+/mD/C2JsIMK1qGtVROvQwYkzSevalRyyxQZ0rYk49a1OojUOjlYXbpRE0SC7at0sM5sc19J0ULj3MSx0ROumtkG0nvJo4P77xxEI5fPSiZY2vBeJ/mGWFGv//mdx7/C+hYIzP9Gyk2cQC++V1Pa5+F+rkGjp7ZIx24okUWk2UUxFxXPWFFtLiVYyV0KNbLga7RH7rFFUOkiLk+aTaHmcbY369/cUfqK1Glw2QzN8RMtOcZjb6ToSLV3ropQ2pFepsiFv1ttF0dZTpQZa9SrK5TKqtWYg9qvP1v9DjBFXDpt2oQb8a1VEi1SGZINMAoaZLlM6NY1oNfJxUSa5hlS5yL5DQaZcR72UEd8j6YrnqENHtCjlr3uJQbaO+ZznfKzS4VKJFqkKZQOi3XFPHSzHmI2J1mKrWKcyKtqO5hpWhFqrIBq2IsTZUv2aQN0wH7Dc0Y9O2VBDWjPmka+Lewg70VoVLpshzkRrM4Tcv68T0VLr2bH2m7WIlFo3zAJG27YCJZqdS/XfHt4iiAjZMpEN76KuVRGt24d3ivw9Xn/dbFnbjGjpTUPCGM3CUjBQDGpNSLXsckqNft8kFaEkWheeBzzqAcCjHwjcc88mOVj956URre8OzrZUhf+mvwOt4c1Lyz0TrQVCrTaQMo3hE6mkaWOlIFu1raxUVYVG9gFqF5WsYfweSY3OqPROGVFBxpJozr9oaaYMh5lorRKXzUBkorUZQu7f14lo6b0myqUSioUcEmY7j6YrQi0lpdWJXAVdTQf0HsoZQ+qVncOIVfbX+/QPcwcwoLerIlr9YR+P1l85u8RuE6LVKRsTXilxNGDSUM4YUq5oIukow9IUzcIowHKlJO0CEKprpycbUq3TvhOqZLklZilE64JhHbQfFolL9+sfvnBV4XhGZcP9RP/Y8U8zP4dZJbF81aGOUtKwqZKrDNGtGbMqJYW2q/qvjRQRqnjBbui9mmFXoERRcvc0cznN4iG0RGvFuGyGIROtzRBy/75ORGs0B21TtR9HQwOkRCtHD+al1gzVVNZNZC0dbfKXFkXRWBHkynO3KFdFtCgt+/Y/I/J44uAHbklzfzeVaHWREWYXo0busozsVYY9y7zDVi+6RyffvrufFmkNYvyUYVp/BwOA7lmue+8FTjoWoDMPd1CAg943i++VuF040aIjdB6nv1YUVGZw8koyGSTRagodeAwNVxKxkuxZkS6faPWQ+//tnQe4FUW2tp07M3f+mXtn7oxj9pquaQxjQgVEBRQERAEBEwJmRFRUVMzoIKIIgqgoioJgFkExoSKCgIoBJZjBLAZUVAyMdlj/89Zhbfv06Z27z05Vz9Onz+5QYVV11VffWrWKWW7rsb+CJhGpM7bsKQt+7X9TeZSVc+po7D6T695ZtdgYz2OcWQqQRcbKEmiVgVx+rbTo/8oZaJXzd1oxQMtZLRBVv4ZVMtqwWp3r3NusnGNY6KCqX9XchQKtr/1vzXZr7ATylf/Nr0kn8F8pgdZYb4oZE3d3eslPflRHGVHgNYsROk9oaLemKt7OY381eieGBaNhGFuLutPh2uo1LiFyrSN2ZAH4ssl37GGLv9aBpXR7F37ykci460WGD647OrcWWf/3de8Asjb+o8j9yS2YiKu8iQItttHZ2TnSVFJH9/TEPPxmE0bxQMuRZXOmy7Tp02R0H1Zs7CTDJk+TadNmyop6HVG2nCR7v/GB1q/L6c8YPU0Wv/mmzJk2uk4FuNMwWSGrZXKfnaT1GaNl+sw5MnP6hJQvmGFzsCJYLXeq24ydBsu0aZPlzjvvlAkTJsjMZRFGXAmJr/yAVnnIJZu4Swm0fvZ/kR/8n+THeoNUZXynlQK06tipnWTYhGkyZ85MmXB+nVpwrc4T1thprZlo0R/eOVPmTB+7Rv3fxzBe2dpP1P2J3iNmvOjmDoy6Heu1UgItFoBt63QzZb0ry16OzorFMm3yNJk+eU3fulYfMxbNT/WRq2SC6Udby5xQt7lyDcO4U89hMnPBm/LmgulyvlnZvZZMXpYd4L3vLzcbYbPX8Cr/h1jlbyLbboNfQRPAKZcDoNVsOxEM4T/7NP48JRBjYkALlL6Tc4RpSCBitlQoVVCgxebUhYVVdcxNPYPutWStP7aSJ1Z9K3T65RAaH2hhaPmmDOsJ+FRD97Vkrc7ny/w1Tg2XTQs71Gstw6bpjGzVGncOgXfXxHPGtMxbLsUp7/IDWuUhl2wyLgXQest/X3q4F6ZMEXAR82tI8502sruQX/MT/V+5Ay1YJdREX618RgZ3rv9tt+4zWtb4IjaFc1bMlzOMymrNN7xTH5m+rPC+fox3nxkzznJHRQsvxqulBFoU4zz3OlNWzpmCslX1+ti11pI+k9c4dl7jwmGn86dH+C9bLXPG1vk/+/X91jJ6Zm5OoSd4D5k8dnHPypTFwu89P1fknH4iuGrY7C8Njx02EjnjRJHrhtcd994uguqwwkJiQAtDRujGJk5P+c7/vqRiwUaMvGzmHBRrPvq7w028t3kPxxpvoZGVBGityayzerWsxmFhfV2D3jX3Vq/CpWlu4Xv/R/nc/yp3Wj23aCOfKj+gFZnNsrvYWEDrM/9Lud67V/ZxTjD73/Et/9FpIRs67WQbp2vZySVbhsoZaH3sfy5bOp1Nvzbeq/OPpd82C1rSBcdhsUt2hiTd+3q9uXOsSXuS94heSuxcaqC10H/blHULp1NiZUxFjBqYPjqPPhgv9mr2w/dnQ+ESSARoPe49ZxoQs813G3F1YSYx/MVpafKEH6+4wgXuGBNne/e0uKIsKp5SAq2iMh7xsu5yj9FonHUWkVR52mgFMvqp/6Wc714vDILlFJIGWmwk39sdlGKvAFhsMgwzje1npYZyBVrL/RUGuCLn/d2TG2WSE6zDJ7znTX/KhJhBPulQaqDl+75s6nQ0Zb7Deyzp4uYd/93e4yZvuzlH5f2ufaG+BGIHWjQe3DfwsY7zHqifWgl/tXH7mTzdms8qjyz5xQaN1ZTMrmFfSh2WL//VpUKp81Js+oB1DGJpRzs6h8uD3uzEVLS//PKLvPXWW8VmObH32WwdOZRbh/fll1/Kp5/GayMBk4mh8F7OcSn26k9OCznavURYZt4YA3BiFbkm4nfffVd++CEBe5cCM46t2xXehNR+sy2dPiHbtwIjzvO1ps7Rpp3f7E3N883CHv/xxx/NBsyFvR3PWzB3fNswR6hsiwmMvewNiVf9Ys1Z6G//02lm8pbrVkHF5L3a340daD3qzTOVg6Ef/kLKJYzwbjf56uUOijVLx7iXpuKlw7IhPgnM9l9OgXbtjLAdYbumJf5S+cj/LO/EqKPX/XfN+0968w1TdJh7ngQP2khj+nnLVogX/dfk/zl7mXaWzXA2W1zleh+jW1y/YHRLXXOw0TzM5hf+1+Wa7YrOF20c30gAWZV5d3egWWTQ2AW7zrvX5AE1WjWA6Vzl5/iO6Kq+zu6AXF+LfI761Hq80bs/8plsFxmzJ3tPye+dpiauy71bs71i7+cggdiB1qnuMFNBGKCXU1jsLzUMyR+c5rFmi8atgyAd1qHuuXKP90RJjf9jLWCJI2NRxU3eFGnhHJfqRLQz4byOs7/AVuJ7J9NBJ7a9c2iKJQvGEfX/kDLrYGhT5JOZLyqeagkArOPdwamOHYaYumLCxiBULoHBnz5kvr+k6APgXKrFQaT7kPeMDHBHyn85e5s2xaB6sHumvOy/0ejihsH8l3ezYS+p+2ne7EbPQ6EJosoPtwe216FM+QQmjJT9N87uUoxtGpPIwd64lCxf8l/Pmg1YMLY5wmcZIFt3bqGvGeqNz/q+fSA3CcQOtP7pHG4+XhiHcgs6c2ND6zgDHRQdlc4CaKSovfCRwox8uvdsXrQwNkl06ny0HM/6C80HiG0KYAJXGbkeAL+L3RsN+HveX2zi4wNkG4hKC8iCjuQA9xSjWtrK6ZJSL0WBpahr2Ort6fQ272NbB6BiUKeOOE50h5j2S+dfboE6p0xxs7L5lvM9/5NU29Q2ms95vrdErvXukQPd0+W3a2bOTIBgVx7y5ghqY2bStN1c23mSzzVzjklNpqLaVCHXGFRh/XPN90HuGcICI+Q2w5ufUf7PegvlXu9JGe89ZI5R3l2mzWwXMdFAxjO8FzLGl0/d5vLsTO9FOdb9lyn75s7Bpk3TXxYDMvJtw8U8z+IMgCptNqruGWfauv1M+XD2+bA3JytLGNz/l0UfEBVRsszFTvMS9yaTr3buqQ3iYNKK6wxtd4xR4TKs7xwgI707ixGRfTckgViBFj5tQOYMZiDlcgssC6dRoSZKIn8r/e+E5bDMyNnLMdyAMfLE/qGVG31wjxU/apsUfj/u3//ndE7lhY7hDPdqwSiTjvBp7yVhb8pc5cRzr/nLzLu8n+643XvUMBjpZHC2e01eKmdm6HP9V9OmF8wHxtXZyqOq4Mu8W8qt+QodvLIQuk8orA9AP1jOXP6HObjUu0k6uQNSbSBdnQSvb+S0b9Cu426X5RgfkyhWOLKKOtMBa8oedms7+xnDfYz3w8dfnVbyuzUAsxzL2th5QnUGy1cJgXzqwirkBNPOxE+PfZ0T6024VZbUNzZoTJaZ0IVZL5h7bBNh6PWddGfIjOA3Gf4f9Wu6d6Ou01bJP5NO+g7GMRvilUCsQGuev9BUMIChHAMsEZ0cjY0B9RP/i8Syia6bGcmV3m3Swe0vzBKiGnnUNWVdAD8cfAQwLRglMtuf47+S88FsCo/8rN7S+KifXD5o8kZe6CDoUNIdGC7nGl9UecPXdFl5YpWTJmI6UZgG7IRoK0kGjFVhGKlPPagrjJKh8NPJemvnENOOMFTd1emRAl5hGSb5m8mAtqVcz7BCwQEKdTvAZV/nhAZxMVEZ5I41aqR82nq+zzKpGO7dbo7T3KuM2oSFF+HjH043+c2ahRlJyjWuuJmoseKbAZSDffVgf2Fy2zgnN5B3rnUY13P0ZzDT1BdjRtKriuP8jnU1NJNU8h4VMGpn8kf58AuG3HSCpHUM8MKVBauJWW2p9r2cWfQBGRCWNyYSuY4j2l7pm4PxwIYzSQt+K9YGMqoW470WK9BCJUdDggYt18DsX8EWrBPO4jC6TnKXeJUFy/TRh2c6GtP+Bhpa80LHgEEqlD7O6fK1aQKg7OAcZt7l/XQHq8dYjYr6UtPmzEyPtkMHtNT/SEXWqGdVezMIZAuwt7O8l41aAIAUPOjIAArQ88zWwweMiKqxteMt9Iy8GEDTyTvdddR0sHbMroP1kO1/2nC2EHa9QJwYtlPGDZx2ZnCp79E9W4yF3cd+RuuFpepMNpAV9aGANVe501dQn+nkqdcx6Gf/OtLOJssk7mPzlo21LUya9i0kcI472rRj2Kd8AswzbYKJFEAzDLxgTJmMAPjxjh/+hjQtxik0B5naDpqIts4pJp9M5mwovQQSAVr4Pirn8Kr/llHhBTtZ/JlgCAjbAwtFx3yfNyPjyjYaPSCNZ5M8HvPmlczpKzMsPmxs7jId6TqGcDvADcbezvHyYWjFILQ19QEQK0WAgVzHaWPycLv7qKlPBkwMtQFGtA09YDyC9njBdpTr/7wPaxVc7Qj4YVUlS6th1NLJGxsdXIqQ1pnuyFKIK22atAPYFMrleq484M1KsZ3UbZIrkdkbjxVTw71Jps6y1cUmTkfDHpJXGG6YxSiZs0q12OXyaQVmb5SdBD7wPzU2rVHqzEKBVriQLK7A9hZbRBin8MQLIIYZxRv+e+FXs/5msQMTAya/AG8bSi+BWIEWKio6N+jQcg/M+tBHM8tl4EzXKdNYMVqFrQkf6zlt076XLr5Cr8NcoMII5yHTb+xvGHQwMk3igC3Il4ELuv8ILuNWD8SFrnTBxgG3D9nKiTEx4AlWA9lt7XSVjZwORr2ST93QMeLU8Sj3ogYHbYoOFJUAW8aED2zFCmF0kBe7EOALbpb3Ugps4WcrHJhBH+leYNTN4XtJ/lZmsqd7sWHLVKaoLJJijVHh0OcA8DQ9ztiqaP1QJzd4k41rD+oDR8qW+UmyJVRu3GogTp8b9o+oq+ozMVpMLvINfNsAO9oowB9bZ23L2EWyCAqmHbaLPo7JlvYhTAJgpjG5OMK9IPUebd6G8pBArECLlTE0DnTMlRTocGFYWE0F+GLWgvqTThpDVm3wUWfYDp5N8kBlEfQvFJWPUl7DBgRD/2wHK4wOcE6RP69ZKHCSO9SoWWCOrnAnSBunnwx2b5ET3MuMc85s8QXvq3O9OORwpHOhqc9T3GEG1MDo0TaCRykYDsCT2mgAXO51nzRtM2wTieoA9QSyYDJQrCPEXL9lVrLSTrERAsygHqYuGSCKZbKwT8E2DMYMUI19VVf3HAka55MuKm9WhOEjDXnZYCWQrwSw3dXJN863gxNCVfnRvqICqj++O5jpYgLmE8SlG09H9Wuw4vSB4QkG9o/0qcV+c8Xk375bXwKxAi1WP9AgnvMX1U+lgn/xkWHLFHXkqi6Lo/iZ8hGVN+hvVpZhg8YsLImDgU63kIjqCBrzGqq0/dy+AjjKVFZANDNCVHPIjZkg+QQsvui+blb2lTPTsch/J6WKY5bb17miHmsFANQl89hDofZqrMBKVWSJajjOwKCjqtL73aeML7Fg26INUq+NWdY4y2fjKj8JMDlRsAWLRGDPXtodarlwgCGFieI+iz6weY0rYBcJeYFNJX0bfRwTD1U3MsFg7OUejFiYhYsrHzaewiUQK9A63R1hGhqVbUPtSIClyiwJznawugXV4TnONcYomcHzMOc8s2UE20ZwsKoH9Ri2MtniC94PzjrzlTydFh0k/sYqIQTBFswVKgPqALnB6FAWVoo2tq80VVvQ4ccZUNNQJphdZvD8jxqdSQQOg8sZGMcpBxtX40qAiSptjdWxsEOYYfCblXzBgM8rBT2ALFb0NUaAsaUPVBViY6Rp0yhMArECLehKGiKUpw1WAtkkoEuasz2X9H3ccKhxOw4GYQODoRyXnwNEgzaCQZsO2LlSsDvYBPL9s+IS9R4BIMR2IGyBpdeCss3lf9TzxIuKFLs6lq4PcyeaOJnU2eXpuUjRPpOvBADwum8vkxgWc9AOacsasA3kGra8TDDY/9YGK4GwBGIFWureodxXHYaFYH9bCWDAqrNSOk0MYfVgcGdFW7mFVf4PxskhHu6xUUOFhnoBcFOKgDd9Bh0O1BnIT39zLnQQwqg3GE/4fxwR22AlkIQEWPBDe1NbXfoGVOSo8/q7w809mPl0NltJ5MnGWXkSiBVoTfFmmobHzNYGK4FKk4B2njh5BHTpgTNWlv7bkFkCMAA3e1OFrT8wGkZ+qPqYeAHCClVxwCjirJc4wgeLAhb4b2bOmL1rJVCEBHC/ANj6k7O38b+GzzQmEnXXWpjVzkVEb1+tAQnECrSwCaFzZSabi2PDGpCvLWJIAgzGjuPIv//9b1m9enXq4LfruqGn7U8rgfwk4Hme/Pzzz6l2RRujbXGNezZYCeQrAYzgsXkMMqnYYuF7DcehNlgJZJNArECLxPBRRIPEA64NVgJhCTDo3XbbbdKmTRtp1qyZNG3aVPbYYw/p3r27PPnkk+HH7W8rgbwk8P7778uxxx6balu0r7322ktOOOEEeeaZZ/KKyz5sJaASwJ6UfWxZmMGq5cZeaKL5sOfKlEDsQEuXeLPc1AYrgbAEfvzxRxk0aJDssMMOcvDBB8sRRxwhhx12mJxxxhny7LPPhh+3v60E8pLAJ598IhdeeKFpV4cffrhw0NZ22203ue+++/KKyz5cuRKAOc90JFmyUqWbZJls3MVJIHaghT3FH5zmgtM0qz4srnKq8W2A1qWXXipnnnmmfPpp/dV91VheW6bSS2DIkCHSqlUrueeee0qfGZuDRpHAjTfeKO3atUsxm7DmBx54oLz88suJq5Dfffdd6dy5cyptWNUWLVrIKaecIm++aVWNjdIAyiyR2IEW5dNVQh3c/mVWXJudUktAgVb//v3l44/Tr45buXKlTJ8+XZ577rlEOkbyMW/ePBk1apScd9555vzWW281EA+qTpi2xx9/XL78sv6Gysxc33jjDbnjjjvkpptukrvvvluWLl3aIA69gFqLwX7+/Giv0vpcvufPP/9c7r33XpkwYYLJ69NPPy3jx4+X2bNnyy+//JJvdFmf/+abb0zdID/s7ZIMP/zwg1x33XWyZMmSVDv44IMPZMyYMXL//fcbWVI3119/vRnEouz8/vWvf1mglWQllWHcp59+uuy6667SqVOnFLt50kknyWuvvZZqR0llm34NUAVbr6zqlltuKXvuuWfs335SZbDxxiuBRIDWN/6q1NYYbGljg5WASiAb0Hr77bfllltukRNPPNF0TNdcc03sHSMG0k888YTcddddsmzZMjNAA/w6duwogBTCV199JdOmTZOLLrpImjdvbmx8PvroIy2GOc+aNcuoQYlr1apVZuCHrXvppZfqPccPjLFHjx5t0nj00Ucb3C/mAuCuZ8+estZaa8lvf/tb2WCDDYwqFlnGGUjn1ltvFQYsGIIRI0YkDrRoCzACgEY1Zn/11Vdll112SZV38803l5EjR8qKFSsii2uBVqRYqvriqaeeKhdccEHGyVxQAEyaCg25vAvw23vvveX5558vNBn7XgVLIBGghTzGePcZo/jW7kkVLB6b9bglkA1owWB8/fXXMnPmTDnyyCMlCaDFQD106FB56KGHUisdYZk6dOgg/fr1ky+++MIAI/IBC4Was2/fvvU6bQZ1QBjxkGcCjNfFF18sl19+uXz//fcp0QEQYGSIAzAHUxdnAADBqsGWwTKR5ySYLOoOAIpReY8ePRIHWpTrrLPOkiZNmsjcuXNTQAv1z7hx4+SRRx4xDB6MnoKwKLlaoBUlleq+BtA699xzJTw5iio1rPmkSZMamDLQ3mlj1157rdx8882yaNGiehML2ifMMfdoj9gHpmuH5McCrSjp18a1xIAWtlobOu0M2GKLAhusBJBANqClUkJdlxTQYtAGVPXp0yfVEWNX0bt3b0P1B+0oAFtnn312A6DFzBQWCbWWzmhRMwKyjjvuOKNS1LLQAcN+YSt09NFHS9yM1jvvvGPiRPWJKo9D86R5iPP8wgsvJA60vv32W3n44YfNCtX99ttP5syZkxrEAFqAZABxLuW1QCvO2q+MuHIFWjDRhx56qOkLmKBoQD1+/vnnG5DFpAr1NHZXPMO3xbd21FFHGdOGn376SZ566inzbet9jUfPFmipJGrznBjQQpxPeS8IW4Owvcl8f0ltStiWup4EygFoMYgzcL/44ouGuSKDsFyHHHKIUREGbccAWrAqYUaLgZ5Vk8xmNTDoo07r0qWLUXVxnU6YtGDMbr/9dunVq1ciQAt7JfKEi4zHHntMAF/kJ4mQNNCCFZgxY4ZhEChL27ZtDYumbAFA68477zTPcB/V7WeffZYCYuEyW6AVlkj1/84FaAGYaDstW7Y03ze2fwSuDx48WDAnYAJGGDt2rDFl4LviPjZYmAnQl2hgosb3D3gLBwu0whKprd+JAi1EOcS71bBabAL7b//n2pKuLW0DCZQD0ApnCgNqVAAM6Pj4ChpUpwNaGJ/zPDZEGniPjrZ9+/ZGPUiHjLoBNSizYsABLFjcjBYqDOy/yAt2WQ888IABh0HVqOYxjnPSQIsyoLJBFQtw3H///esBLUAxKlqeee+994zahoEsaDAfLKcFWkFp1Mb/uQCtxYsXGyYKv2vYUCmjxfe0zz77yMSJEw0DrxIDQPFNA64wtKevYCKlAXDGykZU2eFggVZYIrX1O3Gg5fleyqvu3s7x8rHfsBHWlshru7TlBrRgSV555RVjm3XVVVcJKoNgSAe0WGGI09UooHXAAQcYVgmWBZXC66+/bqJMCmghU4Cc2oqpjFFTatrBMhX7f5JAC9u2KVOmmEUKANcooPXdd98ZtaHaofEOq8sAVFGDnAVaxdZ45b2fDWgBmiZPnmxMB0477TThUKDFIhnsAvnGmRSxmhdWGtMAAmrDTTfd1Phl02tcx4xgxx13TLFgQalZoBWURu39nzjQQqRL/Y9kG6erYbbYN+45f1HtSdqW2EhAQUA29w5J2mhpVTA7RV0AwMJdAKCKa8GQDmgBBmCugqpDZbQweEelhZEt9mCUmQ4Zg1sYLVYzxmVHRX5ZRUkaysRxDQNebJvIZ9whKaBFvrFlo+6ROzJDtQOjpa4qeAZACZPA/xqOP/54Y3fH8v1wsEArLJHq/50NaLEghdXBtKMw0Bo2bJhsu+22MnDgQMNIY0qA6QArWwFomBxsuOGGZpVxEGjdcMMNssUWWxgXEsG2ibQt0Kr+NpephI0CtMjA9/6PcqR7gQFb7BP1rL8wU77svSqVQLkALTpCjKlRD6AGRB2ACwbOQXVAOqAFU9WtWzfjv0k7VTpdViGyIg+1Fq4QsONgpsuBfRYeyk8++WQDIIL2HYVWN2zO8OHDBaChbiXID8ARJ4mwaHGHpIAWZbn66quFgQ6giMwY4LbeemszUKEKZdBD1YPvs6AtHQsbsLVZuLBhv2KBVtwtoPzjywS0YKT4PmGBCWGgddlllxkXKXy/ythUSIwAACAASURBVBKzmpd2iH0g9pa4UMEuMgy0Nttss0hfXRZolX+bSTKHjQa0tBCnusMM2MJ7PPtG2VBbEsgXaGF7pEbQcUoKkENny8yW/2GFsA3Cj9aHH36YSgqgFbXqEKNYXEFcccUVqc4WtSO+e9hOCBDAb84sMed85ZVXGm/VMFs4ZI3DWJ38sdIRFxTkiQBgJF/Yi2AfFncAaLEiFHs0ZdHiSIN6Rmas0lSZwRKgxmFQw2aL3QRgBXE0qw5kKS+OITFGxi9aOFigFZZI9f9OB7Tof7BhDIJ07LM41BgehhtGC7W1tm/a1UYbbWTAP2Br4403NqrHINBicrPVVluZFcc6+VJJW6ClkqjNc6MDLcR8sXuj/MbZ3QCuA93+8rL/Rm1KvwZLnQ1oMdgycNLJsZwahgimQzu8OERGHrCtgpGCCaKTpSMEPMCkMNjTUQKEAF0wUAzizISxC+IeeURtyBJw3EFwHUYJUIZPqyA45H/uEzfbgqDOiwNkIQviQdUGoMJ2iXRQnwECYdMAYnEFrRvAKCsrATCoUuKsG82ryhj7GFhAltczqCF35MciA+qR3zAM2MXBTHItHCzQCkuk+n+nA1pMEvB/x+SEiQIHzC8H17Fp1DYHa61tG6AFuILtYiUigIpVxEzQNDCRwpFvlO8uC7RUSrV5LgnQQtTTvWdlXaeNAVtrObubbXvYId2G6pZANqCFQSrqLgALQAgP8dhG4LcKEBFHADABkFA14URQO1oYIAZrwAssF/ZBrCRC5QcIYzNs1Fc47SRg7E6nDICCHSOf5B22KhhgYdjQGMCGC4kBAwYY4ABIiSOQHj6n2AaIzp8VeTh6DTJzcaRDfBgIn3POOam6YaAC6AF44gzIBgesDFAYuiMzZE+9IHdWfHHADmLvR74AyFHBAq0oqVT3tXRAC7DOggnAEAf9TdeuXc1Eij6G/onFMfvuu69pb9qumUzBaDGJ4hnsBvnGmARqIE0WoGj/oNc5W6AVlEbt/V8yoIWoV/k/yFBvvPzNaW0A13ZOd3nBb2jMWnvVUr0lzga0ADnMEukQmU3ym3e0w4tDMjAzQcaJOMNUP/fJA3khD+QF2y2uBd8lXwAQXA6g8tIZcDCfXCMentV4iSecZvCdfP8HhKL6gFXjHBcoDeajMepG00NOyJtyqMyQocoM+bHPJOXF1i5YJxqHni3QUknUzjkd0ApKgO+SvgWHpcccc4xhpmlHtDkmEzBUgDG+WyYxODkGmNEGAfhMwPSbx96LRTCsUozqqyzQCkq+9v4vKdBScX/kfybNnGNS7BbqxIV+vPu0aVr2XFoJZANapc2dTb0aJWCBVjXWauYy5QK0UBOyGTlsNTZ+qAVRuwO0AFi0G9hqjOJxULpgwQIz6SJlwBT2oyzYQMWITWTQeD6cOwu0whKprd9lAbQQ+S++I8O8iYL7B1SJeJTv7w6X7/xfqdnaqprqLK0FWtVZr+VcKgu0yrl2kslbLkALQAVrCrOl7BasrQZYU8AYAEtXH+o9PcNwYRwPMCOOdMECrXSSqY3rZQO0VNzYaQ32xskfnRYGcG3sdJBn/AV6254rXAIWaFV4BVZg9i3QqsBKKzLLuQCtIpPI63ULtPISV9U9XHZASyX8nv+JdHD7p9itS72b5Gc/HmNoTcOeG18CFmg1vsxrPUULtGqvBVigVXt1Xs4lLlugpUIb6d1pNqVGnbi1c4g87j2nt+y5AiVggVYFVlqFZ9kCrQqvwAKyb4FWAUKzryQmgbIHWpT8Vf+tesbybOdzgTvGXE9MMjbiRCRggVYiYrWRZpCABVoZhFOltyzQqtKKrdBiVQTQQrYsqb3Ve1D+z+mcWp0Iy9XdHWg3qq6gxpcP0NKl/EkXL5d0eEaPqPxki4P7GMtmckMQFW8+1xojDfJDGShLtjLnk/dMz6YzMs41HxZoZZJudd6zQKs667VSS1UxQCso4Ff8Nw2j9fc1KxT/29lHLnTHyPv+8uBj9v8ylEA2oMXgrb5s8E2DZ/MkBnQFJSzTJp10zi5VhDgmXLp0qXF2qNc0rxpH2FEpz/EMK5lwsomvLZaPq+d5jafYM2ngYwp/Xmx4u2TJErM9TTqAUmh61AtywHkje7/hxwrHolxPKlAGyhNuB8gcD92sCMNrN6vCkENUsEArSirVfc0Crequ30orXUUCLRXyV/43cqI7JLWdD9v6tHdPk+f9xfqIPZeZBLIBLbaRAYzgEJBtb/BNEzdgQCQM3HiAxrszzgqnTp2aVlIAiQcffNBsPsvWQBoAVoAn9jgjr3h/DweACO/iZwev82z9g0fzOL22s+cfjhLxWo33dLzZ4/fnmWeeiQ0EAWJwhIrn+7Fjx8qNN95o5HbWWWeZJfDpQE5YHvn+Zuk8OwTMnTs3VRbAHnlgH8QZM2aYOmQ7JMBsVLBAK0oq1X0tF6BFv8KRru1yXZ9JJy29ny4OfY/8sAsF3udtqD0JVDTQ0upa4i8VNqv+q9MqpVZkxeIj3lzx/ORm25q+PecugWxAC3YCYMJeZOxfBxCKmzGhUwTMTZ48WQYOHGj2H2QLl6jAs2xAC3Bp27ZtapNmrsPosNkxG0mzh+HEiRPrRYGfHgAj28fgwZxyAMrYw5HNrOMKlAOgxzY8BPKFA0a2A8HPTxwBwEhZSQM2iTBnzhzjLZstcPDOHncAUJ177rmy00471QONbHvExt26iTZ5O+GEE+Suu+4yDFs4HxZohSVS/b8zAS2+XRhgvhMAPH0BEzyuawBA0aaZSPHtMpnhmgaepS9buHChaZuw3el8bfGOBVoqudo8VwXQ0qr7yV8tV3t3pJyeYsO1qdNRWLnIPRtKL4FsQEtzyMzvqKOOSgRoaRqcYbLYgoNBOirQeaImY+Np8gODEg7sc3jYYYc1AFqwMccdd5zxLq0zXzptgCTgLa5AGdgPELaMdGDLjj32WLOH2+LF8bC7AGDAJvs1MqgQYPSQC/u+MWDFGSjH7NmzZdiwYbLPPvsYUAdQxcEksh41alS9PeUAUyeddFIKfAXzYoFWUBq18X8moIWpAGCd74WD7/rMM880bQcARdujPbNvKN822+8wOXrsscfMFlxIkO8Xr/DEw32+P/YYJe6oYIFWlFRq51pVAS2tNpye3uxNld2dXimGa0OnnVzj3WUBlwqpROdcgRYbFbM1RhKMVrDoU6ZMke7du0cCLQZ21Iuo4OhUYY2igBYsD3EEGS067HHjxsnBBx9smCA2sgUAsSkyHXmcAYYJVodZOnlGdmxezcbZ2WzPcs0Hs3tUkjBJMAEE4maAat26tTz99NO5RpXTc2z8zdYm1A9MoqpBscvaa6+9zOBGmTWwlcp+++1n2Ae9pmcLtFQStXNOB7T4PgBHmADAmBLw/r777rubjezZAJ79C5l8oR5Xu0vA2G677WbU53y/V111lbzwwgupPUWZGLLpNBvLRzFbFmjVTtuLKmlVAq1gQZ/1F0obt18KcK3vHGBYL8twBaXUeP9XEtBi1jpz5kx5++23jV1VOkYrCmhRzkGDBhk2ZsSIEYY5Y/Y8fPhww5DFDbaoQQYOBg32bEOdidF6nAGj/uAWJahcUFHCnsWlotRyALAApk888YS0adMmBbRgCRnwkGVwQON3kyZNDAvGYBoMFmgFpVEb/6cDWnwjtFlUze+9915KGMcff7y0aNHCqAqXL19u2GC+If4nMMHYZJNNTF8A+GrevLkBZjqRoc0B9GmrTKrCwQKtsERq63fVAy2tzrn+qw0A1z3eE3rbnhtJApUCtMgnLAozVcAFBuz5AC06Y2yzttpqK2O4DduEzRY2Wn369IlkXoqpAvZlw54EZqdfv36GgQMoBu1Oiok//C5lwSC9a9euxm4rrnQYsAC38+fPN0AK5gHVpDJasHX//Oc/I4HWLrvsYliwMIi1QCtce9X/Ox3Qgv3F7u/EE09MqcBpu3379pU999zTrGJFOjDPyhDzDjaYfP9fffWVaZew24AvZbyIo3379rLvvvtaoFX9zSvvEtYM0FLJwHC1DTBcB7lnyAI/3pm/pmXPDSVQCUCLwX7RokUya9YsY3PBb9QNPXv2NCqHMKiIYrRUrUbnjZ2HBv7v0KGDjB49OnYVoqaBge4RRxxh7KniXN2o8QNkUBVin8VKyyDLpc8UekY1yMpJWAHkDtCCKcDwnnQBvhjHw2Cp6oe0+L3rrrtaoFWo4KvsvXRAi2LSXoNgHLU4YD7MzDJ5gdFChYgZA2wxbZLAREP/5zff2ZZbbmlAHCAtHCyjFZZIbf2uOaCl1Xu/95Ss67RJqRT3cHrLOe5oedmvsz/R5+w5XglUAtDCTQCuGFhlR+eKioxVkAcddJCxu8KGg45WQxTQwmgb1SEzYQCbBuyO6NSxnwqqvvR+vmdAH6COmbbmSdPecccdI23P8k0j+DyDC3ZrqEAxDmbQ4loYfAbfyfV/mAMAE2AUsIjcsXNDTQOjiHoS1g57Gti0oI0WgyHPwXiF82IZrVxroHqeywS0gqUEcOEaBJUf36Z+QzxDe2NFLwz0hRdeaOyzguBK4+EboI21bNlSsC2MesYCLZVWbZ5rFmhR3av8H+Ry79Z6qxRZqdjJHSCzvJcr1jUEA03wCDbt4PXwgBR8Lqn/8wFaPXr0aDRj+KB7B9gUwBN+mhjQOZjRYgOEOpDVcMFBPgpo0dnyHkbpQVcOanOEYTmqiWIDs/HzzjvPpIN6jcBMHL9d2267rZmNx1XPlAmXCvjreu6558yAAqjDOD4OGy3igs1i4EN2gCwGOdSvGN0jR9JBRcMiCVXbUGaAcJcuXSRqlaUFWsW2ssp7PxegRXvGwa+6RqH9RQWAFGpDmGjaX/B7AqgB0Gh72A/ybFSwQCtKKrVzraaBllaz4zvygv+aXOrdJOptHsC1jrO/HOKebbb+icMf1xz/FRnkjpUZ3nxNOvYznQV0NyoYjD05cM5Jp8I9VtVwjyX6MDPpOpfYM7YmwmxAi06Mzovl1brqkM4r2LnFkTdNhxkrKwYBD1Hp8Byyw/YJtwJ0qpoXjWPatGlmldL48ePrxYG6C6AAG0McHLiRIL0o56aFlIs6xI8Vq6RwHUGeACAAk2bNmhnWqZB4w+8QL+oRGCeclsL0MXtHhQhI5XfcgXZA/eDokfbAb2QIsMRQGQeqBOoNtxMsAohyWmqBVtw1U/7xZQNatGcmDRdddJGxCWTSQ/viOhMV2lGwb+S7/fvf/24cKOt12iIMKyp0GFjet0Cr/NtGKXJogVZI6rBc+OJq4vRMeZwHdDV3jpXJ3lPypf9N6I3cf+7kHGFUlfj2usmbIj/7v6qfco8l85MAqXvuucd404YJYIUNxsWoZRiUL7nkEtljjz0MaAAYxOnPKXPO6u5mA1qAQgAD/pOwb8JuAjsdBlU6trgCrBVqJgZtVrHBVDGYhwdq7C2Y9QKYYLRgTgAYyBM2CaNtOmvuAXhglXSlEmXFsz33me2ylQwqCNRuOECMI9Cxo5okHVR65AmVJ0waS9Cj7EUKSRf1JGVn5dU666wj6623nqy77rryt7/9zThj1DIXEnfUOwx2bK9z9tlnG0aLtGGrGBBh0PDpheoSUAn4ZWBFxgx24WCBVlgi1f87G9CiL2RhCm2GtkbfgrsG+h/8ZzFJAVypeh+mlfYOmIfNBpAxYeUbY9JKu+OA7dZ3glK2jFZQGrX3vwVaGeocUHWfN0O2cbqmbLnY5mdv53gDxjCiz4fpetSbV88uDBuxk90r5Bl/QYolyZCdvG4x2AJUsBPiw6djYNCFIYC9YUAuRcgGtHD4BwBiEEVVxIG6jdln1CBaaBkAmAAUTYczgPSjjz6qFyUdLwbYwecATHTOgAuAVfAegz6gEHkTkD2dLzZEqCK5Hxf40YwCtgAfDAykA/tGvpB1XAHDc2bvlDV4PP744wZ4ppvJF5o+rAFy1zbAFkMASS0TTC1tHHaN9sxgly4PFmgVWguV+14moIU9I6pn+kK+ZSZOTKb4dmBt8ZkH0MKxsK48vPbaa2X99dcX2GsmWUzILr30UtM+caNCHPRbPIeX+XCwQCsskdr6bYFWDvW92v+33OjdL93cgfI3p3UKdMF04Zern3uloBbMFXQ94T0vLZ0+9eJZ29lPOrsDpL87XE53R8j13r3yuv9uDrmLfgRbAnzD4DCTmRofP4MWhsbq+yX6zWSvZgNayaZuY682CeTCclqgVW21nr086YAWYHzo0KGyxRZbGIZKmdm//OUvhhVlogWIZ7LCxAsNAWAMp7yoCGFQmWQRP+/qAdv15z//OcV4hXNogVZYIrX12wKtPOv7F9+R6d6zMsAdKbs4PeqBJUAYhvQ3eJPlbf8D+cD/VL7167wPRyXzvr9chnkTG6gpAXB6bOYcZNLCLYWyJFFxha/RoWBQDKsFvQ3zwGws3RYR4feT+m2BVlKStfGmk4AFWukkU73X0wEtVhXClLKAhf5QD1SDMFOAKAIAC8YUwDVkyBDDfqltFs8AwnhH3+fMb9jsKObdAq3qbWu5lMwCrVyklOGZ9/xP5ApvggFL/+HskQJICpR+6+wprd2TpJc7KONxjHOp3OE9Jrd5D8st3oOGJdvW6VYvPmy8XvRfy5Cb+rdQtWCrw3J49uMK2x/Vf7r+LzokWDBUZ9kOVGHBZdH1Y6r/ywKt+vKwv5KXgAVaycu43FJIB7RKlU8LtEol+fJI1wKtGOthpf+dPODNkt7uINnZOVIARn929q0HlhSARZ0f8uqW5wezhPpwsDdOFHRh1wWrlktARYgX5B122MEYeObDiGFzgLEoq7sw5k53YNyNXUKuq84s0Mql5uwzcUrAAq04pRkdFywORuKwPsF+BnumdLZz0THFc9UCrXjkaGOJRwIWaMUjx7Sx/Nv/WZ7yXpAHvdkZD54JdlDhCB/z5hnA9kenhRBntkAHB6OFY0y2LDnnnHOMU8ts7+l9jLihwdnnL9MBIOO5oJdujSPqDNBi4GOFXmOveIzKj71W/RJQoIUTWhvilwB2cqwQZVN1/MOhguMa/Rkr+FjMEvQ7pzngGfopwFm2A6P0TP2jxqlnC7RUEvZcDhKwQKscaiFDHub5C42R/H86zQzQwv4rW0CNB8hiY9558+YZUIM38qCH8mxxMEPFFgFglO1QHzTZ4uQ+cdEZs0+YBVq5SMw+U6wEsLFhG5+4fJcVm59qe5/vGPskVn5269bN2DYBnDA5OPDAA42taNRKW1wsjBo1SgYOHJjxYJKIWwVWHuey+AH5WqBVba2ssstjgVYZ1h8OVKd6TxvbLlUxwmQd7V4i3MsUoOnxN8SgwplZIEvgmzZtanxTAYpyCRiDzpgxwxiBsgw63UE6+Lmi08wlALRYFm0ZrVykZZ+JQwLKaOFfzob4JcBkDmYb1yVsU6X7UrLamS2oMByPMhAHjLHCD9ck2Q5AVpR/qnSlsUArnWTs9VJIwAKtUkg9TZof+p/JRe4NsqHTLmXXxf+jvDvNdkFpXjOXAVQwUIArVCQwWkq10wniZZ3ZJvdzCfiTeeCBB8x2KHgDT3ewTQqrc3LdgiVXoEXeUSvkamSfS5minlH1RdiOROXJYMA9DkAqeVK5Eh/XKROqEc5RA4qmyz3iSKJMGjcqXAYk8plEoLzEz0IJzvyOO6jsiR+50q6DMic9ykvd8AznTEyHBVpx11D9+Ghr1Af2mqeddpoBTzxBn8Hm5un6HOqU9/gesh20s3AbqJ+L+r9wxYDZRLmw5uSHvRBxcGxD7UnAAq0yqPNl/sfSxT1LgqsW8UTPCkR8eGULDN6sKMRPFio5tnxhcCIwAOEF/ayzzpLtt9/eOOPDF0wSA2S2fHI/G9DSgRxGjRkynpszDaK5pBn1DB07oIQZNa4v8JUTDAzwXMcZJjN0Zu0AT/b4Y2AnUBY2PmZpN/YpOAzFqafKPhgf/5MW6lzsWeIMlAU7OZhF8jBhwgTjJJXFEPkMTtnyxICK/Q3sJk4d2ZMQL/4qj2zv53Kf/OI1H4erpIPHe+SLc1htBwzOy5YtE5yYwqhOnTrVqJWQQ1SwQCtKKvFeQzXICmfAFSCceoS1ZueFsBNgTZn2yTfON5HpYCJHXeOaJtf2bBktlbI9l4MELNAqYS385K+WS9yb5A9Oc8Ng/cVpadw6LPLfyStXDPb4zAJkHXfcccaVA0CFABjAGJV7bIzKHnh0XPm4esgrM1kezga0YNIYOLHb2GeffWT06NGpATZL1DnfprPGwB9QctJJJwn2a/wfDIBTZMYWMxtssIHZoBkHsPjg0Vk4wJaVmQAnQBQDeteuXQ3gCQ8IgC+eZTDCaWycgX3WiJvBCBUuew+SDt6vc12kkC0/lJmyAyjxgA1LgQoYh7gwqHExaEwCRo4cadoAbQGgzWa+rJ5V9TRgj615sAuinvBUjx0PLC75DAcLtMISif83rDn2WJgbMFli5wnaBpO+KEN4cgBw4lsHnMGMZ2LNmfBQ/+HvKl1JsgEt2gl9EYwo30hUuyFurjORDaer7yubB8gnPp0MhPNFftizk2/IhtqTgAVaJajzH/yf5CpvoqzntDUA63dOUznTvVq+y+DcNFM2+biDHUH4//DvdJ1BpjTiupcNaDHLRQ3JIMomzoCFuPOLPGBNAEcwJqhUw0ALIMqKKYx1ARIwWuRNA4a+DPYMJrBcBIDOXnvtZVQoQZaH/GOD0q9fPwMaAGhxBsBPq1atzEBFWrBb7BHJRtO5ut3Ilh/kAZhDJlo2WKWePXsa9RADbRwBRrB58+ZmX0XdDxI2lpWzyJkBDhUVW0sF1UKoZtgfE+AVDhZohSUS/29AUK9evVI7T9AmARZsOp4OxMSfi19jzAS0AEfYfAHQsV+lD8CeLDgpYWIEQGQSy8SUfisYKC9b9vAtow7EDo1vg+8k2N/qOxZoqSRq82yBViPX+3hvmvzd2T9lg9XOPVUW+0sbORelSy4b0NKcwZr06NEjEaClaXBGZdG9e/cGQAtVFR0xbBUdMx1vEPDxG2YKR7BsLkvnSlywcFdeeWU99SGdL/sdMuD37t3bALJgHor9HyYHD9Zsik0+AD0AoKOPPtqo2IqNn/cp44knnmjAL+kRUBcBNgF5DDRxBFgOwDVqW2Ua2EC6RYsWpi4AuO3btzflDa5kY/cDgGVYBUyeLNCKo2YyxwHrA+gAfABMAF1dunSJDehnTr3h3UxAC1BFe6GPgfnnG6YNYxrAJIJvCFCPCr5Tp07GwD+8owaM7jbbbCNrr722bLrpprLrrruadhucjAVzZYFWUBq1978FWo1U58v9FdLRPT0FsPj/hTy8vDdSNhNPJh+ghQF/EoxWsJCZgBYdL2AKOyRADOpGBpRgAHwBxNiolj3UAFJB9QDPw4ZxbdKkSWYAgvmKOzA4oLIBnGDbdPjhh8v48eNjU+lRb9iAYS+lTBODVN++fY3KiMErzgALwqAHaGQlG2wVgx0Mwx577GHYuyADwWAJGGOARBbBYIFWUBrx/4/aDHBFGwAI0z5OOOEEGTFiRMm2/MoEtGhLtCEmB3wzMKNsVQag53/aD3ZlqK4xqEcNHwZaTDYuv/xyo0rne8O1RSbmzgKt+NtdJcVogVYj1dbB7pkGZG3ktJdHvXmNlGr5JVMpQAsVFHYjeL0HaAEw8I6PTQlslgbUC9gR0XnTmcLEaIcLCAMY0KEDSlBTwDQlAbQYMOjsUV8wYNxwww31VJ2a37jOlA1DZmb8l1xySexpoZpBlqhbsQVDncwAiJpm5513NkAL+xoN2PfAKpCnIPPIfQu0VErJnGF/YRmxp+R/gAf1tmjRogagN5kcNIw1E9CCyYLRAsTTVlDrA7zYBSOseqbtYHcZBlp885QTVpX+gMlWpmCBVibpVP89C7QaqY5ZWXiCe5l8469qpBTLM5lKAVrkk8Edo14CQObqq682jNSLL76YEi7PoVZjgAdwYDuEWoEOnM4ZJ7GqzkoaaKGihFVgRSCLHlB9BkFhKtNF/gPgIS31h4ZxetwBhhC5YR8HOwKAxFAexgp7LYBVkNHi9y677GLqQYGu5kmBFnHZEL8EmGxQP6gOmYgw6WCBRrpVoPHnoGGMmYCWPg04og3RdlhwwYQonOdMQAvGGGaLVckw1jB5YZCvaVmgpZKozbMFWrVZ7yUrNcCEziubw1JmnaVUHZJPBvYgUEH1h4dxbDfoUOmogzNZDH/btm1rQA4ze0ABQIt46NB5D7szVJJRK5kKrRQGB/KpnTwg6OSTTzbOIslD3IFZPKvJ8NYNYxdW1RWTHoAW2WhZiIv2ArhiIAdIwlyFgRbsY5MmTYy8g+/yPjsRYINjHZYWUzOZ36V9M8EAHPPtlDpkA1qAcfLKN8lqbABikCHV/KcDWgBJ7BOZzBAPK2VZ+QpzHfU9WKClEq3NswVatVnvJSs1nbAyIcFVY+EMlRJoMdizChFWiHxo4BorqTA8h+li4Mf+Su22sOECSDE7ZtUkwAw7FWb7HNgzsaKOVXS8l27Zu6aXyxmARR5RRwKwCFzDfmTbbbc1vq5yiSfXZ6g/BheADapKQA0DVFyDK4MW7ilYOamACTu6rbbayjAlDObUASsg8dekAVu+1q1bS5Bt1HsMlhZoqTRq45wL0MIGC+B+xRVXmIkfbSdXRgvGFdWjPk9bZPcN+oYowGaBVm20u3SltEArnWSq4DruIlBVcrzrfyxDvfFyr/dkSUtWCUAL4IRbB1ZOKSPEoI+DzgMOOMA4ycQ3GZ6eWYlHh03AlQJG6B07djTgBzsjgAO2KhyoFWHEWJmFsW2QLSu0UoiHPAA+sGkiYEQOuNhhhx0M81Ro3OH3yC+ORAFCqAsBijB3qE7iciOB64ZNNtnEsE8KYElv6623NnY1gEmYTlZ2qt0MDALv4UOOZfvhYIFWWCLV/xtgk85ZKu0YJlqZJ9oR3zLtCpclwRDFaPEeRv/qbE3EUAAAIABJREFUmFWf79y5s1m4oeYGep0zHvP5RoMLZYL37f/VLQELtKqgfr/3f5RJ3iNyqjvMHCe5l8vWziGpFY66XyLno9yLSlribEALNolnADKs9sHegw4tDlASLDgzUdQdsE6salNVFNcBVRhdkwc6YQZ8QBPGsqg86YyxzWBFEqoHVGmAGwzmAWIYzaMu1ICaglkurAtpsUJLl5HrM4We6fABhQwI5Iu8wqxh14S7A/xSxREoAzYsGNqrzyqYgAEDBsjw4cMbDFCFpolKkkES1Qwyoo5wXgtbgGqW9oHfI+oBdosBE3YBZ7KwhkGWS/NggZZKonbO6Rgtvm8YWb5tdQ8CcMLvHKwpEwllUpFWFNCiXeqqyiArzfcGmFJmOShty2gFpVF7/1ugVQV1PtgbFwmqcIi6mXOQObZwOgkA7Ckv3mX4+YovG9CCocGGCVDDijbYGrzeA2wYZOMKMB8Yp6MeBPwAHnCyiDqAgD8cVINq5AtIotMlHwQ6bNQOAC0AFgc2G7BWqNSCgRnuww8/bEAKDk4BDvjVilIxBN/L9X8AFvZHMD+wWrA9zKABRmHD8FzjDD+HoS8rtXDIii3UbrvtZg5Wa3E9CCzD7+bzm8GP1VzIHS/jGByzUpNrgC4CgxurQQFcMI64duA37FpUsEArSirVfS0d0MKGCjC07777GvtCpEC/AnvNFmWo9MNAC39gyp7yPMAeZppJoAIt4sA+k3i4Hw4WaIUlUlu/LdCqgvrG0/xd3uMy0XvEHLBbr/jxrwSLQ1TZgBaMDB0VHRuDLowNS67p0JTqjysfpEFagCrOACLyp4G8ALxYUchy7ihnhLzDYM8MGTVh8H2NB9aFcpAGZQK0EFdcIIh0YHJQT+LrivyQRpyBgQRgSDrhI262kbRg5ZA7YBEAFZYVQBd1JQwE5Y6Su5bfAi2VRO2c0wEt+hEmVwBzWGplgFEdsoBEzQC4zrOw1pgCMJmhjdEH0faYYNE3cA2GC8fG+OLCNjPqe7BAq3baXlRJLdCKkoq9lpgE6JhyMYZPLAM24pqTgAVayVc5k7vD3PPSHke7l8jd3uOyxF8quLpJOqQDWqQLQIe9ZqUhExPYcxhgVtAqmwVbjTkBuysAtFCPq+d44mCxBkwqDo1RRZIeDGs6ltoCraRrvLzjt0CrvOun6nJngVbVVWnZF8gCreSrqKlzdKT5QtA+VP/f2Tky8QxlAlokDqPMKkPMAziHARLMM2w1KnH9H5ZYgRhxcB1VI2w2+6aGWddgIS3QCkqj9v63QKv26rykJbZAq6Tir8nELdBKvto/9b+Ux73nZLr3bOQxwXtIurhnyV7OcdLbHZR4hrIBrcQzEErAAq2QQGrspwVaNVbhpS6uBVqlroHaS98Crdqrcwu0aq/Oy7nEFmiVc+1UYd4s0KrCSi3zIlmgVeYVlED2LNBKQKg2yoIlYIFWwaKzLxYiAQu0CpGafacYCVigVYz0KvNdC7Qqs96qNdcWaFVrzZZpufIBWnG6c8hVHBi7YtQaNHrVd6PyE3WNd3FREBWHxpXEOVPe404vqtxxpkH81ANyzBS0zJnyY4FWJglW5z0LtKqzXiu1VBZoVWrNVWi+swEtBk781LDaB6ei6TZpjbv4pIt/qHfffdd4JWepN3521CcOAzl7M+KwFP85OCVlmTjPUyYCoABfWW+88YbZauOll14yy8A1jrjzrPEBSJAX2+KwxQde7VkFhX+fOIPWDSu2qBvkw7W4A45J8WeE53f8lyHPsB81yowHbuoAL/LUR/gZzZcFWiqJ2jlboFU7dV0JJbVAqxJqqYrymA1osWSagfW+++4zmzDj74ZBNenA0u1Zs2YZ3zos+cbTOk4JGcSVWeE33p/ZGuiYY46RPn36mL0EAVcKxPAAf8cddxg/PXiA58CBKOAxiUC6OHTFlw/e1DnwC8TG1WxZEyfIA4gC5thCCOeO+A3KxjjlW2bAIWVhA2/qgfpHzvfee68BwsQHuKON4MeILXvwZQSYYpl9eJk+z1uglW8tVP7zxQKtXPsc2iLfQCZGFWmSH7vXYeW3q0JLYIFWoZKz7xUkgWxAC0eADLRDhw41oIatb5JgTYKZJ368kAPu1KM6Az5b2jCY40EeoASAYj8zDrYG4jcgh8DzbBPDwK9xwMZ07drVPAvDlETA6zzb/+BcUbeggeXp0aOHHHXUUQaQxJUuLBN1w9YjAM4RI0bEDrRgppAvAAuGigGPzaJbtWqV2reRcrJlEptzA3JhwHAsOWTIkMh95izQiqsFVE482YAW7YpvB19ZTO6CwArgxDdEX8T3zTN6wBxrf0RfBsvN5IOtw2iH6QCXBVqV03aSyKkFWklI1caZVgLZgJa+CAsEUGgMoEWHC1DB+zPqKDpSOkz2DRwzZoxRD7IlB16kYb14Ptgxk2c65AsvvNCwcLAtBNgV2KV99tnHxKVli/OMGg8gAdAI7sMIUG3evLlMmTIlzuRMXDh4ZP/BpIAWcV933XUGRJEgG1fvuuuuRi1K3dxwww3SrVs3o1qkHmhT7Fs5d+7clBo3WGgLtILSqI3/MwEtJkUAI75lvhvYUt1HE+kAvI488kizr2f79u2NZ/gDDzxQOnToYLbvYeLF80xwYF7xGH/99debfTnZaisqWKAVJZXauWaBVu3UdVmUNFeg9eyzz5rOrjGAFoP1pEmTzObSABRms7AmqA9huVCZAbQAXqipAGPMZAFXdNoEOmfAARtLo24kALQuuugiA7QeffRRcy3uP6Rx8803S//+/Y1tFvEDBNlYmg2gYdniDmxPAmOWBNCiLpA9ModZgB1k0DvppJPk/fffNzLt3r279OvXz8gZppB96HguDH613BZoqSRq55wJaPHtAszZ7/Af//iHYa1hTzXAqtK+MA/o27dv6mDiwjfON8d39eCDD6a+f1T0l1xyiTE9oK8IBwu0whKprd8WaNVWfZe8tOUItBAKgzVgZcsttzRsyWWXXWbUVwzuBMALG8bS0WI7REcLwJk9e3aKRaFszHR1wGdj5GOPPVZ69eoVqwovXImAPVWzcY/ZOgMEgERZrvA7xfxOEmhpvhjMkD0yPv744w1bhfqWa82aNTPqROqAuhg3bpwZLNNtg2KBlkq1ds6ZgJZKgQkTKmnaWBBosYiFRSVBlou2RTtDdUhAdU1/EHwGZoyJIZOEcLBAKyyR2vptgVZt1XfJS1uuQAuwgp0Wg/r2228vO+ywg1x88cVGbYi6CnaFzpdn6Eh5fuzYsQbQwL6FA+XEXgvmB1YsKWP4cLrMpunwUbti5xSnMbym1RhAC0DFwoLzzjtPBg0aZNg6ysZKRNSIBx10kAGRgFoGTFgvBjlstsLBAq2wRKr/dy5AiwlJy5YtGwAt2hDfuNpi8T8TLGyxdBIFU73vvvuaNoq6kIkBbDg2jFHfnAVa1d/mMpXQAq1M0rH3YpdAOQItQBAuEbDTAkjRWWK7AdjC7goXEwAt8g6zpWHmzJnSqVMnYxwe7Fz5H/BFZ8wqwOCsV99N4kzeMMBHhcHsG/utJEJjAC3NNypZ1DjYZC1YsECWLFkiu+22m1n1yECpATsubGgWLVqkl1JnC7RSoqiZf4oBWkEhAbZYFAN7pWYC3Ad0tWjRQjbccENjh4nd4Pjx49N+6xZoBaVae/9boFV7dV7SEpcj0MIfFGwIdhsKpLjGAM2qQYAXqsWpU6ealW+6sgiGi8H9jDPOSIEaQBs2XnS8GMuikgB4abxJCR8giG8rVkmiUgOgJJVukkALuzd8mAESVc7Yz22++eZGppQR2zMWGfCsBlgvmC4Arr6n9yzQUknUzjkuoMUk67TTTjM+44Ltiu+cxTG4bFhnnXVkm222MUbxQRVkUNoWaAWlUXv/W6BVe3Ve0hLnA7RQu2GwqhR+UhmHKbniiiuMH6ZgGqwehB1CFQd46dixo2GKADWEOXPmGKDFoK+2Wdhy8Dw+rCgrs2DiUVuvYPxx/Y98AIb4t8KXFJ09wA7HqjhUjTsAtFBNXn311SlVSlxpABTbtGljBjEFp5Rrq622Mu4bMJTH/QOLDiizBlSMDHqsiAwHC7TCEqn+33EBLUD+ueeem7LNQnIALuy4cHPCGf96e+yxh2y00UbGTMAaw1d/+8q3hBZo5Ssx+3xREsgGtLCBgIlBhQebRGcGiFFwU1TiaV6GrQI0sFQbWwsC6WEPhDoRVxMwJdhksaKQjpY8ohbE4JzViTwPyAIYEteMGTMMEGNlEh3xq6++mib14i6TF1Ro+JS66qqrzMpI3BywOhJVBqAorqB1wwIAVHmXX365sWWJ0/6M+lZ3GAAtDlY37rjjjkbOAFfYR/yYoSYEZAIssa1jMQO+j8LBAq2wRKr/dxxAi7bWu3fv1EpDlRo2WbQ3vi3tl2h3LEBhksBkIBwsoxWWSG39tkCrtuq75KXNBrRQGQFwADUYPOPhfN68ecadQlLMFoM5rhtGjRplfOvAPsFC6ao21HB0rrBUAECWf8OcMIDzDsbYdMoYv7du3Vp2331348OK1XHYE1GGJJglKpO8Y2zfrl27euk2adLEeKNGjRlXQA7YSLFKi7o588wzzWpAlsvHVTcKbmELqQfYRpbZw1gpiOJ8/vnnG+CFKhEWj4EMAIg8wsECrbBEqv93LkCLdosxPPaMUSo/2hksKY6JgywVqm18veHENBiYsGGzyYQrqGbkGQu0gpKqvf8t0Kq9Oi9pibMBLexuGGRxtIkKDrURq89Qg+mKnyQKQEeKITl2WjBVGMDCYgEuNJA3gBYdL0wXtlvqBZ5yMcOFFeMgHg7+B5QBxJIIMGuAEfIbTJe0w0vUi00fR42wZVo3AFHqBlCqM/ti0+B9gCxOICkDtm4whkF7LH2G8rKykrrAjQWyiAoWaEVJpbqvZQJaTAr43nG/gkE7KwppX2FmFib7n//8p5nIBNsWKmt2K4Cl1nc4MwnBVlD7hKCELdAKSqP2/rdAq/bqvKQlzga0Spo5EQPm6ITTAQdmqnSq6e6XOv/VlD6DWzY580w2Ns0CrWpqFbmVJRPQwjwA5hQmeL/99jPsKKp+AFSwvcGQNm3a1Ewmgkwp7Q2AP3LkSAPw2ZoK5hhmjMlZ8FnNrQVaKonaPFugVZv1XrJSlzvQKplgbMKJScACrcREW7YRZwJamCew/U6QmcWWEoYrCJJQHbItF+rpMJgHkOHeBWN5GG7YV5hlZbjCgrFAKyyR2vptgVZt1XfJS6tAC8/KwVVjJc+YzUDVSsACraqt2rQFywS00r5UwA3MGWDAwzZZ4ags0ApLpLZ+W6BVW/Vd8tIq0MIhKLNK7Hs4sMuJ2rqi5Bku4wzc6j0oTZ2j5Xrv3jLOZeNmDUYCY2RtV5xZjYhRMzZ/NtSGBBoLaOUqTQu0cpVUdT5ngVZ11mvZlgqjcHxW7bLLLtK+fXuzSoeVOieffLIxgi/bjJdZxt71P5bfOLvLWmuOl/03Es/hUv8jecN/L/F0ikmAlWSs8uzcubNpW5wxaGa7FAzsbagNCSjQoj2UQ6hUoHWFN0F2c46Sm7wp5SDGtHn4yk9mF4y0CeZ5wwKtPAVmHy9OAtgw4K4Bn09s3MyBamfMmDFm1U5xsdfO24e55xmQtZNzhDzszZEf/dWJF34Tp6P8t7OPPOE9n3hahSbAii9WIWrb4jxkyBDjUwwbHBtqQwIAGyZvuGSB1cRYHVsr9ZOXpBRYoEFaQVYVdxDsaMBK4EoJ13h3pSZyTOhGeXeWZdZ/9n+RZs4xsoNzmDAZLMdggVY51orNk5VABgm84r9pOsC/Oq2kMWdyg71xJt11nP3lG39VhhzaW1YCpZUAftdYMYh/ORhzDswVWG0YNmyPO6c4EMahaZBV3XbbbWX//fc3nuTjTi+J+Pi+/+zsK//h7CHnuKPld05Tw6C/5Mfnly+ufGNCARDc3DlYAF3lGCzQKsdasXmyEsgggdPcq0zHAvApNtzo3S8Ap6e83DzIb+d0T4G8Bf6bxSZv37cSSEQC7EM4dOhQs7E7G8OzTdaVV15pHAcnDbRwZMpqRdLVA/9at956a6TX+EQEUGSkz/mLzHfe0uljYhri3Wp+93IHFRlz/K8f7J5p8naBO0Zu9x5tFHY/31JYoJWvxOzzVgIJSsDzPbncu1VmePPTpnKcO9h0LJO9p9I+w40X/dcE+j8TiDrUPdfE9Zg3LzKub/3v5R7vidS95f4KOcg9w7zT3DlWVvvRTkJTL9h/rARqRAL3ek/KHd5j8m+/4e4ElSYCBVrt3FNN1r/wv5bfOnvKX5yW8otft9drXGX6zv9eJngPyQ9+YU6dmSjCaJ3rXmvON3iT48pabPFYoBWbKG1EtSoBOp5x3gNyfxbgE5bPdd69sq3TTYLMEDMyOo0mTs/w46nfuQCtV/235A9OcxMXRvNTvadT7wf/UaD1uPdc8LL5nyXrgCnUBz8FbMD4//+czibuS72bGrxnL1gJ1JoELvNuMd8D3y7fxtt+wz03K0kmTNIoy97O8alsb+N0Ndc+9b9MXYvjn32dE028471pBUW3h9PbvH+YU2e3quCwoMgSeskCrYQEa6OtLgnc4j0o/+k0kw5uf7nWuyc1q4OB6uQOMB86HdMi/52cC642T39zWsss72V50psvf3RamLhgotKFk90rzDPDvImRjzi+Iwqg1nb2M8/u7vSq9yz55ui+htHq7w6XS9yb5E5veuo5bMHUNiNsbL/Qf9vYbGAn9r3/Y+od+4+VQC1KgH6B738z5yBz3tPpXdFigKn+f85eZrKmk6x/ON1M2eIGWvQxv3eaNmAC6XNY7Ui/NMa7r4GvMhiwEd7tsp1zqMkXfRF1wEHe+7iXF6xGZPI80XtEursDTb8Pm3eUe1HBdWqBVsGisy/WkgROdIekPmI+5H7ulab4qO/04+Z8vDs4Z7HAGCk7xbsKss53r88Yxzx/oUlzPadtJMhh9Y3maYm/1HQUsFJfrlkC/bX/beq+PqfnA93+qbRv8x42z/VwL0xdC/7T3j3N3H/Qmx28bP+3Eqg5CSjQmum9mGJ7n/UXVrQc9ndPNt/3I95cU46kGC1AFn1fMNzsTRX6N+2XOL/gvxZ8RA5xz653P/is/j+tgL7pY/9zUVtU4iF//+XsLcX0cxZo1as6+8NKIFoCzI704+VMxwB7pTNYABYquv9xWuZltwTYAlhp3Bs7B+a0og9AxDs93YsbZFiBllLo+7l9zbPM/ggr/e8EFo3j904zc28jp71c5U2UB7xZqfju82aYe5TR9d3Udf2HMpMHnrPBSqAcJfC5/5Vc5N4gg9yxpt0nlcdT3WHmW8C+UtWIp7jDkkoua7wwUqxI5ijUZgxHyHzfsONBG624VvbpimkYrSDQmuu/atLVPpEzdljkgUmirnju6w5N9V/BZ+mHcUWDOwrN63x/iZznXiew9IQP/c+E/vF1/916srzLe1w2dNqZ9PEfNtabYtqNxlPv4Tx+WKCVh7Dso7UrAQVa6zptRNkttVNSe6pdnaPMB5rJ+DwsQShqtVGgw6HDwOA0nVpQ3//I/8yAOjoV8gPYAUARFGhxnTDau9vEe6R7gfkd/HO0e4m5NzLCRw55o7zkCZuvcLBAKywR+7tcJIDa6S3/fVF1F204H7Y533LAXpEGkxLSVfCgLHK+8YWfZ1EKKrtsoAkj9t7uoBQ7Tp6YUAE0CPQFV3q3GbMBmJsz3Kvlbu/xcHLmN3ln4qiy44wqLY4w3Jsk6zsHyJsBWREv5eM6aemxldNFcCtxgHtK6hqAlqD+BPVZzqgQg0GBL/dYoUgY4I40cf3d2V9e85eZa9jVwfzrc2FziWCc+f5vgVa+ErPP16QEsBXgA9zeOdQYuvK/HnRsBBghrnV1z8lZRgqCAG0veK+Z2SPgiXjoFJ73F6dmcOFIdcap+WCGBiDSzkKB1gp/pen4sVsIB5yP8v7GTodIr+8KxOiQw8ECrbBE7O9ykQBMhH4XOLPkfyYwMLPY9uCu4AT3MilEtZSujCwcIR3sOVWtxf8EQAuTtSNCkx1W8SqzExUvDA7MDTZC+p0CTqKC+r7iOdRd9Cn/6xxo3gNshANghWcBG+kCBuo8oweuZeIIh7vnmzg3dTqasimjBQOpaXHGRANbUgWyeg+ZEGDu8Pel16ljnDgHA6YP3KeP0wkl72keYCOZuALoeO50d0Tw9Vj+t0ArFjHaSKpdAnyIfIQALQIzO/24sYMi4JWYDoPr0NzZAsyXrgzEGF7DM/4CMyho/Fd7d+itBuenvZcEX1gtnOPMwMEsFZodsDbFm5l6ns6H2X04MGtj5SNpRTFxzM6h0Id64+u9CgVPB817USsW6z1sf1gJNLIEgkALNZGuTLvYvdF8H/ptMSlhYUcxgcUn2DPiMFPjVV93THb4xt7xPjTgBwBEADxwj+cBUazyIxAXzApnwj7OCeYZ8qmgCdaMsNhfalg6JkPYir7jf2ieBVB84H9qnsE04dE1rlve8z8x1/hD+qqiow9CRoA6nsVuNGhCoGpR8hqX6wTKB9Om8ooCWqraY9uvICvFO//ybjYLiABi2odyHSZxoDta8PdFP0pQD/f0czBZ2Hph57qzc6RJH7cQ9HG8T78ZJ5OlArdASyVhz1YCGSQAgOFDVKBFp4Q7BzqrYKCDZVViLuEsd5QxuoxyPMpehszaUPfpqp9c4uQZQKF23Lm8w4yasuQCDokPFaWuZjzGvbTBaqBc0rTPWAkkKQEFWqjzCdhp8f3qwcCq4KsYI2dUdWpCQNysTOasK+DOdK826WBLuZHTwdyDdUZ1pnnhDFCDaVNgdYxzqVnlps/g545JjzJbTO70G+QZQAR2RKrqxx4T1b8G7ECD9qMwa0G12xZOp5SakPiCEzU19Oc6W3CF+zxNI98zq/i0fKgLCQDAvZzjUtf1frbzlmvYqOBz6tKG/jNo3B58BrMPVlrrNcBfEsECrSSkWk5xfvetyOuLRV55qbyOV18W+fyzcpJUxrxgI8FsFOao1gMMAB0Xqk1mzDZYCZSbBBRosX0MASZLB1NURIAQVERc6+KeFZl91Gbd3IFmL1EWvgACggH109bOISYO3Dk85D1jJjlB4IWPPLU5UrDH5OlY91/mPfxUkQfsj9RtC79/t0ZVqHlm8YvaS+3oHJ6yPevonm7eB9ihdsPxp5oeoMp8319usoyKjriYTGEAruYFGr+eYZbUxrON28+8C3PW1u2Xyh+qOlwfhOURlE0u/wcBTlBdh7sYGClUvnpQzkneI4Z1Z8sd8oPs2PQaFu55b7G0c041DB/vsPgh2DcxMUZNjEE8QI5+HFZslf+DsVGj/H9yWgirRpMIFmglIdWk4jyzj8ih7bMf3duJtNxFZIu/ivx9rfI+Nv1vkVa7Zi5Tnx4ig88XGX+jyIzHRObOyn7Mnyfy5YpYawLbiFxZn1gTLsPI6GR19U8ZZs9mqcYlEAZasMwMpjA/2CwSABxcU9YrLLIwC8K7+MzToJ7IdTEM1zFYD76Hmk9tiGCNsN2a471iTAxgp/CdRx4AZ6z85X9lw5QB45oeMFHqtw8VISxYU+docx9WjEBZcUfAO0wOcc8AC4U9JqwXTLnGxxm1nK5MBoTwXfNs1L6GCk55j7SLCfQhCkrxk1WqACBDlaigNIl8WKCVhFSTirPZP/IETb8R2X5DkQOaiXTZr7yOg1uK7LqFyLq/zbNMeQLH7TYQOWhfkUP2z/0AqJ7TT+SWMSKzZ4jMm53+WLhA5N92G5qkmryN10qgEAmEgRaDOmo+BVnEyf8AEUBDlKNhBn+YJPxJKXMVXFCiC0XYeocAoFHXAMrEBAEN/xMnuynwP3FiGxV8hrRYTMO145zBBgQpaOIa4Ioztki6Wk4dH7OrBEH9X2m84dXGql7kPvnFJgmGD7AB85MtYL/FNlwwesUGWDjqpVh2rNh8JP2+BVpJS7iY+H/4QeSY7iL3rPEAvugVkReeze1Y+nZlAICffxZ5563MZXr0QZGbRotcfJbIsYeKHNUp+9G1rcgOGycL4pQtXP/3IvvuXAfoAHW5HicdJXL9CJHpD4k8+Wj2Y/ZTIqiCbbASsBLIKAHAAEACW6hMAYYJlVyU+5LgewAB1ICsAtag6r8NnHaiqjnS7OwOSLE9qN1wpwALBcCCPVEQCNOFobc6/kXlB4uEfSWqRF0piGE79kyqgiSN4Oo/XCKws4M6SEVNSnoclI8FM8HwT+dwIxuMwcmfDclLwAKt5GVceAofvr+G8fmNyPv1HasVHmmNvfnNShFYpwUv5n48P1fkjltFLhog0quLSI+D0x/tmov8758aB9AB7GAAUQvDUhZzkO+Bp4qMuVqkQwuR9nv9CuhrrInY4lanBDAez8aUoLpDBVhIQB2nvvMAP6gM1Z1Dtvhg0LD7JLACDxDHquVMAZUeQCyKfcv0Xvge8RBHNtmE37O/C5eABVqFy65x3kTFxgALWLChPCXgunWs3JKFIrkesJMP3Csy+DyRE4/M7Tisg8hmf04O1HVOZsVNeVaazZWVQPESwC8XrFDQdULxsdoYqk0CFmiVe412amWBVrnXUWPmz3HqQN1br4sUcwD0LrtApN/RdQsNAPO0NRusBKwErASsBGKVgAVasYozgchgGRgEcYdgg5VAEhKALbVAKwnJ2jitBKwErATEAq1ybwSnHFM3CF5zZbnn1OavUiVggVal1pzNt5WAlUAFSMACrXKvpIen1AGtvj3LPaex5+/DDz+UCy+8UE499VQ5++yz5bjjjpMTTjhBBgwYIKeddpo5v/POO/Uc08WeiTwi9DxPVq9eLQsWLJDly5eLi+1WTGHRokXSr18/Of30040sevXqJX379pWzzjpLTj75ZCOnb775prDUcGgLo7Xl2rH7HissQ/YtKwErASuB6pGABVrlXpePTas4oLVixQr5dwy+pR588EHMo+9CAAAP4klEQVQZPXq0PPbYYzJ79mzZf//95ZxzzpEZM2bIU089Zf5/7bXXigZa33//vXz77bfiYP9URHj33Xdl+vTp0rVrV5k5c6b8jOuKGAJLwm+66Sa54YYbZNasWfL444/LdtttJ9dcc43MnTtXHn74YQPAvvrqq8JSw7v7/rvXtTNWXNpgJWAlYCVgJRCbBCzQik2UCUWEjyXYhjwYLZggBnwG+88+a9xtbgACjzzyiHz9df1NlWFbyBdMzyeffGIO2B8C9/T6e++9Z94F+AC0eAem6K233pIDDzzQgIxffvnFgJhp06bJp5/WbZ6q0v/pp5/k448/Ngdl5/3vvvvOxMG9zz//3KT9wQcfmHeJi7TuueceWbhwYVHgCGD1ww8/SKdOnQw4TAe0AKLki7xruZX94h7XKQOyWLVqlXzxxRcmfwqk5syZI82bNxdl8yjf3XffLQDGgsPhB1qgVbDw7ItWAlYCVgLpJWCBVnrZlMedPIHWs88+a5iOJ598UiZOnCi33XZbA9CTVMFeeeUVue666wwAABwFw+LFi+X666+X1q1byz777CNXXnmlARmwNbx3xBFHSLt27YwK7PnnnzfgCLAGECLce++9cuihh8qrr9Zt4kz8AI8wmAFc3XfffdKtWzfZbbfdpH///gZAEQ/3Bg4cKC1btpRTTjlF7r//fgPyiGvp0qWGPXv77beLYsgoT5cuXQzQDedN5UEdDRkyxOTvgAMOkFtvvdUANO7D1iGjzp07y+WXX24AJgAKWahMkR3yApQRKBv/631NJ6+zBVp5ics+bCVgJWAlkKsELNDKVVKlei4P1eGSJUvkggsukAkTJhhbIRghfr/wwguJ5x62CPAAi6ZMVTBRQAfMUe/evWWnnXYSWBllcQA5gwcPNupA2BvUjgAWDg3nnXeesUd6//339VK9+3qROAEmAL7NN99cbr75ZpMu97k+atQoufPOO4V4YJ8UnPDepEmTjOzIgwbuUx6ejTq4F8xnLkCLd0gDVmqvvfYSVI4ax0svvSSUFfAJuFJ1pt7n3L17d7nqqqsM26X51Pv6O+8zOxDAnN41Ie9X7QtWAlYCVgJWAuklYIFWetmUx50cgdaPP/4ow4cPN0biqNkIDzzwgPTp00cefbRuD6wkC4QN1aBBgwyblSmdqVOnGvsigBDACxUZrBtMVRRAIy4AzmGHHSZjx45NgaZMaXAPINWiRQs5+uijzf8AQZgubLsAMFHABHUixuWAHL0PUzR+/HjDwF1xxRUSPm655RYDmjQ/vJeN0dJnsbFaf/31U+rQN954w5QRlaGCUH1Wz+Rnjz32EBhLZfv0XlHnqffUAa1ehxQVTYOXf/xRZMrdddsnffBeg9v2gpWAlYCVQLVLwAKtcq/hHFWHqNt69uwpI0eOTA3AqA4PP/xwYzOVdDGHDh0q48aNM+q8TGkBcg466CDp2LGjMewGZMHipANZxPX666+b559++um0ACScJkAF4IfROLZcgCyMyFE3KoiKegfVImpKbKMIypBhRxY+Vq5caZ4LgyKM4VEBplMdaroAu2233VZOPPFEA+7GjBkjy5Yty1hGZLD33nsL72YKX375pQAucw7PzakDWnifjyOwfyV7OQY3DR9xWRwx2zisBKwErAQqSgIWaJV7deUAtFAvYf908MEHmxVoDPwAF9iXQw45RObNmxdZStRivJvLoSq2qIgY0GHOWB2YCTDxLiCH1XPbb7+9cddA3mDjogLxYjROObBbeuihh1KG7VHPh68B4HbddVdp06aNAU+ZQJa+C8sEaIRpyzfAvCmTduONNxpj9jAIC8aJTHFbscUWW8i5554rb775ZkpVGHyO/wF+qBhx8dC2bVsDTtPJjZWIkydPNnEC3LTukPuUKVMEENYgfP6ZyDr/IbLFX0UKXS2JO4unnxDp0+NXgMU+kHtuIzLycpFV3zVI1l6wErASsBKodglYoFXuNTxhbB3TMOCktDnFyBvj7l122cX4lgKYYJvVrFkzozpDFRUOAADYEQZ43sVXVaaDlYTpVrUBSmDTMPLWQT2cXvA3qk0M1TFuxz4rXUBNhs0XzBzqO0ACQEbtltK9p9d5DqPxbbbZRp577rm0TJY+zxnmCwN6Vb8G72X7n9WUMFkwe3fddZdxSZHNzcUzzzxj1IcwaahS04WPPvrIqIAxnIcFhKVDPmF2jnxj5A/bxqID6g1mDRCIPRj2e5FAi4TVxcNri9JlI/o6Cx/umSSy+1Z1bRVbr03+q24fx68LdDkRnZK9aiVgJWAlUHESsECr3Kusd9e6wevB+9LmVFftYV8E6IL9wBYJhgsj83QsE4wRqjwG3mwH7El4UNcModrr0aOHvPxy9m2CyBuuCABZW2+9tbE1SgecSI972CLpkQuQ03wBegAwG2+8sVx99dUGfOi9dGfcYqDKwz9XvoG8BfObic0ibgziYZn2228/w/AFjeLDaRM3MgA0cU4nsxdffNGwgABUbLmw+0KOODxlEQLOVNOqNHUD88V1KzvDeYj8/f6yuj0SAVccLXcRuXGUyFcRrFlkBPailYCVgJVAdUvAAq1yr1/d65BtUtIEVhdi98SgrQHmgtVpjWEIz2rHXIAWYA12CtUWDBMMHCvsAIdxhyeeeMKoz7Blwjgd9WEu4AkjczzQU6YkA4wTzlgBqTgcxSgew/q87KoiMgi4A1jBTqJmBEgTYNlQOeKjKx1gNptKA5Zenh8Rc8Ql4l73P+oA1oZ/EGm1q8iooSLz54m8/UbEC/aSlYCVgJVA7UnAAq1yr/McgBbqLlblwRQRYEpQCZ5//vlp1UQMyPPnzzdMD24Zsh2sKkxnE4QdEECL+NIN4qjQUKfBMqEig5U5/vjjZffddzfuJ9K9V0j1oBIlLZyBEi8AZsstt5Tbb789bRk0HVRybG0DE5RUwMEoNnW43VC1HgbuMFtxgE7iR01Iu1A289hjjzX2YBj0pw0XnlkHmoYPTvtIvRtHdqx7Xtms8BnbrMsvEpk9Q2TurOjjk4/qRWl/WAlYCVgJVJsELNAq9xrNAWgxYLM1Dd7NCbh1OOOMM4yNUDoAw3VsilitiE+rbAdG6YCjqAA7g38s1FVRz3ANuyHYouBAD+uEUTwG6Jnsk6LSTHcNtgzAqSCL5/AGz/Y92JGhnssUsIHCvi3Kri3Te7new1YK317IPWi/RbrrrbeeWVAQJcNc4+c57NhYBIBKGUCNbV3Tpk2NXBR4RcY347E64IS6OltgRSPACgN6tu156XmRWU+K9DtahJWLTbbMDMKCoGzfnUUO3LvuIB4brASsBKwEqkgCFmiVe2XmALRQD7HKDeYGg3SM4Vmhl86OR4sM2GIgzuVIB9iIC/shNnoG4KhbBK7DzsAuYfPE6kfsh0iLADuGPdQ//vEPadKkiQFiACK9bx7K8Q9AAlBBuWFy8NWlKjjiw0C8Q4cO8re//c2o6zDAT2endOmllxpfVmkNxnPMU/gxwA9qXLbnwbcXCwhUpjBQqFTXXntts80QBvIAT70fjivbb+JDlcziAcD0iBEjDKOHd/6MNm6zn6oDR7n60mqzZ93zJx4pEsVMvfqyyL/OFenZOfo48iCRbdatD8ieTN7nWzb52ftWAlYCVgJxSsACrTilmURcOQAtBmQGboALzBF2P9lAVtxZZSUcbhFYHacBJ6R4Ycc/FA5K+a0sDivmcEGAp3YM1bEhwi4qHQDSOKPOgAnKjUNT7J6QA2CDQHwwZ6QP4ACQwrwFAaHGCWBjxSFAp1hWSePUM3GychKVIbZ0MGYKerAj4x4+0Dj4HznqfY0jnzNbCaEqBXBjq9W+fXvD7GWMI1+gteAFkc3/pw4obfCfIiccIfLIVJE1e1hmTEtvArzfel2ElY4ca/yX6W17thKwErASqHQJWKBV7jWYA9AqhyJgF4ZPqKBX9XLIVz55wKEpYBH2qVIDTB42ZqgiYQ1h9DCCBwgry5e2bPkCLSL67FORc/qJYAyv6sDN/ixyw8i0ydgbVgJWAlYCtSQBC7TKvbYrBGghRlR2qC/jMOhu7GqBzWJBAKsh42azGrMsMJutWrUyrB72cKhCcXGBHV3WUAjQ0khx5zDxZpFD2tQ5K13vdyJL39a79mwlYCVgJVCzErBAq9yrvoKAFupK1F748AK4VEoAWLFKEeeecRnll6rs1AF2cahsr732WrNAIt1q0QZ5LAZoBSN7/GGRh6cEr9j/rQSsBKwEalYCFmiVe9VXENBClKinUMEFV/2Vu4jfeecd49sruCKy3POcLX/YwuVt4xUX0MqWOXvfSsBKwEqghiRggVa5V3aFAa1yF6fNXwYJWKCVQTj2lpWAlYCVQGESsECrMLk13lsKtJ6Z2Xhp2pRqUwJT76kzaM/VvUNtSsmW2krASsBKIC8JWKCVl7hK8PBFA+oGv9OOK0HiZZSk44j88ENux8qvRV58TmTSOJHB59f5csKfU6HHpQNF+vas23R50//+dXWdrrILn3Hiudv/iRzRUeSCMzKnO/g8kXHX1XlN/+Lz3MoXlgMuERa8KDL+xsxpZSu/bgrNNjo2WAlYCVgJWAnEIgELtGIRY4KRsH0JA/lWfxe5abTIt99EH76fYCZiihr/Sunyz3X8KN05XuSSc0QAmGwJc0x3kWbbibCKLQxoSvF73d+KbPaXzMfGfyyPvBYqH7taMKYGb6OxErASsBIQsUCr3FuB54mc3Cv7wL3zZiIDTxEZeGruB76OPl0u8uWK4g62TRl1Rfp0zz5ZpG3T4sDS//5JZPsNczv+uYmYDZKRB+AUpqfYY9pkkTdfwwNqbi0GuWLzhMuDTGmPu17k4rNEDm0vssvmuZUvLIcdNhJp11zk3NNEiC9TetnuPTYtt/LZp6wErASsBKwEcpKABVo5ianEDwG2Jt8pss9OIjtt2vBgoC2UvWjM9zb5r4Z5D5ZnvyYiZ/apAwu33yLCgauAD94TqQTGrsTNxCZvJWAlYCVgJVB+ErBAq/zqpLAczZ8ncs/E3I+7bxPp1UUEu5xiD9gUbI3Spj+pbtNh7KxssBKwErASsBKwEqghCVigVUOVbYtqJWAlYCVgJWAlYCXQuBKwQKtx5W1TsxKwErASsBKwErASqCEJWKBVQ5Vti2olYCVgJWAlYCVgJdC4ErBAq3HlbVOzErASsBKwErASsBKoIQlYoFVDlW2LaiVgJWAlYCVgJWAlkLsEHGe1FLuMywKt3OVtn7QSsBKwErASsBKwEqhwCSybNlgGT34zp1IsGNxaBs9fmdOz6R6yQCudZOx1KwErASsBKwErASuBKpPAchm81lqy1lrny3JTMkdWrlgpK5cvkzeXrUiV1Vn5gby57AOZOayzDJu/UlavXCEreOaDVeaZFcsWy2LzvCMrPlguq7m6eqUsX2n+k5XLl8uqNVTY/wek5XAZI9XC+QAAAABJRU5ErkJggg==)\n",
        "\n",
        "Now, let's take a look closely at this part $X^TX$. It is a matrix multiplication and that's the problem. Why? First, take a look at this matrix multiplication source code:\n",
        " > "
      ]
    },
    {
      "cell_type": "code",
      "metadata": {
        "id": "4qJGzQxHjjRe",
        "colab": {
          "base_uri": "https://localhost:8080/",
          "height": 69
        },
        "outputId": "193fc613-302e-4822-8b75-9ab17e3f1ccb"
      },
      "source": [
        "# Program to multiply two matrices using nested loops\n",
        "\n",
        "# 3x3 matrix\n",
        "X = [[12,7,3],\n",
        "    [4 ,5,6],\n",
        "    [7 ,8,9]]\n",
        "# 3x4 matrix\n",
        "Y = [[5,8,1,2],\n",
        "    [6,7,3,0],\n",
        "    [4,5,9,1]]\n",
        "# result is 3x4\n",
        "result = [[0,0,0,0],\n",
        "         [0,0,0,0],\n",
        "         [0,0,0,0]]\n",
        "\n",
        "# iterate through rows of X\n",
        "for i in range(len(X)):\n",
        "   # iterate through columns of Y\n",
        "   for j in range(len(Y[0])):\n",
        "       # iterate through rows of Y\n",
        "       for k in range(len(Y)):\n",
        "           result[i][j] += X[i][k] * Y[k][j]\n",
        "\n",
        "for r in result:\n",
        "   print(r)"
      ],
      "execution_count": null,
      "outputs": [
        {
          "output_type": "stream",
          "text": [
            "[114, 160, 60, 27]\n",
            "[74, 97, 73, 14]\n",
            "[119, 157, 112, 23]\n"
          ],
          "name": "stdout"
        }
      ]
    },
    {
      "cell_type": "markdown",
      "metadata": {
        "id": "qv70DVxRjq2F"
      },
      "source": [
        "Notice that the complexity of matrix multiplication is O($n^3$), which requires a lot of time as the data gets larger.\n",
        "\n",
        "Meanwhile, the complexity of gradient descent method is O($kn^2$), where k is the epoch. This is relatively much faster than the OLS method.\n",
        "\n",
        "So, that's why gradient descent is much better for multivariable linear regression with a lot of independent variables.\n",
        "\n",
        "Take a look at [this](https://www.coursera.org/learn/machine-learning/lecture/2DKxQ/normal-equation) great lecture video by Andrew Ng. he explains it very clearly.\n",
        "\n",
        "##**Conclusion**\n",
        "\n",
        "OLS Advantage:\n",
        "\n",
        "1.   Guaranteed Optimum Result\n",
        "2.   Straight-Forward Technique\n",
        "3.   No iteration needed\n",
        "\n",
        "OLS Disadvantage:\n",
        "\n",
        "1.   Has a O($n^3$) complexity, which will suffer a lot when the number of independent variable is large\n",
        "\n",
        "(Stochastic) Gradient Descent Advantage:\n",
        "1.   Has a O($kn^2$) complexity, works much faster with a large number of independent variable compared to OLS method.\n",
        "\n",
        "(Stochastic) Gradient Descent Disadvantage:\n",
        "1.   Need to determine the learning rate and epoches, which requires experience in this technique\n",
        "2.   Doesn't guarantee global optimum result\n",
        "3.   Much slower dealing with simple problem\n",
        "\n",
        "**So, always use OLS when the number of independent variable is small (like in this case), otherwise use gradient descent.**\n"
      ]
    }
  ]
}