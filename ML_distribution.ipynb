{
  "nbformat": 4,
  "nbformat_minor": 0,
  "metadata": {
    "celltoolbar": "Raw Cell Format",
    "kernelspec": {
      "display_name": "Python 3",
      "language": "python",
      "name": "python3"
    },
    "language_info": {
      "codemirror_mode": {
        "name": "ipython",
        "version": 3
      },
      "file_extension": ".py",
      "mimetype": "text/x-python",
      "name": "python",
      "nbconvert_exporter": "python",
      "pygments_lexer": "ipython3",
      "version": "3.7.6"
    },
    "colab": {
      "name": "ML_distribution.ipynb",
      "provenance": []
    }
  },
  "cells": [
    {
      "cell_type": "markdown",
      "metadata": {
        "id": "cXcLjVT7ESr7"
      },
      "source": [
        "<h1> This code below shows how to calulate mean & variance, and also how to plot some distributions </h1>\n",
        "\n",
        "First, import the required library"
      ]
    },
    {
      "cell_type": "code",
      "metadata": {
        "id": "srRFWdTDESsF"
      },
      "source": [
        "import numpy as np\n",
        "import matplotlib.pyplot as plt"
      ],
      "execution_count": null,
      "outputs": []
    },
    {
      "cell_type": "markdown",
      "metadata": {
        "id": "ghm3LaljESsH"
      },
      "source": [
        "<h2> I. Calculate The Mean And Variance of A Data. </h2>\n",
        "\n",
        "It's actually straight forward if you already know the formula\n",
        "\n",
        "**To calculate mean**:\n",
        "\n",
        "\\begin{equation*}\n",
        "\\mu = \\frac{\\sum_{i = 1}^{n} x_{i}}{n}\n",
        "\\end{equation*}\n",
        "\n",
        "**To calculate variance**:\n",
        "\n",
        "\\begin{equation*}\n",
        "\\sigma ^{2} = \\frac{\\sum_{i = 1}^{n} ( x_{i} - \\mu )^{2}}{n}\n",
        "\\end{equation*}\n",
        "\n",
        "n is the number of item in the data and x is the value of an item"
      ]
    },
    {
      "cell_type": "code",
      "metadata": {
        "scrolled": true,
        "id": "h9Z53KoTESsL"
      },
      "source": [
        "def CalculateMeanVariance(data):\n",
        "    total = 0\n",
        "    for x in data:\n",
        "        total += x\n",
        "    \n",
        "    mean = total/len(data)\n",
        "    \n",
        "    totalVariance = 0\n",
        "    for x in data:\n",
        "        totalVariance += (x - mean)**2\n",
        "        \n",
        "    variance = totalVariance/len(data)\n",
        "    \n",
        "    return mean, variance"
      ],
      "execution_count": null,
      "outputs": []
    },
    {
      "cell_type": "markdown",
      "metadata": {
        "id": "hHXZIOg5ESsM"
      },
      "source": [
        "Now to test our function, let's try on some data.\n",
        "Here we will use numpy library to generate data with specified mean and standard deviation.\n",
        "\n",
        "In this case, we generate a data which has 10000 values, having the mean value of 50 and standard deviation of 3"
      ]
    },
    {
      "cell_type": "code",
      "metadata": {
        "scrolled": true,
        "id": "kfk_W1htESsN",
        "outputId": "2aa994ae-5d79-42a2-d132-a932be154554"
      },
      "source": [
        "# generate data with 10000 values, having the mean value of 50 and standard deviation of 3\n",
        "data = np.random.normal(50,3,10000)\n",
        "print(data)"
      ],
      "execution_count": null,
      "outputs": [
        {
          "output_type": "stream",
          "text": [
            "[50.5581363  46.79389724 49.18073942 ... 51.10390105 49.42915865\n",
            " 51.90529557]\n"
          ],
          "name": "stdout"
        }
      ]
    },
    {
      "cell_type": "markdown",
      "metadata": {
        "id": "eXla3B5aESsP"
      },
      "source": [
        "Now, calculate the mean and variance of our data using the previously defined function.\n",
        "Remember that variance is the square of standard deviation.\n",
        "So, the mean of our data must approach 50 and the variance must approach 9"
      ]
    },
    {
      "cell_type": "code",
      "metadata": {
        "scrolled": true,
        "id": "irDXQPKWESsP",
        "outputId": "698edca1-b940-4d9f-9006-2ad8b15903ec"
      },
      "source": [
        "mean, variance = CalculateMeanVariance(data)\n",
        "print(\"Mean : {}, Variance : {}\".format(mean,variance))"
      ],
      "execution_count": null,
      "outputs": [
        {
          "output_type": "stream",
          "text": [
            "Mean : 49.99291500162579, Variance : 9.001058539722893\n"
          ],
          "name": "stdout"
        }
      ]
    },
    {
      "cell_type": "markdown",
      "metadata": {
        "id": "qXL36SuxESsR"
      },
      "source": [
        "So, our function works perfectly"
      ]
    },
    {
      "cell_type": "markdown",
      "metadata": {
        "id": "_IDwiGDcESsR"
      },
      "source": [
        "<h2> II. Plotting Continuous Distribution </h2>\n",
        "<h3> A. Normal Distribution </h3>\n",
        "<h4> 1. Plotting Normal Distribution Model Based on Mean and Variance </h4>\n",
        "\n",
        "        The Probability Distribution function of Normal Distribution is :\n",
        "\\begin{equation*}\n",
        "        X \\sim N(\\mu ,\\sigma ^2) \\: \\: \\: \\: \\:\n",
        "        f(x) = \\frac{1}{\\sqrt{2\\pi \\sigma ^2}}e^{-\\frac{1}{2}\\left ( \\frac{x-\\mu }{\\sigma } \\right )^2}\n",
        "\\end{equation*}"
      ]
    },
    {
      "cell_type": "code",
      "metadata": {
        "scrolled": true,
        "id": "MqCYPkSPESsS"
      },
      "source": [
        "def PlotNormalDistribution( mean = 0, squareVariance = 1):\n",
        "    '''\n",
        "    This function plots a gaussian distribution given a mean and square variance\n",
        "    '''\n",
        "    # our x is ranged from mean - 4 std to mean + 4 std because in this range, we can perfectly see the bell shaped curve\n",
        "    x = np.linspace( mean - 4*(squareVariance**0.5) , mean + 4*(squareVariance**0.5) )\n",
        "    y = (1/(2*np.pi*squareVariance)**(1/2)) * (np.e) ** (-1*((x - mean)**2)/(2*squareVariance))\n",
        "    plt.plot(x,y)"
      ],
      "execution_count": null,
      "outputs": []
    },
    {
      "cell_type": "markdown",
      "metadata": {
        "id": "O_L6W6pCESsT"
      },
      "source": [
        "        Try to plot N(10, 2.5)"
      ]
    },
    {
      "cell_type": "code",
      "metadata": {
        "id": "yqVVUFj8ESsU",
        "outputId": "68405a25-4e71-45fd-94e1-3291b65f2cf9"
      },
      "source": [
        "PlotNormalDistribution(10,2.5)"
      ],
      "execution_count": null,
      "outputs": [
        {
          "output_type": "display_data",
          "data": {
            "image/png": "[encoded data removed]",
            "text/plain": [
              "<Figure size 432x288 with 1 Axes>"
            ]
          },
          "metadata": {
            "tags": [],
            "needs_background": "light"
          }
        }
      ]
    },
    {
      "cell_type": "markdown",
      "metadata": {
        "id": "jBL0TmP5ESsV"
      },
      "source": [
        "<h4> 2. Plotting Normal Distribution Model Based on Given Data </h4>\n",
        "\n",
        "        We can use seaborn to automatically plot the histogram and its distribution using seaborn's distplot function"
      ]
    },
    {
      "cell_type": "code",
      "metadata": {
        "scrolled": false,
        "id": "fo1ErnNBESsW",
        "outputId": "515cde3d-13db-4bc0-d6f3-06e619a69f36"
      },
      "source": [
        "import seaborn as sns\n",
        "\n",
        "data = np.random.normal(50, 1, 10000)\n",
        "sns.distplot(data)"
      ],
      "execution_count": null,
      "outputs": [
        {
          "output_type": "execute_result",
          "data": {
            "text/plain": [
              "<matplotlib.axes._subplots.AxesSubplot at 0x253b7743788>"
            ]
          },
          "metadata": {
            "tags": []
          },
          "execution_count": 7
        },
        {
          "output_type": "display_data",
          "data": {
            "image/png": "[encoded data removed]",
            "text/plain": [
              "<Figure size 432x288 with 1 Axes>"
            ]
          },
          "metadata": {
            "tags": [],
            "needs_background": "light"
          }
        }
      ]
    },
    {
      "cell_type": "markdown",
      "metadata": {
        "id": "5FeZQkkFESsX"
      },
      "source": [
        "<h3> B. Gamma Distribution </h3>\n",
        "<h4> 1. Plotting Normal Distribution Model Based on Shape and Scale </h4>\n",
        "\n",
        "        The Probability Distribution function of Normal Distribution is :\n",
        "\\begin{equation*}\n",
        "        X \\sim Gamma(k,\\theta), \\: \\: \\: \\: \\:\n",
        "        f(x)= \\frac{x^{k-1}e^{-\\frac{x}{\\theta}}}{\\theta^k\\Gamma(k) }\\; \\; \\; , x>0, k>0 , \\theta >0\n",
        "\\end{equation*}\n",
        "\n",
        "where k is the shape of distribution and theta is the scale. For the practical use of gamma distribution, you can read it here http://wiki.stat.ucla.edu/socr/index.php/AP_Statistics_Curriculum_2007_Gamma\n",
        "\n",
        "\n",
        "\n",
        "We can use scipy built in function to calculate the pdf above"
      ]
    },
    {
      "cell_type": "code",
      "metadata": {
        "id": "XXu89hLMESsY"
      },
      "source": [
        "from scipy import stats as sp\n",
        "\n",
        "def PlotGammaDistribution( k, theta ):\n",
        "    x = np.linspace(sp.gamma.ppf(0.01, k, scale = theta),sp.gamma.ppf(0.99, k, scale = theta), 100)\n",
        "    y = sp.gamma.pdf(x, k, scale = theta)\n",
        "    plt.xticks(np.arange(min(x), max(x)+1))\n",
        "    plt.plot(x, y, 'r-')"
      ],
      "execution_count": null,
      "outputs": []
    },
    {
      "cell_type": "code",
      "metadata": {
        "id": "d-QFWEMvESsZ",
        "outputId": "279ae085-1736-4152-879f-a479ce97a907"
      },
      "source": [
        "#example of gamma distribution with k = 4 and theta = 2\n",
        "PlotGammaDistribution(4,2)"
      ],
      "execution_count": null,
      "outputs": [
        {
          "output_type": "display_data",
          "data": {
            "image/png": "[encoded data removed]",
            "text/plain": [
              "<Figure size 432x288 with 1 Axes>"
            ]
          },
          "metadata": {
            "tags": [],
            "needs_background": "light"
          }
        }
      ]
    },
    {
      "cell_type": "markdown",
      "metadata": {
        "id": "yOkMf3BMESsa"
      },
      "source": [
        "<h2> III. Plotting Discrete Distribution </h2>\n",
        "<h3> A. Uniform Discrete Distribution </h3>\n",
        "\n",
        "    This is the simplest discrete distribution, where all events are equally likely. The example is rolling a single die. All 6 sides has a 1/6 probability.\n",
        "\\begin{equation*}  \n",
        "    X\\sim U(a,b),  \\: \\: \\: \\: \\: P(x = c) = \\frac{1}{b-a+1}\n",
        "\\end{equation*}"
      ]
    },
    {
      "cell_type": "code",
      "metadata": {
        "id": "hwB4hTCKESsb"
      },
      "source": [
        "def PlotUniformDistribution( a, b):\n",
        "    size = b-a + 1\n",
        "    x = np.array(range(a,b+1))\n",
        "    y = []\n",
        "    for i in range(a, b+1):\n",
        "        y.append(1/size)\n",
        "    \n",
        "    plt.xticks(np.arange(min(x), max(x)+1, 1.0))\n",
        "    plt.plot(x,y,'ro')"
      ],
      "execution_count": null,
      "outputs": []
    },
    {
      "cell_type": "markdown",
      "metadata": {
        "id": "stuSTht9ESse"
      },
      "source": [
        "    Now, let's see the probability distribution of rolling a die"
      ]
    },
    {
      "cell_type": "code",
      "metadata": {
        "id": "5CUtersyESsf",
        "outputId": "96195ee5-c3f6-47d7-8217-b5d1320c12cd"
      },
      "source": [
        "PlotUniformDistribution(1,6)"
      ],
      "execution_count": null,
      "outputs": [
        {
          "output_type": "display_data",
          "data": {
            "image/png": "[encoded data removed]",
            "text/plain": [
              "<Figure size 432x288 with 1 Axes>"
            ]
          },
          "metadata": {
            "tags": [],
            "needs_background": "light"
          }
        }
      ]
    },
    {
      "cell_type": "markdown",
      "metadata": {
        "id": "08EAui7zESsg"
      },
      "source": [
        "<h3> B. Binomial Distribution </h3>\n",
        "\n",
        "    This distribution shows the probability of the number of True/Yes/1 outcome given n independents experiment. The great example is coin flipping. This distribution could help us to answer the question: \"if i flip a coin 10 times, what is the probability of a head showing only 2 times?\"\n",
        "\n",
        "\n",
        "\\begin{equation*}  \n",
        "    X\\sim B(n,p),  \\: \\: \\: \\: \\: P(x=k) = \\binom{n}{k}p^kq^{n-k}\n",
        "\\end{equation*}\n",
        "\n",
        "where n is the number of independent experiments (e.g. flipping coin), p is the probability of True/Yes/1 outcome (e.g. probability of head is 0.5), and q is the probability of False/No/0 outcome (1-p).\n",
        "\n",
        "k is showing the number of true/yes/1 outcome given n outcome\n",
        "\n"
      ]
    },
    {
      "cell_type": "code",
      "metadata": {
        "id": "EJexX6jDESsg"
      },
      "source": [
        "def fact(n): \n",
        "    res = 1 \n",
        "    for i in range(2, n+1): \n",
        "        res = res * i \n",
        "    return res \n",
        "\n",
        "def nCr(n, r): \n",
        "    return (fact(n) / (fact(r)  \n",
        "                * fact(n - r))) \n",
        "  \n",
        "def PlotBinomialDistribution(n,p):\n",
        "    x = np.array(range(0,n+1))\n",
        "    y = []\n",
        "    for k in x:\n",
        "        y.append(nCr(n,k)*(p**k)*(1-p)**(n-k))\n",
        "        \n",
        "    plt.xticks(np.arange(min(x), max(x)+1, 1.0))\n",
        "    plt.plot(x,y,'ro')"
      ],
      "execution_count": null,
      "outputs": []
    },
    {
      "cell_type": "markdown",
      "metadata": {
        "id": "fxj3asrpESsh"
      },
      "source": [
        "Now, let's answer the question \"if i flip a coin 10 times, what is the probability of a head showing only 2 times?\" In this case, n = 10 and p = 0.5"
      ]
    },
    {
      "cell_type": "code",
      "metadata": {
        "id": "suUW922kESsj",
        "outputId": "5c9ed7c6-0d0e-43c3-c27e-bd3ae5e8e287"
      },
      "source": [
        "PlotBinomialDistribution(10,0.5)"
      ],
      "execution_count": null,
      "outputs": [
        {
          "output_type": "display_data",
          "data": {
            "image/png": "[encoded data removed]",
            "text/plain": [
              "<Figure size 432x288 with 1 Axes>"
            ]
          },
          "metadata": {
            "tags": [],
            "needs_background": "light"
          }
        }
      ]
    },
    {
      "cell_type": "markdown",
      "metadata": {
        "id": "LxTCjxrvESsk"
      },
      "source": [
        "From the graph below p(x=2) is approximately 0.05, which is around 5%"
      ]
    },
    {
      "cell_type": "markdown",
      "metadata": {
        "id": "VE5OPSHYESsk"
      },
      "source": [
        "<h3> C. Poisson Distribution </h3>\n",
        "\n",
        "    This distribution expresses the probability of a given number of events occurring in a fixed interval of time or space if these events occur with a known constant mean rate and independently of the time since the last event. This distribution help us answer this kind of question \"If every 10 minutes there are 3 cars pass in front of me, what is the probability of 5 cars pass in front of me within 10 minutes?\".\n",
        "\n",
        "\n",
        "\\begin{equation*}  \n",
        "    X\\sim Pois(\\lambda),  \\: \\: \\: \\: \\: P(x = k) = \\frac{\\lambda^ke^{-\\lambda}}{k!}\n",
        "\\end{equation*}\n",
        "\n",
        "where lambda is the expected number of occurences within a fixed interval of time, and k is the number of occurences (that we want to know) within a fixed interval of time.\n"
      ]
    },
    {
      "cell_type": "code",
      "metadata": {
        "id": "NMrsbyhlESsl"
      },
      "source": [
        "def fact(n): \n",
        "    res = 1 \n",
        "    for i in range(2, n+1): \n",
        "        res = res * i \n",
        "    return res \n",
        "  \n",
        "def PlotPoissonDistribution(Lambda):\n",
        "    x = np.array(range(0,Lambda+10))\n",
        "    y = []\n",
        "    for k in x:\n",
        "        y.append( ( Lambda**k*np.exp(1)**(-Lambda) )/ fact(k))\n",
        "        \n",
        "    plt.xticks(np.arange(min(x), max(x)+1, 1.0))\n",
        "    plt.plot(x,y,'ro')"
      ],
      "execution_count": null,
      "outputs": []
    },
    {
      "cell_type": "markdown",
      "metadata": {
        "id": "3zN5ylqMESsm"
      },
      "source": [
        "So, to answer the previous question: \"If every 10 minutes there are 3 cars pass in front of me, what is the probability of 5 cars pass in front of me within 10 minutes?\". we could plot poiss(3) and look at the value p(x = 5)"
      ]
    },
    {
      "cell_type": "code",
      "metadata": {
        "id": "MtBmQIxDESsn",
        "outputId": "2ec35cdc-8add-469e-86f2-c45fee370447"
      },
      "source": [
        "PlotPoissonDistribution(3)"
      ],
      "execution_count": null,
      "outputs": [
        {
          "output_type": "display_data",
          "data": {
            "image/png": "[encoded data removed]",
            "text/plain": [
              "<Figure size 432x288 with 1 Axes>"
            ]
          },
          "metadata": {
            "tags": [],
            "needs_background": "light"
          }
        }
      ]
    },
    {
      "cell_type": "markdown",
      "metadata": {
        "id": "l9khutMAESso"
      },
      "source": [
        "So, the probability P(x = 5) is around 0.1 or approximately 10%"
      ]
    }
  ]
}